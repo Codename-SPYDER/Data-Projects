{
 "cells": [
  {
   "cell_type": "markdown",
   "metadata": {},
   "source": [
    "## PART 1: IMPORT DATASET AND BASIC CHECKS"
   ]
  },
  {
   "cell_type": "code",
   "execution_count": 9,
   "metadata": {},
   "outputs": [
    {
     "name": "stdout",
     "output_type": "stream",
     "text": [
      "/Users/siddiqkhan/Documents/Big Data/Basic_Methods/Module_2_Python\n"
     ]
    }
   ],
   "source": [
    "import os\n",
    "print(os.getcwd())"
   ]
  },
  {
   "cell_type": "code",
   "execution_count": 11,
   "metadata": {},
   "outputs": [],
   "source": [
    "#set working directory\n",
    "os.chdir('/Users/siddiqkhan/Documents/Big Data/Basic_Methods/Module_2_Python') # Provide the path here"
   ]
  },
  {
   "cell_type": "code",
   "execution_count": 10,
   "metadata": {},
   "outputs": [],
   "source": [
    "#we will use pandas for data manipulation\n",
    "import pandas as pd\n",
    "data = pd.read_csv('PREMIUM_FUEL.csv')\n"
   ]
  },
  {
   "cell_type": "code",
   "execution_count": 26,
   "metadata": {},
   "outputs": [
    {
     "name": "stdout",
     "output_type": "stream",
     "text": [
      "98714\n"
     ]
    }
   ],
   "source": [
    "#get the number of rows -\n",
    "print(len(data.index))"
   ]
  },
  {
   "cell_type": "code",
   "execution_count": 27,
   "metadata": {},
   "outputs": [
    {
     "data": {
      "text/plain": [
       "21"
      ]
     },
     "execution_count": 27,
     "metadata": {},
     "output_type": "execute_result"
    }
   ],
   "source": [
    "#get number of columns\n",
    "len(data.columns)"
   ]
  },
  {
   "cell_type": "code",
   "execution_count": 28,
   "metadata": {},
   "outputs": [
    {
     "data": {
      "text/html": [
       "<div>\n",
       "<style scoped>\n",
       "    .dataframe tbody tr th:only-of-type {\n",
       "        vertical-align: middle;\n",
       "    }\n",
       "\n",
       "    .dataframe tbody tr th {\n",
       "        vertical-align: top;\n",
       "    }\n",
       "\n",
       "    .dataframe thead th {\n",
       "        text-align: right;\n",
       "    }\n",
       "</style>\n",
       "<table border=\"1\" class=\"dataframe\">\n",
       "  <thead>\n",
       "    <tr style=\"text-align: right;\">\n",
       "      <th></th>\n",
       "      <th>TARGET</th>\n",
       "      <th>ID</th>\n",
       "      <th>CLIENT_GENDER</th>\n",
       "      <th>CLIENT_AGE_BAND</th>\n",
       "      <th>NUM_FMLY_MEMBERS</th>\n",
       "      <th>NUM_CARS_HH</th>\n",
       "      <th>CLIENT_REGION</th>\n",
       "      <th>PARTNERS_SHOPPED</th>\n",
       "      <th>AVG_WKLY_SPND_ALL_PARTNERS</th>\n",
       "      <th>REWARD_HIST_SEGMENT</th>\n",
       "      <th>...</th>\n",
       "      <th>CNT_VISITS_GAS_STATION</th>\n",
       "      <th>PROP_WKDAY_EVE</th>\n",
       "      <th>PROP_WKDAY_DAY</th>\n",
       "      <th>PROP_WKND</th>\n",
       "      <th>FUEL_TXNS_L12</th>\n",
       "      <th>AVG_FUEL_VOL_L12</th>\n",
       "      <th>SHOP_TXNS_L12</th>\n",
       "      <th>SHOP_AVG_SPEND_L12</th>\n",
       "      <th>FUEL_CARD_FLAG</th>\n",
       "      <th>DISTANCE_KM</th>\n",
       "    </tr>\n",
       "  </thead>\n",
       "  <tbody>\n",
       "    <tr>\n",
       "      <td>0</td>\n",
       "      <td>0</td>\n",
       "      <td>99105133</td>\n",
       "      <td>F</td>\n",
       "      <td>18 TO 24</td>\n",
       "      <td>2.0</td>\n",
       "      <td>1.0</td>\n",
       "      <td>F001</td>\n",
       "      <td>3.0</td>\n",
       "      <td>3.00411</td>\n",
       "      <td>No Redemptions L18 months</td>\n",
       "      <td>...</td>\n",
       "      <td>1.0</td>\n",
       "      <td>0.0</td>\n",
       "      <td>1.00</td>\n",
       "      <td>0.00</td>\n",
       "      <td>1.0</td>\n",
       "      <td>45.10</td>\n",
       "      <td>NaN</td>\n",
       "      <td>NaN</td>\n",
       "      <td>0</td>\n",
       "      <td>8.747049</td>\n",
       "    </tr>\n",
       "    <tr>\n",
       "      <td>1</td>\n",
       "      <td>0</td>\n",
       "      <td>99105134</td>\n",
       "      <td>M</td>\n",
       "      <td>65 TO 74</td>\n",
       "      <td>2.0</td>\n",
       "      <td>2.0</td>\n",
       "      <td>L002</td>\n",
       "      <td>3.0</td>\n",
       "      <td>13.70595</td>\n",
       "      <td>Retail Low-Volume Saver</td>\n",
       "      <td>...</td>\n",
       "      <td>7.0</td>\n",
       "      <td>0.0</td>\n",
       "      <td>0.75</td>\n",
       "      <td>0.25</td>\n",
       "      <td>2.0</td>\n",
       "      <td>24.59</td>\n",
       "      <td>NaN</td>\n",
       "      <td>NaN</td>\n",
       "      <td>0</td>\n",
       "      <td>13.796435</td>\n",
       "    </tr>\n",
       "    <tr>\n",
       "      <td>2</td>\n",
       "      <td>0</td>\n",
       "      <td>99105135</td>\n",
       "      <td>M</td>\n",
       "      <td>45 TO 54</td>\n",
       "      <td>NaN</td>\n",
       "      <td>NaN</td>\n",
       "      <td>B002</td>\n",
       "      <td>2.0</td>\n",
       "      <td>62.60922</td>\n",
       "      <td>Retail High-Volume</td>\n",
       "      <td>...</td>\n",
       "      <td>5.0</td>\n",
       "      <td>0.0</td>\n",
       "      <td>0.00</td>\n",
       "      <td>1.00</td>\n",
       "      <td>NaN</td>\n",
       "      <td>NaN</td>\n",
       "      <td>NaN</td>\n",
       "      <td>NaN</td>\n",
       "      <td>0</td>\n",
       "      <td>13.087894</td>\n",
       "    </tr>\n",
       "    <tr>\n",
       "      <td>3</td>\n",
       "      <td>0</td>\n",
       "      <td>99105136</td>\n",
       "      <td>F</td>\n",
       "      <td>35 TO 44</td>\n",
       "      <td>2.0</td>\n",
       "      <td>NaN</td>\n",
       "      <td>C003</td>\n",
       "      <td>6.0</td>\n",
       "      <td>32.83978</td>\n",
       "      <td>Retail Low-Volume Saver</td>\n",
       "      <td>...</td>\n",
       "      <td>7.0</td>\n",
       "      <td>0.0</td>\n",
       "      <td>0.00</td>\n",
       "      <td>1.00</td>\n",
       "      <td>1.0</td>\n",
       "      <td>30.82</td>\n",
       "      <td>1.0</td>\n",
       "      <td>6.0</td>\n",
       "      <td>0</td>\n",
       "      <td>18.092770</td>\n",
       "    </tr>\n",
       "    <tr>\n",
       "      <td>4</td>\n",
       "      <td>0</td>\n",
       "      <td>99105137</td>\n",
       "      <td>M</td>\n",
       "      <td>65 TO 74</td>\n",
       "      <td>2.0</td>\n",
       "      <td>2.0</td>\n",
       "      <td>D004</td>\n",
       "      <td>4.0</td>\n",
       "      <td>12.36114</td>\n",
       "      <td>Retail Low-Volume Saver</td>\n",
       "      <td>...</td>\n",
       "      <td>6.0</td>\n",
       "      <td>0.0</td>\n",
       "      <td>1.00</td>\n",
       "      <td>0.00</td>\n",
       "      <td>2.0</td>\n",
       "      <td>78.12</td>\n",
       "      <td>NaN</td>\n",
       "      <td>NaN</td>\n",
       "      <td>0</td>\n",
       "      <td>12.480857</td>\n",
       "    </tr>\n",
       "  </tbody>\n",
       "</table>\n",
       "<p>5 rows × 21 columns</p>\n",
       "</div>"
      ],
      "text/plain": [
       "   TARGET        ID CLIENT_GENDER CLIENT_AGE_BAND  NUM_FMLY_MEMBERS  \\\n",
       "0       0  99105133             F        18 TO 24               2.0   \n",
       "1       0  99105134             M        65 TO 74               2.0   \n",
       "2       0  99105135             M        45 TO 54               NaN   \n",
       "3       0  99105136             F        35 TO 44               2.0   \n",
       "4       0  99105137             M        65 TO 74               2.0   \n",
       "\n",
       "   NUM_CARS_HH CLIENT_REGION  PARTNERS_SHOPPED  AVG_WKLY_SPND_ALL_PARTNERS  \\\n",
       "0          1.0          F001               3.0                     3.00411   \n",
       "1          2.0          L002               3.0                    13.70595   \n",
       "2          NaN          B002               2.0                    62.60922   \n",
       "3          NaN          C003               6.0                    32.83978   \n",
       "4          2.0          D004               4.0                    12.36114   \n",
       "\n",
       "         REWARD_HIST_SEGMENT  ...  CNT_VISITS_GAS_STATION  PROP_WKDAY_EVE  \\\n",
       "0  No Redemptions L18 months  ...                     1.0             0.0   \n",
       "1    Retail Low-Volume Saver  ...                     7.0             0.0   \n",
       "2         Retail High-Volume  ...                     5.0             0.0   \n",
       "3    Retail Low-Volume Saver  ...                     7.0             0.0   \n",
       "4    Retail Low-Volume Saver  ...                     6.0             0.0   \n",
       "\n",
       "   PROP_WKDAY_DAY  PROP_WKND  FUEL_TXNS_L12  AVG_FUEL_VOL_L12  SHOP_TXNS_L12  \\\n",
       "0            1.00       0.00            1.0             45.10            NaN   \n",
       "1            0.75       0.25            2.0             24.59            NaN   \n",
       "2            0.00       1.00            NaN               NaN            NaN   \n",
       "3            0.00       1.00            1.0             30.82            1.0   \n",
       "4            1.00       0.00            2.0             78.12            NaN   \n",
       "\n",
       "   SHOP_AVG_SPEND_L12  FUEL_CARD_FLAG  DISTANCE_KM  \n",
       "0                 NaN               0     8.747049  \n",
       "1                 NaN               0    13.796435  \n",
       "2                 NaN               0    13.087894  \n",
       "3                 6.0               0    18.092770  \n",
       "4                 NaN               0    12.480857  \n",
       "\n",
       "[5 rows x 21 columns]"
      ]
     },
     "execution_count": 28,
     "metadata": {},
     "output_type": "execute_result"
    }
   ],
   "source": [
    "#see a sample of data\n",
    "data.head(5)"
   ]
  },
  {
   "cell_type": "code",
   "execution_count": 19,
   "metadata": {},
   "outputs": [
    {
     "name": "stdout",
     "output_type": "stream",
     "text": [
      "<class 'pandas.core.frame.DataFrame'>\n",
      "RangeIndex: 98714 entries, 0 to 98713\n",
      "Data columns (total 21 columns):\n",
      "TARGET                        98714 non-null int64\n",
      "ID                            98714 non-null int64\n",
      "CLIENT_GENDER                 89002 non-null object\n",
      "CLIENT_AGE_BAND               88604 non-null object\n",
      "NUM_FMLY_MEMBERS              98714 non-null float64\n",
      "NUM_CARS_HH                   98714 non-null float64\n",
      "CLIENT_REGION                 89547 non-null object\n",
      "PARTNERS_SHOPPED              98714 non-null float64\n",
      "AVG_WKLY_SPND_ALL_PARTNERS    98714 non-null float64\n",
      "REWARD_HIST_SEGMENT           98164 non-null object\n",
      "ENDING_PT_BALANCE             98714 non-null int64\n",
      "CNT_VISITS_GAS_STATION        98714 non-null float64\n",
      "PROP_WKDAY_EVE                98714 non-null float64\n",
      "PROP_WKDAY_DAY                98714 non-null float64\n",
      "PROP_WKND                     98714 non-null float64\n",
      "FUEL_TXNS_L12                 98714 non-null float64\n",
      "AVG_FUEL_VOL_L12              98714 non-null float64\n",
      "SHOP_TXNS_L12                 98714 non-null float64\n",
      "SHOP_AVG_SPEND_L12            98714 non-null float64\n",
      "FUEL_CARD_FLAG                98714 non-null int64\n",
      "DISTANCE_KM                   98714 non-null float64\n",
      "dtypes: float64(13), int64(4), object(4)\n",
      "memory usage: 15.8+ MB\n"
     ]
    }
   ],
   "source": [
    "#see some basic info about your dataset (similar to str() in R)\n",
    "data.info()"
   ]
  },
  {
   "cell_type": "code",
   "execution_count": 24,
   "metadata": {},
   "outputs": [
    {
     "name": "stdout",
     "output_type": "stream",
     "text": [
      "<class 'pandas.core.frame.DataFrame'>\n",
      "RangeIndex: 98714 entries, 0 to 98713\n",
      "Data columns (total 21 columns):\n",
      "TARGET                        98714 non-null int64\n",
      "ID                            98714 non-null int64\n",
      "CLIENT_GENDER                 89002 non-null object\n",
      "CLIENT_AGE_BAND               88604 non-null object\n",
      "NUM_FMLY_MEMBERS              98714 non-null float64\n",
      "NUM_CARS_HH                   98714 non-null float64\n",
      "CLIENT_REGION                 89547 non-null object\n",
      "PARTNERS_SHOPPED              98714 non-null float64\n",
      "AVG_WKLY_SPND_ALL_PARTNERS    98714 non-null float64\n",
      "REWARD_HIST_SEGMENT           98164 non-null object\n",
      "ENDING_PT_BALANCE             98714 non-null int64\n",
      "CNT_VISITS_GAS_STATION        98714 non-null float64\n",
      "PROP_WKDAY_EVE                98714 non-null float64\n",
      "PROP_WKDAY_DAY                98714 non-null float64\n",
      "PROP_WKND                     98714 non-null float64\n",
      "FUEL_TXNS_L12                 98714 non-null float64\n",
      "AVG_FUEL_VOL_L12              98714 non-null float64\n",
      "SHOP_TXNS_L12                 98714 non-null float64\n",
      "SHOP_AVG_SPEND_L12            98714 non-null float64\n",
      "FUEL_CARD_FLAG                98714 non-null int64\n",
      "DISTANCE_KM                   98714 non-null float64\n",
      "dtypes: float64(13), int64(4), object(4)\n",
      "memory usage: 15.8+ MB\n"
     ]
    }
   ],
   "source": [
    "data.info('CLIENT_AGE_BAND')"
   ]
  },
  {
   "cell_type": "code",
   "execution_count": 30,
   "metadata": {},
   "outputs": [
    {
     "data": {
      "text/html": [
       "<div>\n",
       "<style scoped>\n",
       "    .dataframe tbody tr th:only-of-type {\n",
       "        vertical-align: middle;\n",
       "    }\n",
       "\n",
       "    .dataframe tbody tr th {\n",
       "        vertical-align: top;\n",
       "    }\n",
       "\n",
       "    .dataframe thead th {\n",
       "        text-align: right;\n",
       "    }\n",
       "</style>\n",
       "<table border=\"1\" class=\"dataframe\">\n",
       "  <thead>\n",
       "    <tr style=\"text-align: right;\">\n",
       "      <th></th>\n",
       "      <th>TARGET</th>\n",
       "      <th>ID</th>\n",
       "      <th>NUM_FMLY_MEMBERS</th>\n",
       "      <th>NUM_CARS_HH</th>\n",
       "      <th>PARTNERS_SHOPPED</th>\n",
       "      <th>AVG_WKLY_SPND_ALL_PARTNERS</th>\n",
       "      <th>ENDING_PT_BALANCE</th>\n",
       "      <th>CNT_VISITS_GAS_STATION</th>\n",
       "      <th>PROP_WKDAY_EVE</th>\n",
       "      <th>PROP_WKDAY_DAY</th>\n",
       "      <th>PROP_WKND</th>\n",
       "      <th>FUEL_TXNS_L12</th>\n",
       "      <th>AVG_FUEL_VOL_L12</th>\n",
       "      <th>SHOP_TXNS_L12</th>\n",
       "      <th>SHOP_AVG_SPEND_L12</th>\n",
       "      <th>FUEL_CARD_FLAG</th>\n",
       "      <th>DISTANCE_KM</th>\n",
       "    </tr>\n",
       "  </thead>\n",
       "  <tbody>\n",
       "    <tr>\n",
       "      <td>count</td>\n",
       "      <td>98714.000000</td>\n",
       "      <td>9.871400e+04</td>\n",
       "      <td>56924.000000</td>\n",
       "      <td>52575.000000</td>\n",
       "      <td>98466.000000</td>\n",
       "      <td>98465.000000</td>\n",
       "      <td>98714.000000</td>\n",
       "      <td>98713.000000</td>\n",
       "      <td>98714.000000</td>\n",
       "      <td>98714.000000</td>\n",
       "      <td>98714.000000</td>\n",
       "      <td>84831.000000</td>\n",
       "      <td>84908.000000</td>\n",
       "      <td>48259.000000</td>\n",
       "      <td>48259.000000</td>\n",
       "      <td>98714.000000</td>\n",
       "      <td>98714.000000</td>\n",
       "    </tr>\n",
       "    <tr>\n",
       "      <td>mean</td>\n",
       "      <td>0.208998</td>\n",
       "      <td>9.915449e+07</td>\n",
       "      <td>2.894737</td>\n",
       "      <td>1.728236</td>\n",
       "      <td>2.963693</td>\n",
       "      <td>46.167885</td>\n",
       "      <td>4919.443433</td>\n",
       "      <td>11.118323</td>\n",
       "      <td>0.135107</td>\n",
       "      <td>0.580036</td>\n",
       "      <td>0.284857</td>\n",
       "      <td>10.249909</td>\n",
       "      <td>327.959795</td>\n",
       "      <td>5.660664</td>\n",
       "      <td>4.674817</td>\n",
       "      <td>0.037077</td>\n",
       "      <td>10.033388</td>\n",
       "    </tr>\n",
       "    <tr>\n",
       "      <td>std</td>\n",
       "      <td>0.406595</td>\n",
       "      <td>2.849642e+04</td>\n",
       "      <td>1.344243</td>\n",
       "      <td>0.923183</td>\n",
       "      <td>1.236660</td>\n",
       "      <td>81.502148</td>\n",
       "      <td>11529.172773</td>\n",
       "      <td>16.817524</td>\n",
       "      <td>0.228338</td>\n",
       "      <td>0.343604</td>\n",
       "      <td>0.307625</td>\n",
       "      <td>16.846474</td>\n",
       "      <td>747.989781</td>\n",
       "      <td>13.335370</td>\n",
       "      <td>7.600509</td>\n",
       "      <td>0.188951</td>\n",
       "      <td>3.689799</td>\n",
       "    </tr>\n",
       "    <tr>\n",
       "      <td>min</td>\n",
       "      <td>0.000000</td>\n",
       "      <td>9.910513e+07</td>\n",
       "      <td>1.000000</td>\n",
       "      <td>0.000000</td>\n",
       "      <td>0.000000</td>\n",
       "      <td>0.000000</td>\n",
       "      <td>-6324.000000</td>\n",
       "      <td>1.000000</td>\n",
       "      <td>0.000000</td>\n",
       "      <td>0.000000</td>\n",
       "      <td>0.000000</td>\n",
       "      <td>1.000000</td>\n",
       "      <td>1.000000</td>\n",
       "      <td>1.000000</td>\n",
       "      <td>0.000000</td>\n",
       "      <td>0.000000</td>\n",
       "      <td>0.000000</td>\n",
       "    </tr>\n",
       "    <tr>\n",
       "      <td>25%</td>\n",
       "      <td>0.000000</td>\n",
       "      <td>9.912981e+07</td>\n",
       "      <td>2.000000</td>\n",
       "      <td>1.000000</td>\n",
       "      <td>2.000000</td>\n",
       "      <td>12.087390</td>\n",
       "      <td>728.000000</td>\n",
       "      <td>2.000000</td>\n",
       "      <td>0.000000</td>\n",
       "      <td>0.333333</td>\n",
       "      <td>0.000000</td>\n",
       "      <td>1.000000</td>\n",
       "      <td>35.010000</td>\n",
       "      <td>1.000000</td>\n",
       "      <td>2.150000</td>\n",
       "      <td>0.000000</td>\n",
       "      <td>9.812254</td>\n",
       "    </tr>\n",
       "    <tr>\n",
       "      <td>50%</td>\n",
       "      <td>0.000000</td>\n",
       "      <td>9.915449e+07</td>\n",
       "      <td>3.000000</td>\n",
       "      <td>2.000000</td>\n",
       "      <td>3.000000</td>\n",
       "      <td>29.583220</td>\n",
       "      <td>2011.000000</td>\n",
       "      <td>5.000000</td>\n",
       "      <td>0.000000</td>\n",
       "      <td>0.617021</td>\n",
       "      <td>0.209302</td>\n",
       "      <td>4.000000</td>\n",
       "      <td>99.030000</td>\n",
       "      <td>2.000000</td>\n",
       "      <td>3.290000</td>\n",
       "      <td>0.000000</td>\n",
       "      <td>10.966584</td>\n",
       "    </tr>\n",
       "    <tr>\n",
       "      <td>75%</td>\n",
       "      <td>0.000000</td>\n",
       "      <td>9.917917e+07</td>\n",
       "      <td>4.000000</td>\n",
       "      <td>2.000000</td>\n",
       "      <td>4.000000</td>\n",
       "      <td>62.245590</td>\n",
       "      <td>5097.000000</td>\n",
       "      <td>13.000000</td>\n",
       "      <td>0.200000</td>\n",
       "      <td>0.904762</td>\n",
       "      <td>0.433209</td>\n",
       "      <td>12.000000</td>\n",
       "      <td>344.015000</td>\n",
       "      <td>5.000000</td>\n",
       "      <td>5.092500</td>\n",
       "      <td>0.000000</td>\n",
       "      <td>11.713106</td>\n",
       "    </tr>\n",
       "    <tr>\n",
       "      <td>max</td>\n",
       "      <td>1.000000</td>\n",
       "      <td>9.920385e+07</td>\n",
       "      <td>10.000000</td>\n",
       "      <td>9.000000</td>\n",
       "      <td>13.000000</td>\n",
       "      <td>15342.317340</td>\n",
       "      <td>693385.000000</td>\n",
       "      <td>1012.000000</td>\n",
       "      <td>1.000000</td>\n",
       "      <td>1.000000</td>\n",
       "      <td>1.000000</td>\n",
       "      <td>649.000000</td>\n",
       "      <td>37232.370000</td>\n",
       "      <td>526.000000</td>\n",
       "      <td>416.690000</td>\n",
       "      <td>1.000000</td>\n",
       "      <td>24.559018</td>\n",
       "    </tr>\n",
       "  </tbody>\n",
       "</table>\n",
       "</div>"
      ],
      "text/plain": [
       "             TARGET            ID  NUM_FMLY_MEMBERS   NUM_CARS_HH  \\\n",
       "count  98714.000000  9.871400e+04      56924.000000  52575.000000   \n",
       "mean       0.208998  9.915449e+07          2.894737      1.728236   \n",
       "std        0.406595  2.849642e+04          1.344243      0.923183   \n",
       "min        0.000000  9.910513e+07          1.000000      0.000000   \n",
       "25%        0.000000  9.912981e+07          2.000000      1.000000   \n",
       "50%        0.000000  9.915449e+07          3.000000      2.000000   \n",
       "75%        0.000000  9.917917e+07          4.000000      2.000000   \n",
       "max        1.000000  9.920385e+07         10.000000      9.000000   \n",
       "\n",
       "       PARTNERS_SHOPPED  AVG_WKLY_SPND_ALL_PARTNERS  ENDING_PT_BALANCE  \\\n",
       "count      98466.000000                98465.000000       98714.000000   \n",
       "mean           2.963693                   46.167885        4919.443433   \n",
       "std            1.236660                   81.502148       11529.172773   \n",
       "min            0.000000                    0.000000       -6324.000000   \n",
       "25%            2.000000                   12.087390         728.000000   \n",
       "50%            3.000000                   29.583220        2011.000000   \n",
       "75%            4.000000                   62.245590        5097.000000   \n",
       "max           13.000000                15342.317340      693385.000000   \n",
       "\n",
       "       CNT_VISITS_GAS_STATION  PROP_WKDAY_EVE  PROP_WKDAY_DAY     PROP_WKND  \\\n",
       "count            98713.000000    98714.000000    98714.000000  98714.000000   \n",
       "mean                11.118323        0.135107        0.580036      0.284857   \n",
       "std                 16.817524        0.228338        0.343604      0.307625   \n",
       "min                  1.000000        0.000000        0.000000      0.000000   \n",
       "25%                  2.000000        0.000000        0.333333      0.000000   \n",
       "50%                  5.000000        0.000000        0.617021      0.209302   \n",
       "75%                 13.000000        0.200000        0.904762      0.433209   \n",
       "max               1012.000000        1.000000        1.000000      1.000000   \n",
       "\n",
       "       FUEL_TXNS_L12  AVG_FUEL_VOL_L12  SHOP_TXNS_L12  SHOP_AVG_SPEND_L12  \\\n",
       "count   84831.000000      84908.000000   48259.000000        48259.000000   \n",
       "mean       10.249909        327.959795       5.660664            4.674817   \n",
       "std        16.846474        747.989781      13.335370            7.600509   \n",
       "min         1.000000          1.000000       1.000000            0.000000   \n",
       "25%         1.000000         35.010000       1.000000            2.150000   \n",
       "50%         4.000000         99.030000       2.000000            3.290000   \n",
       "75%        12.000000        344.015000       5.000000            5.092500   \n",
       "max       649.000000      37232.370000     526.000000          416.690000   \n",
       "\n",
       "       FUEL_CARD_FLAG   DISTANCE_KM  \n",
       "count    98714.000000  98714.000000  \n",
       "mean         0.037077     10.033388  \n",
       "std          0.188951      3.689799  \n",
       "min          0.000000      0.000000  \n",
       "25%          0.000000      9.812254  \n",
       "50%          0.000000     10.966584  \n",
       "75%          0.000000     11.713106  \n",
       "max          1.000000     24.559018  "
      ]
     },
     "execution_count": 30,
     "metadata": {},
     "output_type": "execute_result"
    }
   ],
   "source": [
    "#see some basic summary stats about the data (similar to summary() in R)\n",
    "data.describe()"
   ]
  },
  {
   "cell_type": "code",
   "execution_count": 31,
   "metadata": {
    "scrolled": true
   },
   "outputs": [
    {
     "data": {
      "text/plain": [
       "TARGET                            0\n",
       "ID                                0\n",
       "CLIENT_GENDER                  9712\n",
       "CLIENT_AGE_BAND               10110\n",
       "NUM_FMLY_MEMBERS              41790\n",
       "NUM_CARS_HH                   46139\n",
       "CLIENT_REGION                  9167\n",
       "PARTNERS_SHOPPED                248\n",
       "AVG_WKLY_SPND_ALL_PARTNERS      249\n",
       "REWARD_HIST_SEGMENT             550\n",
       "ENDING_PT_BALANCE                 0\n",
       "CNT_VISITS_GAS_STATION            1\n",
       "PROP_WKDAY_EVE                    0\n",
       "PROP_WKDAY_DAY                    0\n",
       "PROP_WKND                         0\n",
       "FUEL_TXNS_L12                 13883\n",
       "AVG_FUEL_VOL_L12              13806\n",
       "SHOP_TXNS_L12                 50455\n",
       "SHOP_AVG_SPEND_L12            50455\n",
       "FUEL_CARD_FLAG                    0\n",
       "DISTANCE_KM                       0\n",
       "dtype: int64"
      ]
     },
     "execution_count": 31,
     "metadata": {},
     "output_type": "execute_result"
    }
   ],
   "source": [
    "#see number of missing values for each column\n",
    "#ask the class, if you want % what would you do?\n",
    "data.isnull().sum()"
   ]
  },
  {
   "cell_type": "code",
   "execution_count": 32,
   "metadata": {},
   "outputs": [
    {
     "data": {
      "text/html": [
       "<div>\n",
       "<style scoped>\n",
       "    .dataframe tbody tr th:only-of-type {\n",
       "        vertical-align: middle;\n",
       "    }\n",
       "\n",
       "    .dataframe tbody tr th {\n",
       "        vertical-align: top;\n",
       "    }\n",
       "\n",
       "    .dataframe thead th {\n",
       "        text-align: right;\n",
       "    }\n",
       "</style>\n",
       "<table border=\"1\" class=\"dataframe\">\n",
       "  <thead>\n",
       "    <tr style=\"text-align: right;\">\n",
       "      <th></th>\n",
       "      <th>TARGET</th>\n",
       "    </tr>\n",
       "  </thead>\n",
       "  <tbody>\n",
       "    <tr>\n",
       "      <td>count</td>\n",
       "      <td>98714.000000</td>\n",
       "    </tr>\n",
       "    <tr>\n",
       "      <td>mean</td>\n",
       "      <td>0.208998</td>\n",
       "    </tr>\n",
       "    <tr>\n",
       "      <td>std</td>\n",
       "      <td>0.406595</td>\n",
       "    </tr>\n",
       "    <tr>\n",
       "      <td>min</td>\n",
       "      <td>0.000000</td>\n",
       "    </tr>\n",
       "    <tr>\n",
       "      <td>25%</td>\n",
       "      <td>0.000000</td>\n",
       "    </tr>\n",
       "    <tr>\n",
       "      <td>50%</td>\n",
       "      <td>0.000000</td>\n",
       "    </tr>\n",
       "    <tr>\n",
       "      <td>75%</td>\n",
       "      <td>0.000000</td>\n",
       "    </tr>\n",
       "    <tr>\n",
       "      <td>max</td>\n",
       "      <td>1.000000</td>\n",
       "    </tr>\n",
       "  </tbody>\n",
       "</table>\n",
       "</div>"
      ],
      "text/plain": [
       "             TARGET\n",
       "count  98714.000000\n",
       "mean       0.208998\n",
       "std        0.406595\n",
       "min        0.000000\n",
       "25%        0.000000\n",
       "50%        0.000000\n",
       "75%        0.000000\n",
       "max        1.000000"
      ]
     },
     "execution_count": 32,
     "metadata": {},
     "output_type": "execute_result"
    },
    {
     "data": {
      "image/png": "[encoded data removed]",
      "text/plain": [
       "<Figure size 432x288 with 1 Axes>"
      ]
     },
     "metadata": {
      "needs_background": "light"
     },
     "output_type": "display_data"
    }
   ],
   "source": [
    "#check distribution of target variable\n",
    "data.hist(column='TARGET')\n",
    "data[['TARGET']].describe()"
   ]
  },
  {
   "cell_type": "markdown",
   "metadata": {},
   "source": [
    "## PART 2: DATA EXPLORATION: CATEGORICAL FEATURES"
   ]
  },
  {
   "cell_type": "code",
   "execution_count": 33,
   "metadata": {},
   "outputs": [
    {
     "name": "stdout",
     "output_type": "stream",
     "text": [
      "0    78083\n",
      "1    20631\n",
      "Name: TARGET, dtype: int64\n"
     ]
    }
   ],
   "source": [
    "freq_table = pd.Series(data['TARGET']).value_counts()\n",
    "print(freq_table)"
   ]
  },
  {
   "cell_type": "code",
   "execution_count": 34,
   "metadata": {},
   "outputs": [
    {
     "data": {
      "text/html": [
       "<div>\n",
       "<style scoped>\n",
       "    .dataframe tbody tr th:only-of-type {\n",
       "        vertical-align: middle;\n",
       "    }\n",
       "\n",
       "    .dataframe tbody tr th {\n",
       "        vertical-align: top;\n",
       "    }\n",
       "\n",
       "    .dataframe thead th {\n",
       "        text-align: right;\n",
       "    }\n",
       "</style>\n",
       "<table border=\"1\" class=\"dataframe\">\n",
       "  <thead>\n",
       "    <tr style=\"text-align: right;\">\n",
       "      <th>TARGET</th>\n",
       "      <th>0</th>\n",
       "      <th>1</th>\n",
       "      <th>All</th>\n",
       "    </tr>\n",
       "    <tr>\n",
       "      <th>CLIENT_GENDER</th>\n",
       "      <th></th>\n",
       "      <th></th>\n",
       "      <th></th>\n",
       "    </tr>\n",
       "  </thead>\n",
       "  <tbody>\n",
       "    <tr>\n",
       "      <td>F</td>\n",
       "      <td>39738</td>\n",
       "      <td>7743</td>\n",
       "      <td>47481</td>\n",
       "    </tr>\n",
       "    <tr>\n",
       "      <td>M</td>\n",
       "      <td>29881</td>\n",
       "      <td>11640</td>\n",
       "      <td>41521</td>\n",
       "    </tr>\n",
       "    <tr>\n",
       "      <td>All</td>\n",
       "      <td>69619</td>\n",
       "      <td>19383</td>\n",
       "      <td>89002</td>\n",
       "    </tr>\n",
       "  </tbody>\n",
       "</table>\n",
       "</div>"
      ],
      "text/plain": [
       "TARGET             0      1    All\n",
       "CLIENT_GENDER                     \n",
       "F              39738   7743  47481\n",
       "M              29881  11640  41521\n",
       "All            69619  19383  89002"
      ]
     },
     "execution_count": 34,
     "metadata": {},
     "output_type": "execute_result"
    }
   ],
   "source": [
    "#Next we look at CLIENT_GENDER w.r.t. our Target Variable...\n",
    "pd.crosstab(data.CLIENT_GENDER, data.TARGET, margins=True)"
   ]
  },
  {
   "cell_type": "code",
   "execution_count": 35,
   "metadata": {},
   "outputs": [
    {
     "data": {
      "text/html": [
       "<div>\n",
       "<style scoped>\n",
       "    .dataframe tbody tr th:only-of-type {\n",
       "        vertical-align: middle;\n",
       "    }\n",
       "\n",
       "    .dataframe tbody tr th {\n",
       "        vertical-align: top;\n",
       "    }\n",
       "\n",
       "    .dataframe thead th {\n",
       "        text-align: right;\n",
       "    }\n",
       "</style>\n",
       "<table border=\"1\" class=\"dataframe\">\n",
       "  <thead>\n",
       "    <tr style=\"text-align: right;\">\n",
       "      <th>TARGET</th>\n",
       "      <th>0</th>\n",
       "      <th>1</th>\n",
       "    </tr>\n",
       "    <tr>\n",
       "      <th>CLIENT_GENDER</th>\n",
       "      <th></th>\n",
       "      <th></th>\n",
       "    </tr>\n",
       "  </thead>\n",
       "  <tbody>\n",
       "    <tr>\n",
       "      <td>F</td>\n",
       "      <td>0.836924</td>\n",
       "      <td>0.163076</td>\n",
       "    </tr>\n",
       "    <tr>\n",
       "      <td>M</td>\n",
       "      <td>0.719660</td>\n",
       "      <td>0.280340</td>\n",
       "    </tr>\n",
       "    <tr>\n",
       "      <td>All</td>\n",
       "      <td>0.782218</td>\n",
       "      <td>0.217782</td>\n",
       "    </tr>\n",
       "  </tbody>\n",
       "</table>\n",
       "</div>"
      ],
      "text/plain": [
       "TARGET                0         1\n",
       "CLIENT_GENDER                    \n",
       "F              0.836924  0.163076\n",
       "M              0.719660  0.280340\n",
       "All            0.782218  0.217782"
      ]
     },
     "execution_count": 35,
     "metadata": {},
     "output_type": "execute_result"
    }
   ],
   "source": [
    "#2B. cross-tab for 2 categorical features, this time with percentages\n",
    "pd.crosstab(data.CLIENT_GENDER, data.TARGET, margins=True, normalize='index')"
   ]
  },
  {
   "cell_type": "code",
   "execution_count": null,
   "metadata": {},
   "outputs": [],
   "source": []
  },
  {
   "cell_type": "markdown",
   "metadata": {},
   "source": [
    "### Part 2B: Exploring categorical features w.r.t other Numeric features "
   ]
  },
  {
   "cell_type": "code",
   "execution_count": 36,
   "metadata": {},
   "outputs": [
    {
     "data": {
      "text/html": [
       "<div>\n",
       "<style scoped>\n",
       "    .dataframe tbody tr th:only-of-type {\n",
       "        vertical-align: middle;\n",
       "    }\n",
       "\n",
       "    .dataframe tbody tr th {\n",
       "        vertical-align: top;\n",
       "    }\n",
       "\n",
       "    .dataframe thead th {\n",
       "        text-align: right;\n",
       "    }\n",
       "</style>\n",
       "<table border=\"1\" class=\"dataframe\">\n",
       "  <thead>\n",
       "    <tr style=\"text-align: right;\">\n",
       "      <th>CLIENT_GENDER</th>\n",
       "      <th>F</th>\n",
       "      <th>M</th>\n",
       "    </tr>\n",
       "  </thead>\n",
       "  <tbody>\n",
       "    <tr>\n",
       "      <td>TARGET</td>\n",
       "      <td>1.630758e-01</td>\n",
       "      <td>2.803401e-01</td>\n",
       "    </tr>\n",
       "    <tr>\n",
       "      <td>ID</td>\n",
       "      <td>9.915462e+07</td>\n",
       "      <td>9.915424e+07</td>\n",
       "    </tr>\n",
       "    <tr>\n",
       "      <td>NUM_FMLY_MEMBERS</td>\n",
       "      <td>2.932537e+00</td>\n",
       "      <td>2.846680e+00</td>\n",
       "    </tr>\n",
       "    <tr>\n",
       "      <td>NUM_CARS_HH</td>\n",
       "      <td>1.718676e+00</td>\n",
       "      <td>1.741685e+00</td>\n",
       "    </tr>\n",
       "    <tr>\n",
       "      <td>PARTNERS_SHOPPED</td>\n",
       "      <td>3.061625e+00</td>\n",
       "      <td>3.142181e+00</td>\n",
       "    </tr>\n",
       "    <tr>\n",
       "      <td>AVG_WKLY_SPND_ALL_PARTNERS</td>\n",
       "      <td>4.531798e+01</td>\n",
       "      <td>5.302445e+01</td>\n",
       "    </tr>\n",
       "    <tr>\n",
       "      <td>ENDING_PT_BALANCE</td>\n",
       "      <td>4.589083e+03</td>\n",
       "      <td>6.052430e+03</td>\n",
       "    </tr>\n",
       "    <tr>\n",
       "      <td>CNT_VISITS_GAS_STATION</td>\n",
       "      <td>9.867313e+00</td>\n",
       "      <td>1.438422e+01</td>\n",
       "    </tr>\n",
       "    <tr>\n",
       "      <td>PROP_WKDAY_EVE</td>\n",
       "      <td>1.252379e-01</td>\n",
       "      <td>1.424004e-01</td>\n",
       "    </tr>\n",
       "    <tr>\n",
       "      <td>PROP_WKDAY_DAY</td>\n",
       "      <td>5.865683e-01</td>\n",
       "      <td>5.693473e-01</td>\n",
       "    </tr>\n",
       "    <tr>\n",
       "      <td>PROP_WKND</td>\n",
       "      <td>2.881938e-01</td>\n",
       "      <td>2.882523e-01</td>\n",
       "    </tr>\n",
       "    <tr>\n",
       "      <td>FUEL_TXNS_L12</td>\n",
       "      <td>8.372631e+00</td>\n",
       "      <td>1.362678e+01</td>\n",
       "    </tr>\n",
       "    <tr>\n",
       "      <td>AVG_FUEL_VOL_L12</td>\n",
       "      <td>2.276106e+02</td>\n",
       "      <td>4.814512e+02</td>\n",
       "    </tr>\n",
       "    <tr>\n",
       "      <td>SHOP_TXNS_L12</td>\n",
       "      <td>5.222695e+00</td>\n",
       "      <td>6.442779e+00</td>\n",
       "    </tr>\n",
       "    <tr>\n",
       "      <td>SHOP_AVG_SPEND_L12</td>\n",
       "      <td>4.452832e+00</td>\n",
       "      <td>4.899408e+00</td>\n",
       "    </tr>\n",
       "    <tr>\n",
       "      <td>FUEL_CARD_FLAG</td>\n",
       "      <td>2.377793e-02</td>\n",
       "      <td>5.322608e-02</td>\n",
       "    </tr>\n",
       "    <tr>\n",
       "      <td>DISTANCE_KM</td>\n",
       "      <td>1.097187e+01</td>\n",
       "      <td>1.096252e+01</td>\n",
       "    </tr>\n",
       "  </tbody>\n",
       "</table>\n",
       "</div>"
      ],
      "text/plain": [
       "CLIENT_GENDER                          F             M\n",
       "TARGET                      1.630758e-01  2.803401e-01\n",
       "ID                          9.915462e+07  9.915424e+07\n",
       "NUM_FMLY_MEMBERS            2.932537e+00  2.846680e+00\n",
       "NUM_CARS_HH                 1.718676e+00  1.741685e+00\n",
       "PARTNERS_SHOPPED            3.061625e+00  3.142181e+00\n",
       "AVG_WKLY_SPND_ALL_PARTNERS  4.531798e+01  5.302445e+01\n",
       "ENDING_PT_BALANCE           4.589083e+03  6.052430e+03\n",
       "CNT_VISITS_GAS_STATION      9.867313e+00  1.438422e+01\n",
       "PROP_WKDAY_EVE              1.252379e-01  1.424004e-01\n",
       "PROP_WKDAY_DAY              5.865683e-01  5.693473e-01\n",
       "PROP_WKND                   2.881938e-01  2.882523e-01\n",
       "FUEL_TXNS_L12               8.372631e+00  1.362678e+01\n",
       "AVG_FUEL_VOL_L12            2.276106e+02  4.814512e+02\n",
       "SHOP_TXNS_L12               5.222695e+00  6.442779e+00\n",
       "SHOP_AVG_SPEND_L12          4.452832e+00  4.899408e+00\n",
       "FUEL_CARD_FLAG              2.377793e-02  5.322608e-02\n",
       "DISTANCE_KM                 1.097187e+01  1.096252e+01"
      ]
     },
     "execution_count": 36,
     "metadata": {},
     "output_type": "execute_result"
    }
   ],
   "source": [
    "data.groupby('CLIENT_GENDER').mean().T"
   ]
  },
  {
   "cell_type": "markdown",
   "metadata": {},
   "source": [
    "## PART 3: DATA VISUALIZATION - CATEGORICAL FEATURES\n",
    "\n"
   ]
  },
  {
   "cell_type": "code",
   "execution_count": 37,
   "metadata": {},
   "outputs": [],
   "source": [
    "#we will use matplotlib\n",
    "import matplotlib.pyplot as plt"
   ]
  },
  {
   "cell_type": "code",
   "execution_count": 38,
   "metadata": {},
   "outputs": [
    {
     "data": {
      "image/png": "[encoded data removed]",
      "text/plain": [
       "<Figure size 432x288 with 1 Axes>"
      ]
     },
     "metadata": {
      "needs_background": "light"
     },
     "output_type": "display_data"
    }
   ],
   "source": [
    "#simple bar plot of counts of male vs female\n",
    "freq_table = pd.Series(data['TARGET']).value_counts()\n",
    "plt.figure()\n",
    "freq_table.plot.bar();"
   ]
  },
  {
   "cell_type": "code",
   "execution_count": 39,
   "metadata": {},
   "outputs": [
    {
     "data": {
      "image/png": "[encoded data removed]",
      "text/plain": [
       "<Figure size 432x288 with 3 Axes>"
      ]
     },
     "metadata": {
      "needs_background": "light"
     },
     "output_type": "display_data"
    }
   ],
   "source": [
    "#create a mosaic plot of my freq table\n",
    "import statsmodels.graphics.mosaicplot as mp\n",
    "freq_table = pd.Series(data['TARGET']).value_counts()\n",
    "mp.mosaic(freq_table);"
   ]
  },
  {
   "cell_type": "code",
   "execution_count": 40,
   "metadata": {},
   "outputs": [
    {
     "data": {
      "image/png": "[encoded data removed]",
      "text/plain": [
       "<Figure size 432x288 with 3 Axes>"
      ]
     },
     "metadata": {
      "needs_background": "light"
     },
     "output_type": "display_data"
    }
   ],
   "source": [
    "#but if we were to look at a feature with meany distinct classes, it may be more useful\n",
    "freq_table = pd.Series(data['REWARD_HIST_SEGMENT']).value_counts()\n",
    "mp.mosaic(freq_table);"
   ]
  },
  {
   "cell_type": "code",
   "execution_count": 41,
   "metadata": {},
   "outputs": [
    {
     "data": {
      "image/png": "[encoded data removed]",
      "text/plain": [
       "<Figure size 2160x432 with 3 Axes>"
      ]
     },
     "metadata": {
      "needs_background": "light"
     },
     "output_type": "display_data"
    }
   ],
   "source": [
    "#here we try to reformat it\n",
    "#from matplotlib.pyplot import figure\n",
    "fig = plt.figure(figsize=(30,6))\n",
    "ax = fig.add_subplot(111)\n",
    "mp.mosaic(freq_table, ax=ax);\n"
   ]
  },
  {
   "cell_type": "code",
   "execution_count": 20,
   "metadata": {},
   "outputs": [
    {
     "data": {
      "image/png": "[encoded data removed]",
      "text/plain": [
       "<matplotlib.figure.Figure at 0x10cdd400>"
      ]
     },
     "metadata": {},
     "output_type": "display_data"
    }
   ],
   "source": [
    "#try other options - change figure size and make it horizonal...\n",
    "#ask the class to read documentation and see what else can be changed...\n",
    "#link to doc: http://www.statsmodels.org/dev/generated/statsmodels.graphics.mosaicplot.mosaic.html\n",
    "#another very useful link in general:\n",
    "   #https://d1b10bmlvqabco.cloudfront.net/attach/iwjz7hyhqd4qd/isrin57rtrp2sq/j1dyzbdq5qdx/DataVisualizationinPython.html\n",
    "\n",
    "fig = plt.figure(figsize=(3,8))\n",
    "ax = fig.add_subplot(111)\n",
    "mp.mosaic(freq_table, ax=ax, horizontal=0);"
   ]
  },
  {
   "cell_type": "code",
   "execution_count": 42,
   "metadata": {},
   "outputs": [
    {
     "data": {
      "text/plain": [
       "<Figure size 432x288 with 0 Axes>"
      ]
     },
     "metadata": {},
     "output_type": "display_data"
    },
    {
     "data": {
      "image/png": "[encoded data removed]",
      "text/plain": [
       "<Figure size 432x288 with 1 Axes>"
      ]
     },
     "metadata": {
      "needs_background": "light"
     },
     "output_type": "display_data"
    },
    {
     "data": {
      "image/png": "[encoded data removed]",
      "text/plain": [
       "<Figure size 432x288 with 3 Axes>"
      ]
     },
     "metadata": {
      "needs_background": "light"
     },
     "output_type": "display_data"
    }
   ],
   "source": [
    "#create plots for cross-tab information (mosiac and bar plots)\n",
    "#bar plots for x-tab data (ex: gender vs target)\n",
    "#1. We create the dataframe that holds the cross tabe resutls\n",
    "crosstab_1 = pd.crosstab(data.CLIENT_GENDER, data.TARGET, margins=True, normalize='index')\n",
    "\n",
    "#2. Plot a bar plot\n",
    "plt.figure()\n",
    "crosstab_1.plot.bar();\n",
    "\n",
    "#3. Plot mosacia plot of cross-tab\n",
    "mp.mosaic(crosstab_1.stack());\n"
   ]
  },
  {
   "cell_type": "markdown",
   "metadata": {},
   "source": [
    "#### Next, lets look at one more example this time showing the relationship between 2 categorical features"
   ]
  },
  {
   "cell_type": "code",
   "execution_count": 49,
   "metadata": {},
   "outputs": [
    {
     "data": {
      "text/plain": [
       "<matplotlib.axes._subplots.AxesSubplot at 0x116845d90>"
      ]
     },
     "execution_count": 49,
     "metadata": {},
     "output_type": "execute_result"
    },
    {
     "data": {
      "image/png": "[encoded data removed]",
      "text/plain": [
       "<Figure size 432x288 with 1 Axes>"
      ]
     },
     "metadata": {
      "needs_background": "light"
     },
     "output_type": "display_data"
    }
   ],
   "source": [
    "#same idea as before: 1. create a dataframe that hold the cross-tab and then plot it\n",
    "crosstab_2 = pd.crosstab(data.CLIENT_GENDER, data.REWARD_HIST_SEGMENT, margins=True, normalize='index')\n",
    "crosstab_2.plot.bar()\n",
    "\n",
    "\n",
    "#looks a bit hard to read, so lets switch positions of GENDER & REWARD SEGMENT\n",
    "\n",
    "#notice how there's some text (can very long at times) before your actual plot.\n",
    "#This is useful sometimes, but you can supress it as well by either:\n",
    "#1. Add semi-column after plot. ex: crosstab_2.plot.bar();\n",
    "#2. Explicity type in plt.show()"
   ]
  },
  {
   "cell_type": "code",
   "execution_count": 23,
   "metadata": {},
   "outputs": [
    {
     "data": {
      "text/plain": [
       "<matplotlib.axes._subplots.AxesSubplot at 0x10e7c8d0>"
      ]
     },
     "execution_count": 23,
     "metadata": {},
     "output_type": "execute_result"
    },
    {
     "data": {
      "image/png": "[encoded data removed]",
      "text/plain": [
       "<matplotlib.figure.Figure at 0x1114a0f0>"
      ]
     },
     "metadata": {},
     "output_type": "display_data"
    }
   ],
   "source": [
    "#Same plot, but this time we switched the positions of GENDER & REWARD SEGMENT\n",
    "crosstab_2 = pd.crosstab(data.REWARD_HIST_SEGMENT, data.CLIENT_GENDER, margins=True, normalize='index')\n",
    "crosstab_2.plot.bar()\n",
    "#In addition, let's say we want to make this a stacked bar plot -- how do we do this?"
   ]
  },
  {
   "cell_type": "markdown",
   "metadata": {},
   "source": [
    "### Try to make this a proportionally scaled stacked bar-plot. \n",
    "\n",
    "As you will see making this a stacked-proportional bar plot in Python is not quite as easy as R's ggplot2. \n",
    "\n",
    "Here's one approach to make it happen. There are code recipes for these type of things, but until they get intergrated into matplotlib or seaborn you might write some custom code for any data viz that beyond the normal templates offered.\n"
   ]
  },
  {
   "cell_type": "markdown",
   "metadata": {},
   "source": [
    "#### Try to make this a stacked & filled (i.e. proporitional) bar plot"
   ]
  },
  {
   "cell_type": "markdown",
   "metadata": {},
   "source": [
    "General recipe for making any custom plots\n",
    "1. Manipulate your data and calculate the exact metrics you need\n",
    "2. Plot those metrics using matplotlib's standard plot functions"
   ]
  },
  {
   "cell_type": "code",
   "execution_count": 50,
   "metadata": {},
   "outputs": [],
   "source": [
    "#in this case step 1 we need:\n",
    "#by Reward Segment the % of males vs females\n",
    "#the code below performs these calculation in creates a \"melted\" (i.e. skinny)\n",
    "#dataframe that can be used as input for plotting.\n",
    "\n",
    "#Note: you won't need to know how to do all the data manipulation below,\n",
    "    #but rather focus on structure of what we put as an input into the plotting fucntion\n",
    "plot_data = pd.merge(pd.DataFrame(data.groupby(['REWARD_HIST_SEGMENT','CLIENT_GENDER'])\\\n",
    "                                 .size()).reset_index(),pd.DataFrame(data.groupby('REWARD_HIST_SEGMENT')\\\n",
    "                                 .size()).reset_index(), how='left', on='REWARD_HIST_SEGMENT')\n",
    "\n",
    "plot_data.columns = ['REWARD_HIST_SEGMENT', 'CLIENT_GENDER', 'number_combination', 'number_answer']"
   ]
  },
  {
   "cell_type": "code",
   "execution_count": 51,
   "metadata": {},
   "outputs": [
    {
     "data": {
      "text/html": [
       "<div>\n",
       "<style scoped>\n",
       "    .dataframe tbody tr th:only-of-type {\n",
       "        vertical-align: middle;\n",
       "    }\n",
       "\n",
       "    .dataframe tbody tr th {\n",
       "        vertical-align: top;\n",
       "    }\n",
       "\n",
       "    .dataframe thead th {\n",
       "        text-align: right;\n",
       "    }\n",
       "</style>\n",
       "<table border=\"1\" class=\"dataframe\">\n",
       "  <thead>\n",
       "    <tr style=\"text-align: right;\">\n",
       "      <th></th>\n",
       "      <th>REWARD_HIST_SEGMENT</th>\n",
       "      <th>CLIENT_GENDER</th>\n",
       "      <th>number_combination</th>\n",
       "      <th>number_answer</th>\n",
       "    </tr>\n",
       "  </thead>\n",
       "  <tbody>\n",
       "    <tr>\n",
       "      <td>0</td>\n",
       "      <td>Breakage</td>\n",
       "      <td>F</td>\n",
       "      <td>346</td>\n",
       "      <td>876</td>\n",
       "    </tr>\n",
       "    <tr>\n",
       "      <td>1</td>\n",
       "      <td>Breakage</td>\n",
       "      <td>M</td>\n",
       "      <td>455</td>\n",
       "      <td>876</td>\n",
       "    </tr>\n",
       "    <tr>\n",
       "      <td>2</td>\n",
       "      <td>Gift-card Redeemer</td>\n",
       "      <td>F</td>\n",
       "      <td>3453</td>\n",
       "      <td>6273</td>\n",
       "    </tr>\n",
       "    <tr>\n",
       "      <td>3</td>\n",
       "      <td>Gift-card Redeemer</td>\n",
       "      <td>M</td>\n",
       "      <td>2788</td>\n",
       "      <td>6273</td>\n",
       "    </tr>\n",
       "    <tr>\n",
       "      <td>4</td>\n",
       "      <td>Never Redeemed</td>\n",
       "      <td>F</td>\n",
       "      <td>4270</td>\n",
       "      <td>17327</td>\n",
       "    </tr>\n",
       "    <tr>\n",
       "      <td>5</td>\n",
       "      <td>Never Redeemed</td>\n",
       "      <td>M</td>\n",
       "      <td>5009</td>\n",
       "      <td>17327</td>\n",
       "    </tr>\n",
       "    <tr>\n",
       "      <td>6</td>\n",
       "      <td>No Redemptions L18 months</td>\n",
       "      <td>F</td>\n",
       "      <td>3290</td>\n",
       "      <td>7922</td>\n",
       "    </tr>\n",
       "    <tr>\n",
       "      <td>7</td>\n",
       "      <td>No Redemptions L18 months</td>\n",
       "      <td>M</td>\n",
       "      <td>4285</td>\n",
       "      <td>7922</td>\n",
       "    </tr>\n",
       "    <tr>\n",
       "      <td>8</td>\n",
       "      <td>No Redemptions L24 months</td>\n",
       "      <td>F</td>\n",
       "      <td>4910</td>\n",
       "      <td>9481</td>\n",
       "    </tr>\n",
       "    <tr>\n",
       "      <td>9</td>\n",
       "      <td>No Redemptions L24 months</td>\n",
       "      <td>M</td>\n",
       "      <td>4407</td>\n",
       "      <td>9481</td>\n",
       "    </tr>\n",
       "  </tbody>\n",
       "</table>\n",
       "</div>"
      ],
      "text/plain": [
       "         REWARD_HIST_SEGMENT CLIENT_GENDER  number_combination  number_answer\n",
       "0                   Breakage             F                 346            876\n",
       "1                   Breakage             M                 455            876\n",
       "2         Gift-card Redeemer             F                3453           6273\n",
       "3         Gift-card Redeemer             M                2788           6273\n",
       "4             Never Redeemed             F                4270          17327\n",
       "5             Never Redeemed             M                5009          17327\n",
       "6  No Redemptions L18 months             F                3290           7922\n",
       "7  No Redemptions L18 months             M                4285           7922\n",
       "8  No Redemptions L24 months             F                4910           9481\n",
       "9  No Redemptions L24 months             M                4407           9481"
      ]
     },
     "execution_count": 51,
     "metadata": {},
     "output_type": "execute_result"
    }
   ],
   "source": [
    "#preview the structure\n",
    "plot_data.head(10)"
   ]
  },
  {
   "cell_type": "code",
   "execution_count": 52,
   "metadata": {},
   "outputs": [
    {
     "name": "stderr",
     "output_type": "stream",
     "text": [
      "/Users/siddiqkhan/opt/anaconda3/lib/python3.7/site-packages/ipykernel_launcher.py:4: SettingWithCopyWarning: \n",
      "A value is trying to be set on a copy of a slice from a DataFrame.\n",
      "Try using .loc[row_indexer,col_indexer] = value instead\n",
      "\n",
      "See the caveats in the documentation: http://pandas.pydata.org/pandas-docs/stable/user_guide/indexing.html#returning-a-view-versus-a-copy\n",
      "  after removing the cwd from sys.path.\n"
     ]
    },
    {
     "data": {
      "text/html": [
       "<div>\n",
       "<style scoped>\n",
       "    .dataframe tbody tr th:only-of-type {\n",
       "        vertical-align: middle;\n",
       "    }\n",
       "\n",
       "    .dataframe tbody tr th {\n",
       "        vertical-align: top;\n",
       "    }\n",
       "\n",
       "    .dataframe thead th {\n",
       "        text-align: right;\n",
       "    }\n",
       "</style>\n",
       "<table border=\"1\" class=\"dataframe\">\n",
       "  <thead>\n",
       "    <tr style=\"text-align: right;\">\n",
       "      <th></th>\n",
       "      <th>REWARD_HIST_SEGMENT</th>\n",
       "      <th>CLIENT_GENDER</th>\n",
       "      <th>perc</th>\n",
       "    </tr>\n",
       "  </thead>\n",
       "  <tbody>\n",
       "    <tr>\n",
       "      <td>0</td>\n",
       "      <td>Breakage</td>\n",
       "      <td>F</td>\n",
       "      <td>0.394977</td>\n",
       "    </tr>\n",
       "    <tr>\n",
       "      <td>1</td>\n",
       "      <td>Breakage</td>\n",
       "      <td>M</td>\n",
       "      <td>0.519406</td>\n",
       "    </tr>\n",
       "    <tr>\n",
       "      <td>2</td>\n",
       "      <td>Gift-card Redeemer</td>\n",
       "      <td>F</td>\n",
       "      <td>0.550454</td>\n",
       "    </tr>\n",
       "    <tr>\n",
       "      <td>3</td>\n",
       "      <td>Gift-card Redeemer</td>\n",
       "      <td>M</td>\n",
       "      <td>0.444444</td>\n",
       "    </tr>\n",
       "    <tr>\n",
       "      <td>4</td>\n",
       "      <td>Never Redeemed</td>\n",
       "      <td>F</td>\n",
       "      <td>0.246436</td>\n",
       "    </tr>\n",
       "    <tr>\n",
       "      <td>5</td>\n",
       "      <td>Never Redeemed</td>\n",
       "      <td>M</td>\n",
       "      <td>0.289086</td>\n",
       "    </tr>\n",
       "    <tr>\n",
       "      <td>6</td>\n",
       "      <td>No Redemptions L18 months</td>\n",
       "      <td>F</td>\n",
       "      <td>0.415299</td>\n",
       "    </tr>\n",
       "    <tr>\n",
       "      <td>7</td>\n",
       "      <td>No Redemptions L18 months</td>\n",
       "      <td>M</td>\n",
       "      <td>0.540899</td>\n",
       "    </tr>\n",
       "    <tr>\n",
       "      <td>8</td>\n",
       "      <td>No Redemptions L24 months</td>\n",
       "      <td>F</td>\n",
       "      <td>0.517878</td>\n",
       "    </tr>\n",
       "    <tr>\n",
       "      <td>9</td>\n",
       "      <td>No Redemptions L24 months</td>\n",
       "      <td>M</td>\n",
       "      <td>0.464824</td>\n",
       "    </tr>\n",
       "    <tr>\n",
       "      <td>10</td>\n",
       "      <td>Retail High-Volume</td>\n",
       "      <td>F</td>\n",
       "      <td>0.516164</td>\n",
       "    </tr>\n",
       "    <tr>\n",
       "      <td>11</td>\n",
       "      <td>Retail High-Volume</td>\n",
       "      <td>M</td>\n",
       "      <td>0.472821</td>\n",
       "    </tr>\n",
       "    <tr>\n",
       "      <td>12</td>\n",
       "      <td>Retail Low-Volume Non-Saver</td>\n",
       "      <td>F</td>\n",
       "      <td>0.624166</td>\n",
       "    </tr>\n",
       "    <tr>\n",
       "      <td>13</td>\n",
       "      <td>Retail Low-Volume Non-Saver</td>\n",
       "      <td>M</td>\n",
       "      <td>0.361008</td>\n",
       "    </tr>\n",
       "    <tr>\n",
       "      <td>14</td>\n",
       "      <td>Retail Low-Volume Saver</td>\n",
       "      <td>F</td>\n",
       "      <td>0.585413</td>\n",
       "    </tr>\n",
       "    <tr>\n",
       "      <td>15</td>\n",
       "      <td>Retail Low-Volume Saver</td>\n",
       "      <td>M</td>\n",
       "      <td>0.404511</td>\n",
       "    </tr>\n",
       "    <tr>\n",
       "      <td>16</td>\n",
       "      <td>Retail X-mas Redeemer</td>\n",
       "      <td>F</td>\n",
       "      <td>0.523083</td>\n",
       "    </tr>\n",
       "    <tr>\n",
       "      <td>17</td>\n",
       "      <td>Retail X-mas Redeemer</td>\n",
       "      <td>M</td>\n",
       "      <td>0.445640</td>\n",
       "    </tr>\n",
       "    <tr>\n",
       "      <td>18</td>\n",
       "      <td>Travel Only Redeemer</td>\n",
       "      <td>F</td>\n",
       "      <td>0.423825</td>\n",
       "    </tr>\n",
       "    <tr>\n",
       "      <td>19</td>\n",
       "      <td>Travel Only Redeemer</td>\n",
       "      <td>M</td>\n",
       "      <td>0.566631</td>\n",
       "    </tr>\n",
       "    <tr>\n",
       "      <td>20</td>\n",
       "      <td>Travel and Retail Redeemer</td>\n",
       "      <td>F</td>\n",
       "      <td>0.492482</td>\n",
       "    </tr>\n",
       "    <tr>\n",
       "      <td>21</td>\n",
       "      <td>Travel and Retail Redeemer</td>\n",
       "      <td>M</td>\n",
       "      <td>0.500358</td>\n",
       "    </tr>\n",
       "  </tbody>\n",
       "</table>\n",
       "</div>"
      ],
      "text/plain": [
       "            REWARD_HIST_SEGMENT CLIENT_GENDER      perc\n",
       "0                      Breakage             F  0.394977\n",
       "1                      Breakage             M  0.519406\n",
       "2            Gift-card Redeemer             F  0.550454\n",
       "3            Gift-card Redeemer             M  0.444444\n",
       "4                Never Redeemed             F  0.246436\n",
       "5                Never Redeemed             M  0.289086\n",
       "6     No Redemptions L18 months             F  0.415299\n",
       "7     No Redemptions L18 months             M  0.540899\n",
       "8     No Redemptions L24 months             F  0.517878\n",
       "9     No Redemptions L24 months             M  0.464824\n",
       "10           Retail High-Volume             F  0.516164\n",
       "11           Retail High-Volume             M  0.472821\n",
       "12  Retail Low-Volume Non-Saver             F  0.624166\n",
       "13  Retail Low-Volume Non-Saver             M  0.361008\n",
       "14      Retail Low-Volume Saver             F  0.585413\n",
       "15      Retail Low-Volume Saver             M  0.404511\n",
       "16        Retail X-mas Redeemer             F  0.523083\n",
       "17        Retail X-mas Redeemer             M  0.445640\n",
       "18         Travel Only Redeemer             F  0.423825\n",
       "19         Travel Only Redeemer             M  0.566631\n",
       "20   Travel and Retail Redeemer             F  0.492482\n",
       "21   Travel and Retail Redeemer             M  0.500358"
      ]
     },
     "execution_count": 52,
     "metadata": {},
     "output_type": "execute_result"
    }
   ],
   "source": [
    "#next we just need to calculate % from available numerator & denominator\n",
    "perc=plot_data['number_combination']/plot_data['number_answer']\n",
    "melted = plot_data[['REWARD_HIST_SEGMENT','CLIENT_GENDER']]\n",
    "melted['perc'] = perc\n",
    "melted\n",
    "\n"
   ]
  },
  {
   "cell_type": "code",
   "execution_count": 53,
   "metadata": {},
   "outputs": [
    {
     "data": {
      "text/plain": [
       "<matplotlib.axes._subplots.AxesSubplot at 0x11624cd50>"
      ]
     },
     "execution_count": 53,
     "metadata": {},
     "output_type": "execute_result"
    },
    {
     "data": {
      "image/png": "[encoded data removed]",
      "text/plain": [
       "<Figure size 432x288 with 1 Axes>"
      ]
     },
     "metadata": {
      "needs_background": "light"
     },
     "output_type": "display_data"
    }
   ],
   "source": [
    "#from this manipulated dataset, we can plot a stacked bar plot...\n",
    "melted.groupby(['REWARD_HIST_SEGMENT','CLIENT_GENDER']).\\\n",
    "    perc.sum().unstack().plot(kind='bar', stacked=True, ylim=(0,1))\n",
    "    \n",
    "#not theres still a slight issue with missing values\n",
    "#bonus homework: try to fix this!"
   ]
  },
  {
   "cell_type": "markdown",
   "metadata": {},
   "source": [
    "## PART 4: DATA EXPLORATION: NUMERIC VARIABLES"
   ]
  },
  {
   "cell_type": "code",
   "execution_count": 28,
   "metadata": {},
   "outputs": [
    {
     "data": {
      "text/html": [
       "<div>\n",
       "<style scoped>\n",
       "    .dataframe tbody tr th:only-of-type {\n",
       "        vertical-align: middle;\n",
       "    }\n",
       "\n",
       "    .dataframe tbody tr th {\n",
       "        vertical-align: top;\n",
       "    }\n",
       "\n",
       "    .dataframe thead th {\n",
       "        text-align: right;\n",
       "    }\n",
       "</style>\n",
       "<table border=\"1\" class=\"dataframe\">\n",
       "  <thead>\n",
       "    <tr style=\"text-align: right;\">\n",
       "      <th></th>\n",
       "      <th>TARGET</th>\n",
       "      <th>ID</th>\n",
       "      <th>NUM_FMLY_MEMBERS</th>\n",
       "      <th>NUM_CARS_HH</th>\n",
       "      <th>PARTNERS_SHOPPED</th>\n",
       "      <th>AVG_WKLY_SPND_ALL_PARTNERS</th>\n",
       "      <th>ENDING_PT_BALANCE</th>\n",
       "      <th>CNT_VISITS_GAS_STATION</th>\n",
       "      <th>PROP_WKDAY_EVE</th>\n",
       "      <th>PROP_WKDAY_DAY</th>\n",
       "      <th>PROP_WKND</th>\n",
       "      <th>FUEL_TXNS_L12</th>\n",
       "      <th>AVG_FUEL_VOL_L12</th>\n",
       "      <th>SHOP_TXNS_L12</th>\n",
       "      <th>SHOP_AVG_SPEND_L12</th>\n",
       "      <th>FUEL_CARD_FLAG</th>\n",
       "      <th>DISTANCE_KM</th>\n",
       "    </tr>\n",
       "  </thead>\n",
       "  <tbody>\n",
       "    <tr>\n",
       "      <th>count</th>\n",
       "      <td>98714.000000</td>\n",
       "      <td>9.871400e+04</td>\n",
       "      <td>56924.000000</td>\n",
       "      <td>52575.000000</td>\n",
       "      <td>98466.000000</td>\n",
       "      <td>98465.000000</td>\n",
       "      <td>98714.000000</td>\n",
       "      <td>98713.000000</td>\n",
       "      <td>98714.000000</td>\n",
       "      <td>98714.000000</td>\n",
       "      <td>98714.000000</td>\n",
       "      <td>84831.000000</td>\n",
       "      <td>84908.000000</td>\n",
       "      <td>48259.000000</td>\n",
       "      <td>48259.000000</td>\n",
       "      <td>98714.000000</td>\n",
       "      <td>98714.000000</td>\n",
       "    </tr>\n",
       "    <tr>\n",
       "      <th>mean</th>\n",
       "      <td>0.208998</td>\n",
       "      <td>9.915449e+07</td>\n",
       "      <td>2.894737</td>\n",
       "      <td>1.728236</td>\n",
       "      <td>2.963693</td>\n",
       "      <td>46.167885</td>\n",
       "      <td>4919.443433</td>\n",
       "      <td>11.118323</td>\n",
       "      <td>0.135107</td>\n",
       "      <td>0.580036</td>\n",
       "      <td>0.284857</td>\n",
       "      <td>10.249909</td>\n",
       "      <td>327.959795</td>\n",
       "      <td>5.660664</td>\n",
       "      <td>4.674817</td>\n",
       "      <td>0.037077</td>\n",
       "      <td>10.033388</td>\n",
       "    </tr>\n",
       "    <tr>\n",
       "      <th>std</th>\n",
       "      <td>0.406595</td>\n",
       "      <td>2.849642e+04</td>\n",
       "      <td>1.344243</td>\n",
       "      <td>0.923183</td>\n",
       "      <td>1.236660</td>\n",
       "      <td>81.502148</td>\n",
       "      <td>11529.172773</td>\n",
       "      <td>16.817524</td>\n",
       "      <td>0.228338</td>\n",
       "      <td>0.343604</td>\n",
       "      <td>0.307625</td>\n",
       "      <td>16.846474</td>\n",
       "      <td>747.989781</td>\n",
       "      <td>13.335370</td>\n",
       "      <td>7.600509</td>\n",
       "      <td>0.188951</td>\n",
       "      <td>3.689799</td>\n",
       "    </tr>\n",
       "    <tr>\n",
       "      <th>min</th>\n",
       "      <td>0.000000</td>\n",
       "      <td>9.910513e+07</td>\n",
       "      <td>1.000000</td>\n",
       "      <td>0.000000</td>\n",
       "      <td>0.000000</td>\n",
       "      <td>0.000000</td>\n",
       "      <td>-6324.000000</td>\n",
       "      <td>1.000000</td>\n",
       "      <td>0.000000</td>\n",
       "      <td>0.000000</td>\n",
       "      <td>0.000000</td>\n",
       "      <td>1.000000</td>\n",
       "      <td>1.000000</td>\n",
       "      <td>1.000000</td>\n",
       "      <td>0.000000</td>\n",
       "      <td>0.000000</td>\n",
       "      <td>0.000000</td>\n",
       "    </tr>\n",
       "    <tr>\n",
       "      <th>25%</th>\n",
       "      <td>0.000000</td>\n",
       "      <td>9.912981e+07</td>\n",
       "      <td>2.000000</td>\n",
       "      <td>1.000000</td>\n",
       "      <td>2.000000</td>\n",
       "      <td>12.087390</td>\n",
       "      <td>728.000000</td>\n",
       "      <td>2.000000</td>\n",
       "      <td>0.000000</td>\n",
       "      <td>0.333333</td>\n",
       "      <td>0.000000</td>\n",
       "      <td>1.000000</td>\n",
       "      <td>35.010000</td>\n",
       "      <td>1.000000</td>\n",
       "      <td>2.150000</td>\n",
       "      <td>0.000000</td>\n",
       "      <td>9.812254</td>\n",
       "    </tr>\n",
       "    <tr>\n",
       "      <th>50%</th>\n",
       "      <td>0.000000</td>\n",
       "      <td>9.915449e+07</td>\n",
       "      <td>3.000000</td>\n",
       "      <td>2.000000</td>\n",
       "      <td>3.000000</td>\n",
       "      <td>29.583220</td>\n",
       "      <td>2011.000000</td>\n",
       "      <td>5.000000</td>\n",
       "      <td>0.000000</td>\n",
       "      <td>0.617021</td>\n",
       "      <td>0.209302</td>\n",
       "      <td>4.000000</td>\n",
       "      <td>99.030000</td>\n",
       "      <td>2.000000</td>\n",
       "      <td>3.290000</td>\n",
       "      <td>0.000000</td>\n",
       "      <td>10.966584</td>\n",
       "    </tr>\n",
       "    <tr>\n",
       "      <th>75%</th>\n",
       "      <td>0.000000</td>\n",
       "      <td>9.917917e+07</td>\n",
       "      <td>4.000000</td>\n",
       "      <td>2.000000</td>\n",
       "      <td>4.000000</td>\n",
       "      <td>62.245590</td>\n",
       "      <td>5097.000000</td>\n",
       "      <td>13.000000</td>\n",
       "      <td>0.200000</td>\n",
       "      <td>0.904762</td>\n",
       "      <td>0.433209</td>\n",
       "      <td>12.000000</td>\n",
       "      <td>344.015000</td>\n",
       "      <td>5.000000</td>\n",
       "      <td>5.092500</td>\n",
       "      <td>0.000000</td>\n",
       "      <td>11.713106</td>\n",
       "    </tr>\n",
       "    <tr>\n",
       "      <th>max</th>\n",
       "      <td>1.000000</td>\n",
       "      <td>9.920385e+07</td>\n",
       "      <td>10.000000</td>\n",
       "      <td>9.000000</td>\n",
       "      <td>13.000000</td>\n",
       "      <td>15342.317340</td>\n",
       "      <td>693385.000000</td>\n",
       "      <td>1012.000000</td>\n",
       "      <td>1.000000</td>\n",
       "      <td>1.000000</td>\n",
       "      <td>1.000000</td>\n",
       "      <td>649.000000</td>\n",
       "      <td>37232.370000</td>\n",
       "      <td>526.000000</td>\n",
       "      <td>416.690000</td>\n",
       "      <td>1.000000</td>\n",
       "      <td>24.559018</td>\n",
       "    </tr>\n",
       "  </tbody>\n",
       "</table>\n",
       "</div>"
      ],
      "text/plain": [
       "             TARGET            ID  NUM_FMLY_MEMBERS   NUM_CARS_HH  \\\n",
       "count  98714.000000  9.871400e+04      56924.000000  52575.000000   \n",
       "mean       0.208998  9.915449e+07          2.894737      1.728236   \n",
       "std        0.406595  2.849642e+04          1.344243      0.923183   \n",
       "min        0.000000  9.910513e+07          1.000000      0.000000   \n",
       "25%        0.000000  9.912981e+07          2.000000      1.000000   \n",
       "50%        0.000000  9.915449e+07          3.000000      2.000000   \n",
       "75%        0.000000  9.917917e+07          4.000000      2.000000   \n",
       "max        1.000000  9.920385e+07         10.000000      9.000000   \n",
       "\n",
       "       PARTNERS_SHOPPED  AVG_WKLY_SPND_ALL_PARTNERS  ENDING_PT_BALANCE  \\\n",
       "count      98466.000000                98465.000000       98714.000000   \n",
       "mean           2.963693                   46.167885        4919.443433   \n",
       "std            1.236660                   81.502148       11529.172773   \n",
       "min            0.000000                    0.000000       -6324.000000   \n",
       "25%            2.000000                   12.087390         728.000000   \n",
       "50%            3.000000                   29.583220        2011.000000   \n",
       "75%            4.000000                   62.245590        5097.000000   \n",
       "max           13.000000                15342.317340      693385.000000   \n",
       "\n",
       "       CNT_VISITS_GAS_STATION  PROP_WKDAY_EVE  PROP_WKDAY_DAY     PROP_WKND  \\\n",
       "count            98713.000000    98714.000000    98714.000000  98714.000000   \n",
       "mean                11.118323        0.135107        0.580036      0.284857   \n",
       "std                 16.817524        0.228338        0.343604      0.307625   \n",
       "min                  1.000000        0.000000        0.000000      0.000000   \n",
       "25%                  2.000000        0.000000        0.333333      0.000000   \n",
       "50%                  5.000000        0.000000        0.617021      0.209302   \n",
       "75%                 13.000000        0.200000        0.904762      0.433209   \n",
       "max               1012.000000        1.000000        1.000000      1.000000   \n",
       "\n",
       "       FUEL_TXNS_L12  AVG_FUEL_VOL_L12  SHOP_TXNS_L12  SHOP_AVG_SPEND_L12  \\\n",
       "count   84831.000000      84908.000000   48259.000000        48259.000000   \n",
       "mean       10.249909        327.959795       5.660664            4.674817   \n",
       "std        16.846474        747.989781      13.335370            7.600509   \n",
       "min         1.000000          1.000000       1.000000            0.000000   \n",
       "25%         1.000000         35.010000       1.000000            2.150000   \n",
       "50%         4.000000         99.030000       2.000000            3.290000   \n",
       "75%        12.000000        344.015000       5.000000            5.092500   \n",
       "max       649.000000      37232.370000     526.000000          416.690000   \n",
       "\n",
       "       FUEL_CARD_FLAG   DISTANCE_KM  \n",
       "count    98714.000000  98714.000000  \n",
       "mean         0.037077     10.033388  \n",
       "std          0.188951      3.689799  \n",
       "min          0.000000      0.000000  \n",
       "25%          0.000000      9.812254  \n",
       "50%          0.000000     10.966584  \n",
       "75%          0.000000     11.713106  \n",
       "max          1.000000     24.559018  "
      ]
     },
     "execution_count": 28,
     "metadata": {},
     "output_type": "execute_result"
    }
   ],
   "source": [
    "#1. Remember the prebuilt describe() fucntion is quite useful for numeric features\n",
    "data.describe()"
   ]
  },
  {
   "cell_type": "code",
   "execution_count": 55,
   "metadata": {},
   "outputs": [
    {
     "data": {
      "text/plain": [
       "0    2.0\n",
       "1    2.0\n",
       "2    NaN\n",
       "3    2.0\n",
       "4    2.0\n",
       "Name: NUM_FMLY_MEMBERS, dtype: float64"
      ]
     },
     "execution_count": 55,
     "metadata": {},
     "output_type": "execute_result"
    }
   ],
   "source": [
    "#2. Lets try to get a histogram for the numeric feature NUM_FMLY_MEMBERS\n",
    "#this just grabs one column from out data frame and puts it in a series (set of numbers)\n",
    "x=pd.Series(data['NUM_FMLY_MEMBERS'])\n",
    "x.head()"
   ]
  },
  {
   "cell_type": "code",
   "execution_count": 56,
   "metadata": {},
   "outputs": [
    {
     "name": "stderr",
     "output_type": "stream",
     "text": [
      "/Users/siddiqkhan/opt/anaconda3/lib/python3.7/site-packages/numpy/lib/histograms.py:829: RuntimeWarning: invalid value encountered in greater_equal\n",
      "  keep = (tmp_a >= first_edge)\n",
      "/Users/siddiqkhan/opt/anaconda3/lib/python3.7/site-packages/numpy/lib/histograms.py:830: RuntimeWarning: invalid value encountered in less_equal\n",
      "  keep &= (tmp_a <= last_edge)\n"
     ]
    },
    {
     "data": {
      "text/plain": [
       "(array([ 7192., 19444., 11714., 12196.,  4496.,  1266.,   376.,   135.,\n",
       "           64.,    41.]),\n",
       " array([ 1. ,  1.9,  2.8,  3.7,  4.6,  5.5,  6.4,  7.3,  8.2,  9.1, 10. ]),\n",
       " <a list of 10 Patch objects>)"
      ]
     },
     "execution_count": 56,
     "metadata": {},
     "output_type": "execute_result"
    },
    {
     "data": {
      "image/png": "[encoded data removed]",
      "text/plain": [
       "<Figure size 432x288 with 1 Axes>"
      ]
     },
     "metadata": {
      "needs_background": "light"
     },
     "output_type": "display_data"
    }
   ],
   "source": [
    "#2 Hisograms are you friend\n",
    "#remember we will use matplotlib\n",
    "import matplotlib.pyplot as plt\n",
    "plt.hist(x)\n",
    "\n",
    "#we get an error! WHY?\n",
    "#because hist() can't deal with NaN values, so we can quickly remove them before plotting"
   ]
  },
  {
   "cell_type": "code",
   "execution_count": 57,
   "metadata": {},
   "outputs": [
    {
     "data": {
      "image/png": "[encoded data removed]",
      "text/plain": [
       "<Figure size 432x288 with 1 Axes>"
      ]
     },
     "metadata": {
      "needs_background": "light"
     },
     "output_type": "display_data"
    }
   ],
   "source": [
    "#here we remove NaN values using dropna() function before plotting\n",
    "plt.hist(x.dropna());\n"
   ]
  },
  {
   "cell_type": "code",
   "execution_count": 32,
   "metadata": {},
   "outputs": [
    {
     "data": {
      "image/png": "[encoded data removed]",
      "text/plain": [
       "<matplotlib.figure.Figure at 0x110811d0>"
      ]
     },
     "metadata": {},
     "output_type": "display_data"
    }
   ],
   "source": [
    "#also in the future you probably want this all in one line (without creating intermediate variable x)\n",
    "plt.hist(pd.Series(data['NUM_FMLY_MEMBERS']).dropna());\n",
    "\n",
    "#not I also increase bin size to make it smoother"
   ]
  },
  {
   "cell_type": "code",
   "execution_count": 33,
   "metadata": {},
   "outputs": [
    {
     "data": {
      "text/plain": [
       "(array([1.0419e+04, 2.5380e+04, 3.4091e+04, 1.8849e+04, 6.7480e+03,\n",
       "        2.0400e+03, 6.4500e+02, 2.0000e+02, 6.1000e+01, 2.1000e+01,\n",
       "        9.0000e+00, 3.0000e+00]),\n",
       " array([ 0.        ,  1.08333333,  2.16666667,  3.25      ,  4.33333333,\n",
       "         5.41666667,  6.5       ,  7.58333333,  8.66666667,  9.75      ,\n",
       "        10.83333333, 11.91666667, 13.        ]),\n",
       " <a list of 12 Patch objects>)"
      ]
     },
     "execution_count": 33,
     "metadata": {},
     "output_type": "execute_result"
    },
    {
     "data": {
      "image/png": "[encoded data removed]",
      "text/plain": [
       "<matplotlib.figure.Figure at 0x10f33d68>"
      ]
     },
     "metadata": {},
     "output_type": "display_data"
    }
   ],
   "source": [
    "#we could create similar histograms for other numeric features. For ex:\n",
    "plt.hist(pd.Series(data['PARTNERS_SHOPPED']).dropna(), bins=12)\n",
    "#note: I also changed the # of bins to 12 (default was 10)"
   ]
  },
  {
   "cell_type": "code",
   "execution_count": 34,
   "metadata": {},
   "outputs": [
    {
     "data": {
      "image/png": "[encoded data removed]",
      "text/plain": [
       "<matplotlib.figure.Figure at 0x112fd160>"
      ]
     },
     "metadata": {},
     "output_type": "display_data"
    }
   ],
   "source": [
    "#let's try another one:\n",
    "plt.hist(pd.Series(data['AVG_WKLY_SPND_ALL_PARTNERS']).dropna());\n",
    "\n",
    "#what's the problem here?\n",
    "#how do I fix it?"
   ]
  },
  {
   "cell_type": "code",
   "execution_count": 35,
   "metadata": {},
   "outputs": [
    {
     "data": {
      "text/plain": [
       "count    98465.000000\n",
       "mean        46.167885\n",
       "std         81.502148\n",
       "min          0.000000\n",
       "25%         12.087390\n",
       "50%         29.583220\n",
       "75%         62.245590\n",
       "max      15342.317340\n",
       "Name: AVG_WKLY_SPND_ALL_PARTNERS, dtype: float64"
      ]
     },
     "execution_count": 35,
     "metadata": {},
     "output_type": "execute_result"
    }
   ],
   "source": [
    "#We'll come back to fix the problem with outliers systematically, but for now let's do a quick fix\n",
    "#multistep approach\n",
    "x=pd.Series(data['AVG_WKLY_SPND_ALL_PARTNERS']).dropna()\n",
    "x.describe()\n"
   ]
  },
  {
   "cell_type": "code",
   "execution_count": 36,
   "metadata": {},
   "outputs": [
    {
     "data": {
      "text/plain": [
       "count    98465.000000\n",
       "mean        45.919038\n",
       "std         57.437184\n",
       "min          0.000000\n",
       "25%         12.087390\n",
       "50%         29.583220\n",
       "75%         62.245590\n",
       "max       3000.000000\n",
       "Name: AVG_WKLY_SPND_ALL_PARTNERS, dtype: float64"
      ]
     },
     "execution_count": 36,
     "metadata": {},
     "output_type": "execute_result"
    }
   ],
   "source": [
    "#create new copy of this, this time all values > 3000 are set to 3000\n",
    "x[x>3000] = 3000\n",
    "x.describe()"
   ]
  },
  {
   "cell_type": "code",
   "execution_count": 37,
   "metadata": {},
   "outputs": [
    {
     "data": {
      "image/png": "[encoded data removed]",
      "text/plain": [
       "<matplotlib.figure.Figure at 0x11343860>"
      ]
     },
     "metadata": {},
     "output_type": "display_data"
    }
   ],
   "source": [
    "#finally we now plot x2\n",
    "plt.hist(x, range(0, 500));\n",
    "#plt.show()\n",
    "#where(lambda x : x!=1)"
   ]
  },
  {
   "cell_type": "markdown",
   "metadata": {},
   "source": [
    "#### If we wanted to do this for all numeric features, we would need a faster way!"
   ]
  },
  {
   "cell_type": "code",
   "execution_count": 58,
   "metadata": {},
   "outputs": [
    {
     "data": {
      "image/png": "[encoded data removed]",
      "text/plain": [
       "<Figure size 432x288 with 20 Axes>"
      ]
     },
     "metadata": {
      "needs_background": "light"
     },
     "output_type": "display_data"
    }
   ],
   "source": [
    "#there are many approaches including writing your own for loop to iterate over each column\n",
    "#thankfully there is a prebuilt package that does this\n",
    "\n",
    "#however it only works for numberic features (nature of histograms) so just need to subset it first\n",
    "#Step 1: Get only numeric colums\n",
    "numeric_cols = data.select_dtypes(['number'])\n",
    "\n",
    "#Step 2: Use .diff().hist() approach to create multiple\n",
    "numeric_cols.diff().hist(color='k', alpha=0.5, bins=50);\n",
    "\n",
    "#Step 3: Go back and change plot size/format etc. to make it look better"
   ]
  },
  {
   "cell_type": "markdown",
   "metadata": {},
   "source": [
    "### Next lets look at a numeric feature against a cateogorical feature (ex: our target variable)"
   ]
  },
  {
   "cell_type": "code",
   "execution_count": 39,
   "metadata": {},
   "outputs": [
    {
     "data": {
      "image/png": "[encoded data removed]",
      "text/plain": [
       "<matplotlib.figure.Figure at 0x17da55f8>"
      ]
     },
     "metadata": {},
     "output_type": "display_data"
    }
   ],
   "source": [
    "plt.scatter(data[\"TARGET\"].astype(str), data[\"AVG_WKLY_SPND_ALL_PARTNERS\"])\n",
    "plt.margins(x=0.5)\n",
    "plt.show()\n",
    "\n",
    "#this is not very useful!\n",
    "#what else can we do?"
   ]
  },
  {
   "cell_type": "code",
   "execution_count": 40,
   "metadata": {},
   "outputs": [],
   "source": [
    "#this doesn't look very useful...so what now?\n",
    "\n",
    "#Approach to explore numeric variables vs binary target\n",
    "#1. Bin numeric variables (ex: into 10 groups, this is called deciling) to create a factor variable - review this with the class\n",
    "#2. And then:\n",
    "  #Create table that shows avg value of target by bin\n",
    "  #Or visualize on a graph"
   ]
  },
  {
   "cell_type": "code",
   "execution_count": 41,
   "metadata": {},
   "outputs": [
    {
     "data": {
      "text/plain": [
       "0     (-0.001, 4.102]\n",
       "1     (9.337, 15.018]\n",
       "2     (53.13, 73.448]\n",
       "3    (29.583, 39.735]\n",
       "4     (9.337, 15.018]\n",
       "Name: AVG_WKLY_SPND_ALL_PARTNERS, dtype: category\n",
       "Categories (10, interval[float64]): [(-0.001, 4.102] < (4.102, 9.337] < (9.337, 15.018] < (15.018, 21.655] ... (39.735, 53.13] < (53.13, 73.448] < (73.448, 108.222] < (108.222, 15342.317]]"
      ]
     },
     "execution_count": 41,
     "metadata": {},
     "output_type": "execute_result"
    }
   ],
   "source": [
    "#we use pandas cut function\n",
    "pd.qcut(data['AVG_WKLY_SPND_ALL_PARTNERS'], 10).head()\n",
    "\n",
    "#compare this to - what's the difference?\n",
    "#pd.qcut(data['AVG_WKLY_SPND_ALL_PARTNERS'], 10).head()"
   ]
  },
  {
   "cell_type": "code",
   "execution_count": 42,
   "metadata": {},
   "outputs": [
    {
     "data": {
      "image/png": "[encoded data removed]",
      "text/plain": [
       "<matplotlib.figure.Figure at 0x176156d8>"
      ]
     },
     "metadata": {},
     "output_type": "display_data"
    }
   ],
   "source": [
    "#so now that we understand bucketing/binning, we can plot binned version of this column vs target variable\n",
    "\n",
    "#we use the same reciple as before\n",
    "#crosstab_2 = pd.crosstab(data.REWARD_HIST_SEGMENT, data.CLIENT_GENDER, margins=True, normalize='index')\n",
    "#crosstab_2.plot.bar()\n",
    "\n",
    "#except now we use this newly created binned column -> pd.qcut(data['AVG_WKLY_SPND_ALL_PARTNERS'], 10)\n",
    "crosstab = pd.crosstab(pd.qcut(data['AVG_WKLY_SPND_ALL_PARTNERS'], 10), data.CLIENT_GENDER, margins=True, normalize='index')\n",
    "crosstab.plot.bar();\n",
    "\n",
    "#now what do you see?\n",
    "    #much easier to see trends --> males tense to have higher avg weekly spend accross all partners...\n",
    "    #excercise for the class - try looking at this for various other numeric features vs target variable (or other categorical features)\n",
    "    "
   ]
  },
  {
   "cell_type": "markdown",
   "metadata": {},
   "source": [
    "### Next we look at relationships b/w numeric features --> CORRELATION MATRIX and PLOTS"
   ]
  },
  {
   "cell_type": "code",
   "execution_count": 43,
   "metadata": {},
   "outputs": [
    {
     "data": {
      "text/html": [
       "<div>\n",
       "<style scoped>\n",
       "    .dataframe tbody tr th:only-of-type {\n",
       "        vertical-align: middle;\n",
       "    }\n",
       "\n",
       "    .dataframe tbody tr th {\n",
       "        vertical-align: top;\n",
       "    }\n",
       "\n",
       "    .dataframe thead th {\n",
       "        text-align: right;\n",
       "    }\n",
       "</style>\n",
       "<table border=\"1\" class=\"dataframe\">\n",
       "  <thead>\n",
       "    <tr style=\"text-align: right;\">\n",
       "      <th></th>\n",
       "      <th>TARGET</th>\n",
       "      <th>ID</th>\n",
       "      <th>NUM_FMLY_MEMBERS</th>\n",
       "      <th>NUM_CARS_HH</th>\n",
       "      <th>PARTNERS_SHOPPED</th>\n",
       "      <th>AVG_WKLY_SPND_ALL_PARTNERS</th>\n",
       "      <th>ENDING_PT_BALANCE</th>\n",
       "      <th>CNT_VISITS_GAS_STATION</th>\n",
       "      <th>PROP_WKDAY_EVE</th>\n",
       "      <th>PROP_WKDAY_DAY</th>\n",
       "      <th>PROP_WKND</th>\n",
       "      <th>FUEL_TXNS_L12</th>\n",
       "      <th>AVG_FUEL_VOL_L12</th>\n",
       "      <th>SHOP_TXNS_L12</th>\n",
       "      <th>SHOP_AVG_SPEND_L12</th>\n",
       "      <th>FUEL_CARD_FLAG</th>\n",
       "      <th>DISTANCE_KM</th>\n",
       "    </tr>\n",
       "  </thead>\n",
       "  <tbody>\n",
       "    <tr>\n",
       "      <th>TARGET</th>\n",
       "      <td>1.000000</td>\n",
       "      <td>-0.002353</td>\n",
       "      <td>-0.011216</td>\n",
       "      <td>0.018125</td>\n",
       "      <td>0.085977</td>\n",
       "      <td>0.114810</td>\n",
       "      <td>0.084221</td>\n",
       "      <td>0.178991</td>\n",
       "      <td>0.019791</td>\n",
       "      <td>0.012721</td>\n",
       "      <td>-0.028899</td>\n",
       "      <td>0.401784</td>\n",
       "      <td>0.326011</td>\n",
       "      <td>0.142917</td>\n",
       "      <td>0.000700</td>\n",
       "      <td>0.090333</td>\n",
       "      <td>0.074627</td>\n",
       "    </tr>\n",
       "    <tr>\n",
       "      <th>ID</th>\n",
       "      <td>-0.002353</td>\n",
       "      <td>1.000000</td>\n",
       "      <td>-0.000174</td>\n",
       "      <td>-0.005372</td>\n",
       "      <td>0.001132</td>\n",
       "      <td>0.006267</td>\n",
       "      <td>0.000986</td>\n",
       "      <td>-0.001978</td>\n",
       "      <td>0.005307</td>\n",
       "      <td>-0.003632</td>\n",
       "      <td>0.000118</td>\n",
       "      <td>0.004710</td>\n",
       "      <td>0.003595</td>\n",
       "      <td>0.000112</td>\n",
       "      <td>-0.003622</td>\n",
       "      <td>-0.000539</td>\n",
       "      <td>-0.004398</td>\n",
       "    </tr>\n",
       "    <tr>\n",
       "      <th>NUM_FMLY_MEMBERS</th>\n",
       "      <td>-0.011216</td>\n",
       "      <td>-0.000174</td>\n",
       "      <td>1.000000</td>\n",
       "      <td>0.327015</td>\n",
       "      <td>-0.004017</td>\n",
       "      <td>0.061405</td>\n",
       "      <td>-0.014012</td>\n",
       "      <td>0.023752</td>\n",
       "      <td>0.035535</td>\n",
       "      <td>-0.019147</td>\n",
       "      <td>-0.004699</td>\n",
       "      <td>0.033005</td>\n",
       "      <td>0.026717</td>\n",
       "      <td>0.001790</td>\n",
       "      <td>0.015526</td>\n",
       "      <td>0.006694</td>\n",
       "      <td>-0.012277</td>\n",
       "    </tr>\n",
       "    <tr>\n",
       "      <th>NUM_CARS_HH</th>\n",
       "      <td>0.018125</td>\n",
       "      <td>-0.005372</td>\n",
       "      <td>0.327015</td>\n",
       "      <td>1.000000</td>\n",
       "      <td>0.012202</td>\n",
       "      <td>0.046483</td>\n",
       "      <td>0.034932</td>\n",
       "      <td>0.085354</td>\n",
       "      <td>0.011634</td>\n",
       "      <td>0.023037</td>\n",
       "      <td>-0.034185</td>\n",
       "      <td>0.023257</td>\n",
       "      <td>0.042605</td>\n",
       "      <td>0.007538</td>\n",
       "      <td>0.003251</td>\n",
       "      <td>0.009750</td>\n",
       "      <td>-0.043463</td>\n",
       "    </tr>\n",
       "    <tr>\n",
       "      <th>PARTNERS_SHOPPED</th>\n",
       "      <td>0.085977</td>\n",
       "      <td>0.001132</td>\n",
       "      <td>-0.004017</td>\n",
       "      <td>0.012202</td>\n",
       "      <td>1.000000</td>\n",
       "      <td>0.188331</td>\n",
       "      <td>0.165562</td>\n",
       "      <td>0.201091</td>\n",
       "      <td>-0.010925</td>\n",
       "      <td>-0.013338</td>\n",
       "      <td>0.023004</td>\n",
       "      <td>0.039558</td>\n",
       "      <td>0.039756</td>\n",
       "      <td>0.006809</td>\n",
       "      <td>-0.024363</td>\n",
       "      <td>0.000242</td>\n",
       "      <td>0.294027</td>\n",
       "    </tr>\n",
       "    <tr>\n",
       "      <th>AVG_WKLY_SPND_ALL_PARTNERS</th>\n",
       "      <td>0.114810</td>\n",
       "      <td>0.006267</td>\n",
       "      <td>0.061405</td>\n",
       "      <td>0.046483</td>\n",
       "      <td>0.188331</td>\n",
       "      <td>1.000000</td>\n",
       "      <td>0.324419</td>\n",
       "      <td>0.268996</td>\n",
       "      <td>-0.007900</td>\n",
       "      <td>0.021267</td>\n",
       "      <td>-0.017892</td>\n",
       "      <td>0.188485</td>\n",
       "      <td>0.268852</td>\n",
       "      <td>0.103085</td>\n",
       "      <td>0.034839</td>\n",
       "      <td>0.062484</td>\n",
       "      <td>0.096377</td>\n",
       "    </tr>\n",
       "    <tr>\n",
       "      <th>ENDING_PT_BALANCE</th>\n",
       "      <td>0.084221</td>\n",
       "      <td>0.000986</td>\n",
       "      <td>-0.014012</td>\n",
       "      <td>0.034932</td>\n",
       "      <td>0.165562</td>\n",
       "      <td>0.324419</td>\n",
       "      <td>1.000000</td>\n",
       "      <td>0.170502</td>\n",
       "      <td>0.006516</td>\n",
       "      <td>-0.014239</td>\n",
       "      <td>0.011067</td>\n",
       "      <td>0.079507</td>\n",
       "      <td>0.103408</td>\n",
       "      <td>0.038981</td>\n",
       "      <td>0.006048</td>\n",
       "      <td>0.016294</td>\n",
       "      <td>0.083297</td>\n",
       "    </tr>\n",
       "    <tr>\n",
       "      <th>CNT_VISITS_GAS_STATION</th>\n",
       "      <td>0.178991</td>\n",
       "      <td>-0.001978</td>\n",
       "      <td>0.023752</td>\n",
       "      <td>0.085354</td>\n",
       "      <td>0.201091</td>\n",
       "      <td>0.268996</td>\n",
       "      <td>0.170502</td>\n",
       "      <td>1.000000</td>\n",
       "      <td>0.012389</td>\n",
       "      <td>0.023865</td>\n",
       "      <td>-0.035852</td>\n",
       "      <td>0.265830</td>\n",
       "      <td>0.297751</td>\n",
       "      <td>0.078604</td>\n",
       "      <td>-0.005009</td>\n",
       "      <td>0.135171</td>\n",
       "      <td>0.133006</td>\n",
       "    </tr>\n",
       "    <tr>\n",
       "      <th>PROP_WKDAY_EVE</th>\n",
       "      <td>0.019791</td>\n",
       "      <td>0.005307</td>\n",
       "      <td>0.035535</td>\n",
       "      <td>0.011634</td>\n",
       "      <td>-0.010925</td>\n",
       "      <td>-0.007900</td>\n",
       "      <td>0.006516</td>\n",
       "      <td>0.012389</td>\n",
       "      <td>1.000000</td>\n",
       "      <td>-0.481588</td>\n",
       "      <td>-0.204347</td>\n",
       "      <td>0.016424</td>\n",
       "      <td>0.010855</td>\n",
       "      <td>0.011298</td>\n",
       "      <td>0.007778</td>\n",
       "      <td>-0.005833</td>\n",
       "      <td>-0.018590</td>\n",
       "    </tr>\n",
       "    <tr>\n",
       "      <th>PROP_WKDAY_DAY</th>\n",
       "      <td>0.012721</td>\n",
       "      <td>-0.003632</td>\n",
       "      <td>-0.019147</td>\n",
       "      <td>0.023037</td>\n",
       "      <td>-0.013338</td>\n",
       "      <td>0.021267</td>\n",
       "      <td>-0.014239</td>\n",
       "      <td>0.023865</td>\n",
       "      <td>-0.481588</td>\n",
       "      <td>1.000000</td>\n",
       "      <td>-0.759493</td>\n",
       "      <td>0.043274</td>\n",
       "      <td>0.054080</td>\n",
       "      <td>0.017900</td>\n",
       "      <td>0.001748</td>\n",
       "      <td>0.050794</td>\n",
       "      <td>-0.012442</td>\n",
       "    </tr>\n",
       "    <tr>\n",
       "      <th>PROP_WKND</th>\n",
       "      <td>-0.028899</td>\n",
       "      <td>0.000118</td>\n",
       "      <td>-0.004699</td>\n",
       "      <td>-0.034185</td>\n",
       "      <td>0.023004</td>\n",
       "      <td>-0.017892</td>\n",
       "      <td>0.011067</td>\n",
       "      <td>-0.035852</td>\n",
       "      <td>-0.204347</td>\n",
       "      <td>-0.759493</td>\n",
       "      <td>1.000000</td>\n",
       "      <td>-0.061425</td>\n",
       "      <td>-0.069465</td>\n",
       "      <td>-0.029278</td>\n",
       "      <td>-0.007965</td>\n",
       "      <td>-0.052405</td>\n",
       "      <td>0.027696</td>\n",
       "    </tr>\n",
       "    <tr>\n",
       "      <th>FUEL_TXNS_L12</th>\n",
       "      <td>0.401784</td>\n",
       "      <td>0.004710</td>\n",
       "      <td>0.033005</td>\n",
       "      <td>0.023257</td>\n",
       "      <td>0.039558</td>\n",
       "      <td>0.188485</td>\n",
       "      <td>0.079507</td>\n",
       "      <td>0.265830</td>\n",
       "      <td>0.016424</td>\n",
       "      <td>0.043274</td>\n",
       "      <td>-0.061425</td>\n",
       "      <td>1.000000</td>\n",
       "      <td>0.746430</td>\n",
       "      <td>0.352927</td>\n",
       "      <td>0.025634</td>\n",
       "      <td>0.198078</td>\n",
       "      <td>0.105714</td>\n",
       "    </tr>\n",
       "    <tr>\n",
       "      <th>AVG_FUEL_VOL_L12</th>\n",
       "      <td>0.326011</td>\n",
       "      <td>0.003595</td>\n",
       "      <td>0.026717</td>\n",
       "      <td>0.042605</td>\n",
       "      <td>0.039756</td>\n",
       "      <td>0.268852</td>\n",
       "      <td>0.103408</td>\n",
       "      <td>0.297751</td>\n",
       "      <td>0.010855</td>\n",
       "      <td>0.054080</td>\n",
       "      <td>-0.069465</td>\n",
       "      <td>0.746430</td>\n",
       "      <td>1.000000</td>\n",
       "      <td>0.226697</td>\n",
       "      <td>0.085512</td>\n",
       "      <td>0.232347</td>\n",
       "      <td>0.078904</td>\n",
       "    </tr>\n",
       "    <tr>\n",
       "      <th>SHOP_TXNS_L12</th>\n",
       "      <td>0.142917</td>\n",
       "      <td>0.000112</td>\n",
       "      <td>0.001790</td>\n",
       "      <td>0.007538</td>\n",
       "      <td>0.006809</td>\n",
       "      <td>0.103085</td>\n",
       "      <td>0.038981</td>\n",
       "      <td>0.078604</td>\n",
       "      <td>0.011298</td>\n",
       "      <td>0.017900</td>\n",
       "      <td>-0.029278</td>\n",
       "      <td>0.352927</td>\n",
       "      <td>0.226697</td>\n",
       "      <td>1.000000</td>\n",
       "      <td>0.050676</td>\n",
       "      <td>0.071410</td>\n",
       "      <td>0.034045</td>\n",
       "    </tr>\n",
       "    <tr>\n",
       "      <th>SHOP_AVG_SPEND_L12</th>\n",
       "      <td>0.000700</td>\n",
       "      <td>-0.003622</td>\n",
       "      <td>0.015526</td>\n",
       "      <td>0.003251</td>\n",
       "      <td>-0.024363</td>\n",
       "      <td>0.034839</td>\n",
       "      <td>0.006048</td>\n",
       "      <td>-0.005009</td>\n",
       "      <td>0.007778</td>\n",
       "      <td>0.001748</td>\n",
       "      <td>-0.007965</td>\n",
       "      <td>0.025634</td>\n",
       "      <td>0.085512</td>\n",
       "      <td>0.050676</td>\n",
       "      <td>1.000000</td>\n",
       "      <td>0.037423</td>\n",
       "      <td>-0.001790</td>\n",
       "    </tr>\n",
       "    <tr>\n",
       "      <th>FUEL_CARD_FLAG</th>\n",
       "      <td>0.090333</td>\n",
       "      <td>-0.000539</td>\n",
       "      <td>0.006694</td>\n",
       "      <td>0.009750</td>\n",
       "      <td>0.000242</td>\n",
       "      <td>0.062484</td>\n",
       "      <td>0.016294</td>\n",
       "      <td>0.135171</td>\n",
       "      <td>-0.005833</td>\n",
       "      <td>0.050794</td>\n",
       "      <td>-0.052405</td>\n",
       "      <td>0.198078</td>\n",
       "      <td>0.232347</td>\n",
       "      <td>0.071410</td>\n",
       "      <td>0.037423</td>\n",
       "      <td>1.000000</td>\n",
       "      <td>0.025172</td>\n",
       "    </tr>\n",
       "    <tr>\n",
       "      <th>DISTANCE_KM</th>\n",
       "      <td>0.074627</td>\n",
       "      <td>-0.004398</td>\n",
       "      <td>-0.012277</td>\n",
       "      <td>-0.043463</td>\n",
       "      <td>0.294027</td>\n",
       "      <td>0.096377</td>\n",
       "      <td>0.083297</td>\n",
       "      <td>0.133006</td>\n",
       "      <td>-0.018590</td>\n",
       "      <td>-0.012442</td>\n",
       "      <td>0.027696</td>\n",
       "      <td>0.105714</td>\n",
       "      <td>0.078904</td>\n",
       "      <td>0.034045</td>\n",
       "      <td>-0.001790</td>\n",
       "      <td>0.025172</td>\n",
       "      <td>1.000000</td>\n",
       "    </tr>\n",
       "  </tbody>\n",
       "</table>\n",
       "</div>"
      ],
      "text/plain": [
       "                              TARGET        ID  NUM_FMLY_MEMBERS  NUM_CARS_HH  \\\n",
       "TARGET                      1.000000 -0.002353         -0.011216     0.018125   \n",
       "ID                         -0.002353  1.000000         -0.000174    -0.005372   \n",
       "NUM_FMLY_MEMBERS           -0.011216 -0.000174          1.000000     0.327015   \n",
       "NUM_CARS_HH                 0.018125 -0.005372          0.327015     1.000000   \n",
       "PARTNERS_SHOPPED            0.085977  0.001132         -0.004017     0.012202   \n",
       "AVG_WKLY_SPND_ALL_PARTNERS  0.114810  0.006267          0.061405     0.046483   \n",
       "ENDING_PT_BALANCE           0.084221  0.000986         -0.014012     0.034932   \n",
       "CNT_VISITS_GAS_STATION      0.178991 -0.001978          0.023752     0.085354   \n",
       "PROP_WKDAY_EVE              0.019791  0.005307          0.035535     0.011634   \n",
       "PROP_WKDAY_DAY              0.012721 -0.003632         -0.019147     0.023037   \n",
       "PROP_WKND                  -0.028899  0.000118         -0.004699    -0.034185   \n",
       "FUEL_TXNS_L12               0.401784  0.004710          0.033005     0.023257   \n",
       "AVG_FUEL_VOL_L12            0.326011  0.003595          0.026717     0.042605   \n",
       "SHOP_TXNS_L12               0.142917  0.000112          0.001790     0.007538   \n",
       "SHOP_AVG_SPEND_L12          0.000700 -0.003622          0.015526     0.003251   \n",
       "FUEL_CARD_FLAG              0.090333 -0.000539          0.006694     0.009750   \n",
       "DISTANCE_KM                 0.074627 -0.004398         -0.012277    -0.043463   \n",
       "\n",
       "                            PARTNERS_SHOPPED  AVG_WKLY_SPND_ALL_PARTNERS  \\\n",
       "TARGET                              0.085977                    0.114810   \n",
       "ID                                  0.001132                    0.006267   \n",
       "NUM_FMLY_MEMBERS                   -0.004017                    0.061405   \n",
       "NUM_CARS_HH                         0.012202                    0.046483   \n",
       "PARTNERS_SHOPPED                    1.000000                    0.188331   \n",
       "AVG_WKLY_SPND_ALL_PARTNERS          0.188331                    1.000000   \n",
       "ENDING_PT_BALANCE                   0.165562                    0.324419   \n",
       "CNT_VISITS_GAS_STATION              0.201091                    0.268996   \n",
       "PROP_WKDAY_EVE                     -0.010925                   -0.007900   \n",
       "PROP_WKDAY_DAY                     -0.013338                    0.021267   \n",
       "PROP_WKND                           0.023004                   -0.017892   \n",
       "FUEL_TXNS_L12                       0.039558                    0.188485   \n",
       "AVG_FUEL_VOL_L12                    0.039756                    0.268852   \n",
       "SHOP_TXNS_L12                       0.006809                    0.103085   \n",
       "SHOP_AVG_SPEND_L12                 -0.024363                    0.034839   \n",
       "FUEL_CARD_FLAG                      0.000242                    0.062484   \n",
       "DISTANCE_KM                         0.294027                    0.096377   \n",
       "\n",
       "                            ENDING_PT_BALANCE  CNT_VISITS_GAS_STATION  \\\n",
       "TARGET                               0.084221                0.178991   \n",
       "ID                                   0.000986               -0.001978   \n",
       "NUM_FMLY_MEMBERS                    -0.014012                0.023752   \n",
       "NUM_CARS_HH                          0.034932                0.085354   \n",
       "PARTNERS_SHOPPED                     0.165562                0.201091   \n",
       "AVG_WKLY_SPND_ALL_PARTNERS           0.324419                0.268996   \n",
       "ENDING_PT_BALANCE                    1.000000                0.170502   \n",
       "CNT_VISITS_GAS_STATION               0.170502                1.000000   \n",
       "PROP_WKDAY_EVE                       0.006516                0.012389   \n",
       "PROP_WKDAY_DAY                      -0.014239                0.023865   \n",
       "PROP_WKND                            0.011067               -0.035852   \n",
       "FUEL_TXNS_L12                        0.079507                0.265830   \n",
       "AVG_FUEL_VOL_L12                     0.103408                0.297751   \n",
       "SHOP_TXNS_L12                        0.038981                0.078604   \n",
       "SHOP_AVG_SPEND_L12                   0.006048               -0.005009   \n",
       "FUEL_CARD_FLAG                       0.016294                0.135171   \n",
       "DISTANCE_KM                          0.083297                0.133006   \n",
       "\n",
       "                            PROP_WKDAY_EVE  PROP_WKDAY_DAY  PROP_WKND  \\\n",
       "TARGET                            0.019791        0.012721  -0.028899   \n",
       "ID                                0.005307       -0.003632   0.000118   \n",
       "NUM_FMLY_MEMBERS                  0.035535       -0.019147  -0.004699   \n",
       "NUM_CARS_HH                       0.011634        0.023037  -0.034185   \n",
       "PARTNERS_SHOPPED                 -0.010925       -0.013338   0.023004   \n",
       "AVG_WKLY_SPND_ALL_PARTNERS       -0.007900        0.021267  -0.017892   \n",
       "ENDING_PT_BALANCE                 0.006516       -0.014239   0.011067   \n",
       "CNT_VISITS_GAS_STATION            0.012389        0.023865  -0.035852   \n",
       "PROP_WKDAY_EVE                    1.000000       -0.481588  -0.204347   \n",
       "PROP_WKDAY_DAY                   -0.481588        1.000000  -0.759493   \n",
       "PROP_WKND                        -0.204347       -0.759493   1.000000   \n",
       "FUEL_TXNS_L12                     0.016424        0.043274  -0.061425   \n",
       "AVG_FUEL_VOL_L12                  0.010855        0.054080  -0.069465   \n",
       "SHOP_TXNS_L12                     0.011298        0.017900  -0.029278   \n",
       "SHOP_AVG_SPEND_L12                0.007778        0.001748  -0.007965   \n",
       "FUEL_CARD_FLAG                   -0.005833        0.050794  -0.052405   \n",
       "DISTANCE_KM                      -0.018590       -0.012442   0.027696   \n",
       "\n",
       "                            FUEL_TXNS_L12  AVG_FUEL_VOL_L12  SHOP_TXNS_L12  \\\n",
       "TARGET                           0.401784          0.326011       0.142917   \n",
       "ID                               0.004710          0.003595       0.000112   \n",
       "NUM_FMLY_MEMBERS                 0.033005          0.026717       0.001790   \n",
       "NUM_CARS_HH                      0.023257          0.042605       0.007538   \n",
       "PARTNERS_SHOPPED                 0.039558          0.039756       0.006809   \n",
       "AVG_WKLY_SPND_ALL_PARTNERS       0.188485          0.268852       0.103085   \n",
       "ENDING_PT_BALANCE                0.079507          0.103408       0.038981   \n",
       "CNT_VISITS_GAS_STATION           0.265830          0.297751       0.078604   \n",
       "PROP_WKDAY_EVE                   0.016424          0.010855       0.011298   \n",
       "PROP_WKDAY_DAY                   0.043274          0.054080       0.017900   \n",
       "PROP_WKND                       -0.061425         -0.069465      -0.029278   \n",
       "FUEL_TXNS_L12                    1.000000          0.746430       0.352927   \n",
       "AVG_FUEL_VOL_L12                 0.746430          1.000000       0.226697   \n",
       "SHOP_TXNS_L12                    0.352927          0.226697       1.000000   \n",
       "SHOP_AVG_SPEND_L12               0.025634          0.085512       0.050676   \n",
       "FUEL_CARD_FLAG                   0.198078          0.232347       0.071410   \n",
       "DISTANCE_KM                      0.105714          0.078904       0.034045   \n",
       "\n",
       "                            SHOP_AVG_SPEND_L12  FUEL_CARD_FLAG  DISTANCE_KM  \n",
       "TARGET                                0.000700        0.090333     0.074627  \n",
       "ID                                   -0.003622       -0.000539    -0.004398  \n",
       "NUM_FMLY_MEMBERS                      0.015526        0.006694    -0.012277  \n",
       "NUM_CARS_HH                           0.003251        0.009750    -0.043463  \n",
       "PARTNERS_SHOPPED                     -0.024363        0.000242     0.294027  \n",
       "AVG_WKLY_SPND_ALL_PARTNERS            0.034839        0.062484     0.096377  \n",
       "ENDING_PT_BALANCE                     0.006048        0.016294     0.083297  \n",
       "CNT_VISITS_GAS_STATION               -0.005009        0.135171     0.133006  \n",
       "PROP_WKDAY_EVE                        0.007778       -0.005833    -0.018590  \n",
       "PROP_WKDAY_DAY                        0.001748        0.050794    -0.012442  \n",
       "PROP_WKND                            -0.007965       -0.052405     0.027696  \n",
       "FUEL_TXNS_L12                         0.025634        0.198078     0.105714  \n",
       "AVG_FUEL_VOL_L12                      0.085512        0.232347     0.078904  \n",
       "SHOP_TXNS_L12                         0.050676        0.071410     0.034045  \n",
       "SHOP_AVG_SPEND_L12                    1.000000        0.037423    -0.001790  \n",
       "FUEL_CARD_FLAG                        0.037423        1.000000     0.025172  \n",
       "DISTANCE_KM                          -0.001790        0.025172     1.000000  "
      ]
     },
     "execution_count": 43,
     "metadata": {},
     "output_type": "execute_result"
    }
   ],
   "source": [
    "### Next we look at relationships b/w numeric features --> CORRELATION MATRIX and PLOTS\n",
    "#to calculate the correlation matrix\n",
    "corr = numeric_cols.corr()\n",
    "corr"
   ]
  },
  {
   "cell_type": "code",
   "execution_count": 44,
   "metadata": {},
   "outputs": [],
   "source": [
    "#bonus exercise - see if you can \"melt\" this to make it easier to ready..."
   ]
  },
  {
   "cell_type": "markdown",
   "metadata": {},
   "source": [
    "### Correlation Matrix"
   ]
  },
  {
   "cell_type": "code",
   "execution_count": 45,
   "metadata": {},
   "outputs": [
    {
     "data": {
      "text/plain": [
       "<matplotlib.image.AxesImage at 0x17fb0c18>"
      ]
     },
     "execution_count": 45,
     "metadata": {},
     "output_type": "execute_result"
    },
    {
     "data": {
      "image/png": "[encoded data removed]",
      "text/plain": [
       "<matplotlib.figure.Figure at 0x176f3748>"
      ]
     },
     "metadata": {},
     "output_type": "display_data"
    }
   ],
   "source": [
    "#next you can plot this using matplotlib (what we've been using so far) - this \n",
    "plt.matshow(numeric_cols.corr())"
   ]
  },
  {
   "cell_type": "code",
   "execution_count": 46,
   "metadata": {},
   "outputs": [
    {
     "data": {
      "text/plain": [
       "<matplotlib.axes._subplots.AxesSubplot at 0x187a7be0>"
      ]
     },
     "execution_count": 46,
     "metadata": {},
     "output_type": "execute_result"
    },
    {
     "data": {
      "image/png": "[encoded data removed]",
      "text/plain": [
       "<matplotlib.figure.Figure at 0x187013c8>"
      ]
     },
     "metadata": {},
     "output_type": "display_data"
    }
   ],
   "source": [
    "#you can also try seaborn another popular data viz package for python for this heat-map\n",
    "import seaborn as sns\n",
    "corr = numeric_cols.corr()\n",
    "sns.heatmap(corr, \n",
    "            xticklabels=corr.columns.values,\n",
    "            yticklabels=corr.columns.values)"
   ]
  },
  {
   "cell_type": "code",
   "execution_count": 47,
   "metadata": {},
   "outputs": [],
   "source": [
    "#to see thcorr.head()"
   ]
  },
  {
   "cell_type": "markdown",
   "metadata": {},
   "source": [
    "## PART 5: VISUALIZING & DEALING WITH MISSING VALUES "
   ]
  },
  {
   "cell_type": "code",
   "execution_count": 48,
   "metadata": {},
   "outputs": [],
   "source": [
    "#there's a cool package that neatly shows patterns in missing data\n",
    "#check out this link: https://github.com/ResidentMario/missingno"
   ]
  },
  {
   "cell_type": "code",
   "execution_count": 49,
   "metadata": {},
   "outputs": [],
   "source": [
    "#!pip install missingno"
   ]
  },
  {
   "cell_type": "code",
   "execution_count": 50,
   "metadata": {},
   "outputs": [
    {
     "data": {
      "text/plain": [
       "<matplotlib.axes._subplots.AxesSubplot at 0x1893a518>"
      ]
     },
     "execution_count": 50,
     "metadata": {},
     "output_type": "execute_result"
    },
    {
     "data": {
      "image/png": "[encoded data removed]",
      "text/plain": [
       "<matplotlib.figure.Figure at 0x188136a0>"
      ]
     },
     "metadata": {},
     "output_type": "display_data"
    }
   ],
   "source": [
    "import missingno as msno\n",
    "%matplotlib inline\n",
    "msno.matrix(data.sample(1000))"
   ]
  },
  {
   "cell_type": "code",
   "execution_count": 51,
   "metadata": {},
   "outputs": [],
   "source": [
    "#some key advantages of the visualization above is that it helps you track which columns are often missing data \"together\"\n",
    "#often this helps you diagnose data entry or collection system probelms (web page is broken)"
   ]
  },
  {
   "cell_type": "code",
   "execution_count": 52,
   "metadata": {},
   "outputs": [
    {
     "data": {
      "text/plain": [
       "<matplotlib.axes._subplots.AxesSubplot at 0x18982470>"
      ]
     },
     "execution_count": 52,
     "metadata": {},
     "output_type": "execute_result"
    },
    {
     "data": {
      "image/png": "[encoded data removed]",
      "text/plain": [
       "<matplotlib.figure.Figure at 0x1898e4a8>"
      ]
     },
     "metadata": {},
     "output_type": "display_data"
    }
   ],
   "source": [
    "#another cool visulalization of missing data from this package is the heatmap\n",
    "msno.heatmap(data)\n",
    "\n",
    "#this looks at the corrleation of missing data"
   ]
  },
  {
   "cell_type": "markdown",
   "metadata": {},
   "source": [
    "### DEALING WITH MISSING VALUES"
   ]
  },
  {
   "cell_type": "code",
   "execution_count": 53,
   "metadata": {},
   "outputs": [],
   "source": [
    "#easiest thing would be to delete any row that has 1+ missing value\n",
    "#the problem with this is that we lose lots of data (esp due to curse of dimensionality)\n",
    "#so generally we look for other methods, but its okay to delete certain rows where x%+ columns are missing etc."
   ]
  },
  {
   "cell_type": "code",
   "execution_count": 12,
   "metadata": {},
   "outputs": [
    {
     "name": "stdout",
     "output_type": "stream",
     "text": [
      "TARGET                            0\n",
      "ID                                0\n",
      "CLIENT_GENDER                  9712\n",
      "CLIENT_AGE_BAND               10110\n",
      "NUM_FMLY_MEMBERS              41790\n",
      "NUM_CARS_HH                   46139\n",
      "CLIENT_REGION                  9167\n",
      "PARTNERS_SHOPPED                248\n",
      "AVG_WKLY_SPND_ALL_PARTNERS      249\n",
      "REWARD_HIST_SEGMENT             550\n",
      "ENDING_PT_BALANCE                 0\n",
      "CNT_VISITS_GAS_STATION            1\n",
      "PROP_WKDAY_EVE                    0\n",
      "PROP_WKDAY_DAY                    0\n",
      "PROP_WKND                         0\n",
      "FUEL_TXNS_L12                 13883\n",
      "AVG_FUEL_VOL_L12              13806\n",
      "SHOP_TXNS_L12                 50455\n",
      "SHOP_AVG_SPEND_L12            50455\n",
      "FUEL_CARD_FLAG                    0\n",
      "DISTANCE_KM                       0\n",
      "dtype: int64\n"
     ]
    }
   ],
   "source": [
    "#Before you start sometimes you may replace 0 with NaN (i.e. missing), but be careful before you do this though (does not always apply!)\n",
    "#data = data.replace(0, numpy.NaN)\n",
    "\n",
    "#check the number of NaN values in each column\n",
    "print(data.isnull().sum())"
   ]
  },
  {
   "cell_type": "markdown",
   "metadata": {},
   "source": [
    "#### Let's impute missing values with mean (try to change to median, hard-coded value, mode, etc.)"
   ]
  },
  {
   "cell_type": "code",
   "execution_count": 13,
   "metadata": {},
   "outputs": [],
   "source": [
    "#fill missing values with mean/median/other column values\n",
    "#also create a new dataframe so my original is still in-tact\n",
    "data_imputed = data\n",
    "data_imputed.fillna(data.mean(), inplace=True)"
   ]
  },
  {
   "cell_type": "code",
   "execution_count": 15,
   "metadata": {
    "scrolled": true
   },
   "outputs": [
    {
     "data": {
      "text/plain": [
       "TARGET                            0\n",
       "ID                                0\n",
       "CLIENT_GENDER                  9712\n",
       "CLIENT_AGE_BAND               10110\n",
       "NUM_FMLY_MEMBERS                  0\n",
       "NUM_CARS_HH                       0\n",
       "CLIENT_REGION                  9167\n",
       "PARTNERS_SHOPPED                  0\n",
       "AVG_WKLY_SPND_ALL_PARTNERS        0\n",
       "REWARD_HIST_SEGMENT             550\n",
       "ENDING_PT_BALANCE                 0\n",
       "CNT_VISITS_GAS_STATION            0\n",
       "PROP_WKDAY_EVE                    0\n",
       "PROP_WKDAY_DAY                    0\n",
       "PROP_WKND                         0\n",
       "FUEL_TXNS_L12                     0\n",
       "AVG_FUEL_VOL_L12                  0\n",
       "SHOP_TXNS_L12                     0\n",
       "SHOP_AVG_SPEND_L12                0\n",
       "FUEL_CARD_FLAG                    0\n",
       "DISTANCE_KM                       0\n",
       "dtype: int64"
      ]
     },
     "execution_count": 15,
     "metadata": {},
     "output_type": "execute_result"
    }
   ],
   "source": [
    "#check missing values now\n",
    "data.isnull().sum()"
   ]
  },
  {
   "cell_type": "markdown",
   "metadata": {},
   "source": [
    "#### What's the problem with this?\n",
    ">- We are imputing with mean BEFORE dealing with outliers. We probably shouldn't do that...\n",
    "- Also we should probably only do a mean imputation if there is at least X% of data populated\n",
    "- We could also consider imputting mean by groups (if height is missing can we impute different numbers for males & females?)"
   ]
  },
  {
   "cell_type": "markdown",
   "metadata": {},
   "source": [
    "#### <b> Use sklearns Imputer pre-processing"
   ]
  },
  {
   "cell_type": "markdown",
   "metadata": {},
   "source": [
    "- scikit-learn library provides a Imputer() pre-processing function\n",
    "- this does both mean imputation and creates a missing value itendifier\n",
    "- it is a flexible class that allows you to specify the value to replace (it can be something other than NaN) and the technique used to replace it (such as mean, median, or mode).\n",
    "- the Imputer class operates directly on the NumPy array instead of the DataFrame."
   ]
  },
  {
   "cell_type": "code",
   "execution_count": 57,
   "metadata": {},
   "outputs": [],
   "source": [
    "#Example below uses the Imputer class to replace missing values with the mean of each column then prints the number of NaN values in the transformed matrix.\n",
    "from sklearn.preprocessing import Imputer\n",
    "import numpy as np\n",
    "\n",
    "# First we need to subset only numeric columns\n",
    "#also you MUST drop target in this case as well (it creates problem if you don't as Imputer wont impute it!)\n",
    "#and we might as well drop ID too as there's no point in imputting that (plus its never missing)\n",
    "numeric_cols = data.drop(columns=['TARGET', 'ID']).select_dtypes(['number'])"
   ]
  },
  {
   "cell_type": "code",
   "execution_count": 58,
   "metadata": {},
   "outputs": [
    {
     "data": {
      "text/plain": [
       "NUM_FMLY_MEMBERS              0\n",
       "NUM_CARS_HH                   0\n",
       "PARTNERS_SHOPPED              0\n",
       "AVG_WKLY_SPND_ALL_PARTNERS    0\n",
       "ENDING_PT_BALANCE             0\n",
       "CNT_VISITS_GAS_STATION        0\n",
       "PROP_WKDAY_EVE                0\n",
       "PROP_WKDAY_DAY                0\n",
       "PROP_WKND                     0\n",
       "FUEL_TXNS_L12                 0\n",
       "AVG_FUEL_VOL_L12              0\n",
       "SHOP_TXNS_L12                 0\n",
       "SHOP_AVG_SPEND_L12            0\n",
       "FUEL_CARD_FLAG                0\n",
       "DISTANCE_KM                   0\n",
       "dtype: int64"
      ]
     },
     "execution_count": 58,
     "metadata": {},
     "output_type": "execute_result"
    }
   ],
   "source": [
    "#check initial nulls\n",
    "numeric_cols.isnull().sum()"
   ]
  },
  {
   "cell_type": "code",
   "execution_count": 59,
   "metadata": {},
   "outputs": [
    {
     "data": {
      "text/plain": [
       "Index(['NUM_FMLY_MEMBERS', 'NUM_CARS_HH', 'PARTNERS_SHOPPED',\n",
       "       'AVG_WKLY_SPND_ALL_PARTNERS', 'ENDING_PT_BALANCE',\n",
       "       'CNT_VISITS_GAS_STATION', 'PROP_WKDAY_EVE', 'PROP_WKDAY_DAY',\n",
       "       'PROP_WKND', 'FUEL_TXNS_L12', 'AVG_FUEL_VOL_L12', 'SHOP_TXNS_L12',\n",
       "       'SHOP_AVG_SPEND_L12', 'FUEL_CARD_FLAG', 'DISTANCE_KM'],\n",
       "      dtype='object')"
      ]
     },
     "execution_count": 59,
     "metadata": {},
     "output_type": "execute_result"
    }
   ],
   "source": [
    "#see list of column names for next step\n",
    "numeric_cols.columns"
   ]
  },
  {
   "cell_type": "code",
   "execution_count": 60,
   "metadata": {},
   "outputs": [],
   "source": [
    "#the next 2 steps are pretty much the standard recipe for applying anything from SKLEARN (model fitting or preprocessing as in this case)\n",
    "#instantiate imputer \n",
    "imp_mean=Imputer(missing_values=\"NaN\", strategy=\"mean\" )\n",
    "imp_med=Imputer(missing_values=\"NaN\", strategy=\"median\" )\n",
    "imp_mode=Imputer(missing_values=\"NaN\", strategy=\"mode\" )\n",
    "\n",
    "#fit/apply imputer\n",
    "numeric_cols[\"NUM_FMLY_MEMBERS\"]=imp_mean.fit_transform(numeric_cols[[\"NUM_FMLY_MEMBERS\"]]).ravel()\n",
    "\n",
    "#we can apply different imput methods for each column. More on this later..."
   ]
  },
  {
   "cell_type": "code",
   "execution_count": 61,
   "metadata": {},
   "outputs": [
    {
     "data": {
      "text/plain": [
       "NUM_FMLY_MEMBERS              0\n",
       "NUM_CARS_HH                   0\n",
       "PARTNERS_SHOPPED              0\n",
       "AVG_WKLY_SPND_ALL_PARTNERS    0\n",
       "ENDING_PT_BALANCE             0\n",
       "CNT_VISITS_GAS_STATION        0\n",
       "PROP_WKDAY_EVE                0\n",
       "PROP_WKDAY_DAY                0\n",
       "PROP_WKND                     0\n",
       "FUEL_TXNS_L12                 0\n",
       "AVG_FUEL_VOL_L12              0\n",
       "SHOP_TXNS_L12                 0\n",
       "SHOP_AVG_SPEND_L12            0\n",
       "FUEL_CARD_FLAG                0\n",
       "DISTANCE_KM                   0\n",
       "dtype: int64"
      ]
     },
     "execution_count": 61,
     "metadata": {},
     "output_type": "execute_result"
    }
   ],
   "source": [
    "numeric_cols.isnull().sum()"
   ]
  },
  {
   "cell_type": "code",
   "execution_count": 62,
   "metadata": {},
   "outputs": [],
   "source": [
    "#### Next we want to create a missing data flag as a feature as well\n",
    "data_prep_2=numeric_cols\n",
    "for col in data_prep_2.columns:\n",
    "    data_prep_2[col+\"_missing\"] = data_prep_2[col].isnull()"
   ]
  },
  {
   "cell_type": "code",
   "execution_count": 63,
   "metadata": {},
   "outputs": [
    {
     "data": {
      "text/plain": [
       "Index(['NUM_FMLY_MEMBERS', 'NUM_CARS_HH', 'PARTNERS_SHOPPED',\n",
       "       'AVG_WKLY_SPND_ALL_PARTNERS', 'ENDING_PT_BALANCE',\n",
       "       'CNT_VISITS_GAS_STATION', 'PROP_WKDAY_EVE', 'PROP_WKDAY_DAY',\n",
       "       'PROP_WKND', 'FUEL_TXNS_L12', 'AVG_FUEL_VOL_L12', 'SHOP_TXNS_L12',\n",
       "       'SHOP_AVG_SPEND_L12', 'FUEL_CARD_FLAG', 'DISTANCE_KM',\n",
       "       'NUM_FMLY_MEMBERS_missing', 'NUM_CARS_HH_missing',\n",
       "       'PARTNERS_SHOPPED_missing', 'AVG_WKLY_SPND_ALL_PARTNERS_missing',\n",
       "       'ENDING_PT_BALANCE_missing', 'CNT_VISITS_GAS_STATION_missing',\n",
       "       'PROP_WKDAY_EVE_missing', 'PROP_WKDAY_DAY_missing', 'PROP_WKND_missing',\n",
       "       'FUEL_TXNS_L12_missing', 'AVG_FUEL_VOL_L12_missing',\n",
       "       'SHOP_TXNS_L12_missing', 'SHOP_AVG_SPEND_L12_missing',\n",
       "       'FUEL_CARD_FLAG_missing', 'DISTANCE_KM_missing'],\n",
       "      dtype='object')"
      ]
     },
     "execution_count": 63,
     "metadata": {},
     "output_type": "execute_result"
    }
   ],
   "source": [
    "data_prep_2.columns"
   ]
  },
  {
   "cell_type": "markdown",
   "metadata": {},
   "source": [
    "## PART 6: OUTLIER DETECTION & OTHER TRANSFORMATION"
   ]
  },
  {
   "cell_type": "code",
   "execution_count": 64,
   "metadata": {},
   "outputs": [],
   "source": [
    "#### OUTLIER DETECTION - Box Plots"
   ]
  },
  {
   "cell_type": "code",
   "execution_count": 65,
   "metadata": {},
   "outputs": [
    {
     "data": {
      "text/plain": [
       "<matplotlib.axes._subplots.AxesSubplot at 0x12322358>"
      ]
     },
     "execution_count": 65,
     "metadata": {},
     "output_type": "execute_result"
    },
    {
     "data": {
      "image/png": "[encoded data removed]",
      "text/plain": [
       "<matplotlib.figure.Figure at 0x12322588>"
      ]
     },
     "metadata": {},
     "output_type": "display_data"
    }
   ],
   "source": [
    "#let's look at feautre 'CNT_VISITS_GAS_STATION' first\n",
    "i = 'CNT_VISITS_GAS_STATION'\n",
    "df=data\n",
    "\n",
    "plt.figure(figsize=(10,8))\n",
    "plt.subplot(211)\n",
    "plt.xlim(df[i].min(), df[i].max()*1.1)\n",
    " \n",
    "ax = df[i].plot(kind='kde')\n",
    " \n",
    "plt.subplot(212)\n",
    "plt.xlim(df[i].min(), df[i].max()*1.1)\n",
    "sns.boxplot(x=df[i])"
   ]
  },
  {
   "cell_type": "code",
   "execution_count": 66,
   "metadata": {},
   "outputs": [],
   "source": [
    "#One way to deal detect outliers is to IQR"
   ]
  },
  {
   "cell_type": "code",
   "execution_count": 67,
   "metadata": {},
   "outputs": [],
   "source": [
    "q75, q25 = np.percentile(data.CNT_VISITS_GAS_STATION.dropna(), [75 ,25])\n",
    "iqr = q75 - q25\n",
    "min_outlier = q25 - (iqr*1.5)\n",
    "max_outlier = q75 + (iqr*1.5)"
   ]
  },
  {
   "cell_type": "code",
   "execution_count": 68,
   "metadata": {},
   "outputs": [
    {
     "name": "stdout",
     "output_type": "stream",
     "text": [
      "-14.5     ,    29.5\n"
     ]
    }
   ],
   "source": [
    "print(min_outlier, '    ,   ', max_outlier)"
   ]
  },
  {
   "cell_type": "code",
   "execution_count": 69,
   "metadata": {},
   "outputs": [
    {
     "data": {
      "text/plain": [
       "<matplotlib.lines.Line2D at 0x174bcc50>"
      ]
     },
     "execution_count": 69,
     "metadata": {},
     "output_type": "execute_result"
    },
    {
     "data": {
      "image/png": "[encoded data removed]",
      "text/plain": [
       "<matplotlib.figure.Figure at 0x114efa58>"
      ]
     },
     "metadata": {},
     "output_type": "display_data"
    }
   ],
   "source": [
    "#visualise min/max IQR on a plot\n",
    "i = 'CNT_VISITS_GAS_STATION'\n",
    "df=data\n",
    " \n",
    "plt.subplot(212)\n",
    "plt.xlim(df[i].min(), max_outlier*1.2)\n",
    "sns.boxplot(x=df[i])\n",
    "plt.axvline(x=min_outlier)\n",
    "plt.axvline(x=max_outlier)"
   ]
  },
  {
   "cell_type": "code",
   "execution_count": 70,
   "metadata": {},
   "outputs": [],
   "source": [
    "#### Another idea would be to take the LOG first and then detect outliers."
   ]
  },
  {
   "cell_type": "code",
   "execution_count": 71,
   "metadata": {},
   "outputs": [],
   "source": [
    "#dealing with outliers by transforming (ex: Log)\n",
    "#note: log cannot deal with 0, as log(0) is infinity, so need to replace 0's with -1\n",
    "data.loc[data.CNT_VISITS_GAS_STATION == 0, 'CNT_VISITS_GAS_STATION'] = -1\n",
    "\n",
    "# Drop NA\n",
    "data['CNT_VISITS_GAS_STATION'].dropna(inplace=True)\n",
    " \n",
    "# Log Transform\n",
    "data['Log_CNT_VISITS_GAS_STATION'] = np.log(data['CNT_VISITS_GAS_STATION'])\n"
   ]
  },
  {
   "cell_type": "code",
   "execution_count": 72,
   "metadata": {},
   "outputs": [
    {
     "name": "stdout",
     "output_type": "stream",
     "text": [
      "count    98714.000000\n",
      "mean         1.702211\n",
      "std          1.195683\n",
      "min          0.000000\n",
      "25%          0.693147\n",
      "50%          1.609438\n",
      "75%          2.564949\n",
      "max          6.919684\n",
      "Name: Log_CNT_VISITS_GAS_STATION, dtype: float64\n"
     ]
    },
    {
     "data": {
      "text/plain": [
       "count    98714.000000\n",
       "mean        11.118323\n",
       "std         16.817438\n",
       "min          1.000000\n",
       "25%          2.000000\n",
       "50%          5.000000\n",
       "75%         13.000000\n",
       "max       1012.000000\n",
       "Name: CNT_VISITS_GAS_STATION, dtype: float64"
      ]
     },
     "execution_count": 72,
     "metadata": {},
     "output_type": "execute_result"
    }
   ],
   "source": [
    "print(data['Log_CNT_VISITS_GAS_STATION'].describe())\n",
    "data['CNT_VISITS_GAS_STATION'].describe()\n",
    "\n",
    "#notice how the log-scale only goes to 6.9 and we might not even have to deal with outliers..."
   ]
  },
  {
   "cell_type": "code",
   "execution_count": 73,
   "metadata": {},
   "outputs": [],
   "source": [
    "#if we wanted to try IQR again we could do so...\n",
    "#instead we'll use a different technique called outlier capping\n"
   ]
  },
  {
   "cell_type": "markdown",
   "metadata": {},
   "source": [
    "#### Outlier detection & CAPPING based on percentile-capping"
   ]
  },
  {
   "cell_type": "code",
   "execution_count": 74,
   "metadata": {},
   "outputs": [],
   "source": [
    "#provides a quick way to deal with numeric outliers\n",
    "#capping can be done based on any criteria (99th percentile, above IQR etc.)"
   ]
  },
  {
   "cell_type": "code",
   "execution_count": 75,
   "metadata": {},
   "outputs": [],
   "source": [
    "#remember we need only numeric columns for now (deal with categorial later)\n",
    "import numpy as np\n",
    "numeric_cols = data.select_dtypes(['number']).drop(columns=['TARGET','ID'])\n",
    "data_capped=numeric_cols.apply(lambda x: x.clip_upper(np.percentile(x.dropna(), 98)))\n"
   ]
  },
  {
   "cell_type": "markdown",
   "metadata": {},
   "source": [
    "Compare distributionof original vs capped\n"
   ]
  },
  {
   "cell_type": "code",
   "execution_count": 76,
   "metadata": {},
   "outputs": [
    {
     "data": {
      "text/html": [
       "<div>\n",
       "<style scoped>\n",
       "    .dataframe tbody tr th:only-of-type {\n",
       "        vertical-align: middle;\n",
       "    }\n",
       "\n",
       "    .dataframe tbody tr th {\n",
       "        vertical-align: top;\n",
       "    }\n",
       "\n",
       "    .dataframe thead th {\n",
       "        text-align: right;\n",
       "    }\n",
       "</style>\n",
       "<table border=\"1\" class=\"dataframe\">\n",
       "  <thead>\n",
       "    <tr style=\"text-align: right;\">\n",
       "      <th></th>\n",
       "      <th>NUM_FMLY_MEMBERS</th>\n",
       "      <th>NUM_CARS_HH</th>\n",
       "      <th>PARTNERS_SHOPPED</th>\n",
       "      <th>AVG_WKLY_SPND_ALL_PARTNERS</th>\n",
       "      <th>ENDING_PT_BALANCE</th>\n",
       "      <th>CNT_VISITS_GAS_STATION</th>\n",
       "      <th>PROP_WKDAY_EVE</th>\n",
       "      <th>PROP_WKDAY_DAY</th>\n",
       "      <th>PROP_WKND</th>\n",
       "      <th>FUEL_TXNS_L12</th>\n",
       "      <th>AVG_FUEL_VOL_L12</th>\n",
       "      <th>SHOP_TXNS_L12</th>\n",
       "      <th>SHOP_AVG_SPEND_L12</th>\n",
       "      <th>FUEL_CARD_FLAG</th>\n",
       "      <th>DISTANCE_KM</th>\n",
       "      <th>Log_CNT_VISITS_GAS_STATION</th>\n",
       "    </tr>\n",
       "  </thead>\n",
       "  <tbody>\n",
       "    <tr>\n",
       "      <th>count</th>\n",
       "      <td>98714.000000</td>\n",
       "      <td>98714.000000</td>\n",
       "      <td>98714.000000</td>\n",
       "      <td>98714.000000</td>\n",
       "      <td>98714.000000</td>\n",
       "      <td>98714.000000</td>\n",
       "      <td>98714.000000</td>\n",
       "      <td>98714.000000</td>\n",
       "      <td>98714.000000</td>\n",
       "      <td>98714.000000</td>\n",
       "      <td>98714.000000</td>\n",
       "      <td>98714.000000</td>\n",
       "      <td>98714.000000</td>\n",
       "      <td>98714.000000</td>\n",
       "      <td>98714.000000</td>\n",
       "      <td>98714.000000</td>\n",
       "    </tr>\n",
       "    <tr>\n",
       "      <th>mean</th>\n",
       "      <td>2.894737</td>\n",
       "      <td>1.728236</td>\n",
       "      <td>2.963693</td>\n",
       "      <td>46.167885</td>\n",
       "      <td>4919.443433</td>\n",
       "      <td>11.118323</td>\n",
       "      <td>0.135107</td>\n",
       "      <td>0.580036</td>\n",
       "      <td>0.284857</td>\n",
       "      <td>10.249909</td>\n",
       "      <td>327.959795</td>\n",
       "      <td>5.660664</td>\n",
       "      <td>4.674817</td>\n",
       "      <td>0.037077</td>\n",
       "      <td>10.033388</td>\n",
       "      <td>1.702211</td>\n",
       "    </tr>\n",
       "    <tr>\n",
       "      <th>std</th>\n",
       "      <td>1.020786</td>\n",
       "      <td>0.673730</td>\n",
       "      <td>1.235105</td>\n",
       "      <td>81.399290</td>\n",
       "      <td>11529.172773</td>\n",
       "      <td>16.817438</td>\n",
       "      <td>0.228338</td>\n",
       "      <td>0.343604</td>\n",
       "      <td>0.307625</td>\n",
       "      <td>15.616962</td>\n",
       "      <td>693.713645</td>\n",
       "      <td>9.324006</td>\n",
       "      <td>5.314228</td>\n",
       "      <td>0.188951</td>\n",
       "      <td>3.689799</td>\n",
       "      <td>1.195683</td>\n",
       "    </tr>\n",
       "    <tr>\n",
       "      <th>min</th>\n",
       "      <td>1.000000</td>\n",
       "      <td>0.000000</td>\n",
       "      <td>0.000000</td>\n",
       "      <td>0.000000</td>\n",
       "      <td>-6324.000000</td>\n",
       "      <td>1.000000</td>\n",
       "      <td>0.000000</td>\n",
       "      <td>0.000000</td>\n",
       "      <td>0.000000</td>\n",
       "      <td>1.000000</td>\n",
       "      <td>1.000000</td>\n",
       "      <td>1.000000</td>\n",
       "      <td>0.000000</td>\n",
       "      <td>0.000000</td>\n",
       "      <td>0.000000</td>\n",
       "      <td>0.000000</td>\n",
       "    </tr>\n",
       "    <tr>\n",
       "      <th>25%</th>\n",
       "      <td>2.000000</td>\n",
       "      <td>1.728236</td>\n",
       "      <td>2.000000</td>\n",
       "      <td>12.122863</td>\n",
       "      <td>728.000000</td>\n",
       "      <td>2.000000</td>\n",
       "      <td>0.000000</td>\n",
       "      <td>0.333333</td>\n",
       "      <td>0.000000</td>\n",
       "      <td>2.000000</td>\n",
       "      <td>40.700000</td>\n",
       "      <td>2.000000</td>\n",
       "      <td>3.360000</td>\n",
       "      <td>0.000000</td>\n",
       "      <td>9.812254</td>\n",
       "      <td>0.693147</td>\n",
       "    </tr>\n",
       "    <tr>\n",
       "      <th>50%</th>\n",
       "      <td>2.894737</td>\n",
       "      <td>1.728236</td>\n",
       "      <td>3.000000</td>\n",
       "      <td>29.686880</td>\n",
       "      <td>2011.000000</td>\n",
       "      <td>5.000000</td>\n",
       "      <td>0.000000</td>\n",
       "      <td>0.617021</td>\n",
       "      <td>0.209302</td>\n",
       "      <td>6.000000</td>\n",
       "      <td>146.875000</td>\n",
       "      <td>5.660664</td>\n",
       "      <td>4.674817</td>\n",
       "      <td>0.000000</td>\n",
       "      <td>10.966584</td>\n",
       "      <td>1.609438</td>\n",
       "    </tr>\n",
       "    <tr>\n",
       "      <th>75%</th>\n",
       "      <td>3.000000</td>\n",
       "      <td>2.000000</td>\n",
       "      <td>4.000000</td>\n",
       "      <td>62.126805</td>\n",
       "      <td>5097.000000</td>\n",
       "      <td>13.000000</td>\n",
       "      <td>0.200000</td>\n",
       "      <td>0.904762</td>\n",
       "      <td>0.433209</td>\n",
       "      <td>10.249909</td>\n",
       "      <td>327.959795</td>\n",
       "      <td>5.660664</td>\n",
       "      <td>4.674817</td>\n",
       "      <td>0.000000</td>\n",
       "      <td>11.713106</td>\n",
       "      <td>2.564949</td>\n",
       "    </tr>\n",
       "    <tr>\n",
       "      <th>max</th>\n",
       "      <td>10.000000</td>\n",
       "      <td>9.000000</td>\n",
       "      <td>13.000000</td>\n",
       "      <td>15342.317340</td>\n",
       "      <td>693385.000000</td>\n",
       "      <td>1012.000000</td>\n",
       "      <td>1.000000</td>\n",
       "      <td>1.000000</td>\n",
       "      <td>1.000000</td>\n",
       "      <td>649.000000</td>\n",
       "      <td>37232.370000</td>\n",
       "      <td>526.000000</td>\n",
       "      <td>416.690000</td>\n",
       "      <td>1.000000</td>\n",
       "      <td>24.559018</td>\n",
       "      <td>6.919684</td>\n",
       "    </tr>\n",
       "  </tbody>\n",
       "</table>\n",
       "</div>"
      ],
      "text/plain": [
       "       NUM_FMLY_MEMBERS   NUM_CARS_HH  PARTNERS_SHOPPED  \\\n",
       "count      98714.000000  98714.000000      98714.000000   \n",
       "mean           2.894737      1.728236          2.963693   \n",
       "std            1.020786      0.673730          1.235105   \n",
       "min            1.000000      0.000000          0.000000   \n",
       "25%            2.000000      1.728236          2.000000   \n",
       "50%            2.894737      1.728236          3.000000   \n",
       "75%            3.000000      2.000000          4.000000   \n",
       "max           10.000000      9.000000         13.000000   \n",
       "\n",
       "       AVG_WKLY_SPND_ALL_PARTNERS  ENDING_PT_BALANCE  CNT_VISITS_GAS_STATION  \\\n",
       "count                98714.000000       98714.000000            98714.000000   \n",
       "mean                    46.167885        4919.443433               11.118323   \n",
       "std                     81.399290       11529.172773               16.817438   \n",
       "min                      0.000000       -6324.000000                1.000000   \n",
       "25%                     12.122863         728.000000                2.000000   \n",
       "50%                     29.686880        2011.000000                5.000000   \n",
       "75%                     62.126805        5097.000000               13.000000   \n",
       "max                  15342.317340      693385.000000             1012.000000   \n",
       "\n",
       "       PROP_WKDAY_EVE  PROP_WKDAY_DAY     PROP_WKND  FUEL_TXNS_L12  \\\n",
       "count    98714.000000    98714.000000  98714.000000   98714.000000   \n",
       "mean         0.135107        0.580036      0.284857      10.249909   \n",
       "std          0.228338        0.343604      0.307625      15.616962   \n",
       "min          0.000000        0.000000      0.000000       1.000000   \n",
       "25%          0.000000        0.333333      0.000000       2.000000   \n",
       "50%          0.000000        0.617021      0.209302       6.000000   \n",
       "75%          0.200000        0.904762      0.433209      10.249909   \n",
       "max          1.000000        1.000000      1.000000     649.000000   \n",
       "\n",
       "       AVG_FUEL_VOL_L12  SHOP_TXNS_L12  SHOP_AVG_SPEND_L12  FUEL_CARD_FLAG  \\\n",
       "count      98714.000000   98714.000000        98714.000000    98714.000000   \n",
       "mean         327.959795       5.660664            4.674817        0.037077   \n",
       "std          693.713645       9.324006            5.314228        0.188951   \n",
       "min            1.000000       1.000000            0.000000        0.000000   \n",
       "25%           40.700000       2.000000            3.360000        0.000000   \n",
       "50%          146.875000       5.660664            4.674817        0.000000   \n",
       "75%          327.959795       5.660664            4.674817        0.000000   \n",
       "max        37232.370000     526.000000          416.690000        1.000000   \n",
       "\n",
       "        DISTANCE_KM  Log_CNT_VISITS_GAS_STATION  \n",
       "count  98714.000000                98714.000000  \n",
       "mean      10.033388                    1.702211  \n",
       "std        3.689799                    1.195683  \n",
       "min        0.000000                    0.000000  \n",
       "25%        9.812254                    0.693147  \n",
       "50%       10.966584                    1.609438  \n",
       "75%       11.713106                    2.564949  \n",
       "max       24.559018                    6.919684  "
      ]
     },
     "execution_count": 76,
     "metadata": {},
     "output_type": "execute_result"
    }
   ],
   "source": [
    "#compare distributionof original vs capped\n",
    "numeric_cols.describe()"
   ]
  },
  {
   "cell_type": "code",
   "execution_count": 77,
   "metadata": {},
   "outputs": [
    {
     "data": {
      "text/plain": [
       "Index(['NUM_FMLY_MEMBERS', 'NUM_CARS_HH', 'PARTNERS_SHOPPED',\n",
       "       'AVG_WKLY_SPND_ALL_PARTNERS', 'ENDING_PT_BALANCE',\n",
       "       'CNT_VISITS_GAS_STATION', 'PROP_WKDAY_EVE', 'PROP_WKDAY_DAY',\n",
       "       'PROP_WKND', 'FUEL_TXNS_L12', 'AVG_FUEL_VOL_L12', 'SHOP_TXNS_L12',\n",
       "       'SHOP_AVG_SPEND_L12', 'FUEL_CARD_FLAG', 'DISTANCE_KM',\n",
       "       'Log_CNT_VISITS_GAS_STATION'],\n",
       "      dtype='object')"
      ]
     },
     "execution_count": 77,
     "metadata": {},
     "output_type": "execute_result"
    }
   ],
   "source": [
    "data_capped.describe()\n",
    "data_capped.columns"
   ]
  },
  {
   "cell_type": "code",
   "execution_count": 78,
   "metadata": {
    "scrolled": true
   },
   "outputs": [
    {
     "data": {
      "text/html": [
       "<div>\n",
       "<style scoped>\n",
       "    .dataframe tbody tr th:only-of-type {\n",
       "        vertical-align: middle;\n",
       "    }\n",
       "\n",
       "    .dataframe tbody tr th {\n",
       "        vertical-align: top;\n",
       "    }\n",
       "\n",
       "    .dataframe thead th {\n",
       "        text-align: right;\n",
       "    }\n",
       "</style>\n",
       "<table border=\"1\" class=\"dataframe\">\n",
       "  <thead>\n",
       "    <tr style=\"text-align: right;\">\n",
       "      <th></th>\n",
       "      <th>NUM_FMLY_MEMBERS</th>\n",
       "      <th>PARTNERS_SHOPPED</th>\n",
       "      <th>NUM_CARS_HH</th>\n",
       "      <th>PARTNERS_SHOPPED</th>\n",
       "      <th>AVG_WKLY_SPND_ALL_PARTNERS</th>\n",
       "      <th>ENDING_PT_BALANCE</th>\n",
       "      <th>FUEL_TXNS_L12</th>\n",
       "      <th>AVG_FUEL_VOL_L12</th>\n",
       "      <th>SHOP_TXNS_L12</th>\n",
       "      <th>SHOP_AVG_SPEND_L12</th>\n",
       "    </tr>\n",
       "  </thead>\n",
       "  <tbody>\n",
       "    <tr>\n",
       "      <th>count</th>\n",
       "      <td>98714.000000</td>\n",
       "      <td>98714.000000</td>\n",
       "      <td>98714.000000</td>\n",
       "      <td>98714.000000</td>\n",
       "      <td>98714.000000</td>\n",
       "      <td>98714.000000</td>\n",
       "      <td>98714.000000</td>\n",
       "      <td>98714.000000</td>\n",
       "      <td>98714.000000</td>\n",
       "      <td>98714.000000</td>\n",
       "    </tr>\n",
       "    <tr>\n",
       "      <th>mean</th>\n",
       "      <td>2.865521</td>\n",
       "      <td>2.949754</td>\n",
       "      <td>1.718085</td>\n",
       "      <td>2.949754</td>\n",
       "      <td>44.338007</td>\n",
       "      <td>4356.155338</td>\n",
       "      <td>9.645121</td>\n",
       "      <td>296.061562</td>\n",
       "      <td>5.136858</td>\n",
       "      <td>4.398752</td>\n",
       "    </tr>\n",
       "    <tr>\n",
       "      <th>std</th>\n",
       "      <td>0.925747</td>\n",
       "      <td>1.188921</td>\n",
       "      <td>0.619877</td>\n",
       "      <td>1.188921</td>\n",
       "      <td>43.648276</td>\n",
       "      <td>6271.131855</td>\n",
       "      <td>11.702096</td>\n",
       "      <td>406.249807</td>\n",
       "      <td>3.933727</td>\n",
       "      <td>1.957448</td>\n",
       "    </tr>\n",
       "    <tr>\n",
       "      <th>min</th>\n",
       "      <td>1.000000</td>\n",
       "      <td>0.000000</td>\n",
       "      <td>0.000000</td>\n",
       "      <td>0.000000</td>\n",
       "      <td>0.000000</td>\n",
       "      <td>-6324.000000</td>\n",
       "      <td>1.000000</td>\n",
       "      <td>1.000000</td>\n",
       "      <td>1.000000</td>\n",
       "      <td>0.000000</td>\n",
       "    </tr>\n",
       "    <tr>\n",
       "      <th>25%</th>\n",
       "      <td>2.000000</td>\n",
       "      <td>2.000000</td>\n",
       "      <td>1.728236</td>\n",
       "      <td>2.000000</td>\n",
       "      <td>12.122863</td>\n",
       "      <td>728.000000</td>\n",
       "      <td>2.000000</td>\n",
       "      <td>40.700000</td>\n",
       "      <td>2.000000</td>\n",
       "      <td>3.360000</td>\n",
       "    </tr>\n",
       "    <tr>\n",
       "      <th>50%</th>\n",
       "      <td>2.894737</td>\n",
       "      <td>3.000000</td>\n",
       "      <td>1.728236</td>\n",
       "      <td>3.000000</td>\n",
       "      <td>29.686880</td>\n",
       "      <td>2011.000000</td>\n",
       "      <td>6.000000</td>\n",
       "      <td>146.875000</td>\n",
       "      <td>5.660664</td>\n",
       "      <td>4.674817</td>\n",
       "    </tr>\n",
       "    <tr>\n",
       "      <th>75%</th>\n",
       "      <td>3.000000</td>\n",
       "      <td>4.000000</td>\n",
       "      <td>2.000000</td>\n",
       "      <td>4.000000</td>\n",
       "      <td>62.126805</td>\n",
       "      <td>5097.000000</td>\n",
       "      <td>10.249909</td>\n",
       "      <td>327.959795</td>\n",
       "      <td>5.660664</td>\n",
       "      <td>4.674817</td>\n",
       "    </tr>\n",
       "    <tr>\n",
       "      <th>max</th>\n",
       "      <td>5.000000</td>\n",
       "      <td>6.000000</td>\n",
       "      <td>4.000000</td>\n",
       "      <td>6.000000</td>\n",
       "      <td>185.022685</td>\n",
       "      <td>31639.480000</td>\n",
       "      <td>55.000000</td>\n",
       "      <td>2004.704800</td>\n",
       "      <td>23.000000</td>\n",
       "      <td>12.260000</td>\n",
       "    </tr>\n",
       "  </tbody>\n",
       "</table>\n",
       "</div>"
      ],
      "text/plain": [
       "       NUM_FMLY_MEMBERS  PARTNERS_SHOPPED   NUM_CARS_HH  PARTNERS_SHOPPED  \\\n",
       "count      98714.000000      98714.000000  98714.000000      98714.000000   \n",
       "mean           2.865521          2.949754      1.718085          2.949754   \n",
       "std            0.925747          1.188921      0.619877          1.188921   \n",
       "min            1.000000          0.000000      0.000000          0.000000   \n",
       "25%            2.000000          2.000000      1.728236          2.000000   \n",
       "50%            2.894737          3.000000      1.728236          3.000000   \n",
       "75%            3.000000          4.000000      2.000000          4.000000   \n",
       "max            5.000000          6.000000      4.000000          6.000000   \n",
       "\n",
       "       AVG_WKLY_SPND_ALL_PARTNERS  ENDING_PT_BALANCE  FUEL_TXNS_L12  \\\n",
       "count                98714.000000       98714.000000   98714.000000   \n",
       "mean                    44.338007        4356.155338       9.645121   \n",
       "std                     43.648276        6271.131855      11.702096   \n",
       "min                      0.000000       -6324.000000       1.000000   \n",
       "25%                     12.122863         728.000000       2.000000   \n",
       "50%                     29.686880        2011.000000       6.000000   \n",
       "75%                     62.126805        5097.000000      10.249909   \n",
       "max                    185.022685       31639.480000      55.000000   \n",
       "\n",
       "       AVG_FUEL_VOL_L12  SHOP_TXNS_L12  SHOP_AVG_SPEND_L12  \n",
       "count      98714.000000   98714.000000        98714.000000  \n",
       "mean         296.061562       5.136858            4.398752  \n",
       "std          406.249807       3.933727            1.957448  \n",
       "min            1.000000       1.000000            0.000000  \n",
       "25%           40.700000       2.000000            3.360000  \n",
       "50%          146.875000       5.660664            4.674817  \n",
       "75%          327.959795       5.660664            4.674817  \n",
       "max         2004.704800      23.000000           12.260000  "
      ]
     },
     "execution_count": 78,
     "metadata": {},
     "output_type": "execute_result"
    }
   ],
   "source": [
    "#next we will apply log transforms to certain features\n",
    "log_cols=data_capped[['NUM_FMLY_MEMBERS', 'PARTNERS_SHOPPED','NUM_CARS_HH','PARTNERS_SHOPPED','AVG_WKLY_SPND_ALL_PARTNERS'\\\n",
    "                      ,'ENDING_PT_BALANCE','FUEL_TXNS_L12', 'AVG_FUEL_VOL_L12', 'SHOP_TXNS_L12','SHOP_AVG_SPEND_L12']]\n",
    "log_cols.describe()\n",
    "#data_capped_nonzero = data_capped.replace(0,-0.02)"
   ]
  },
  {
   "cell_type": "code",
   "execution_count": 79,
   "metadata": {},
   "outputs": [
    {
     "data": {
      "text/html": [
       "<div>\n",
       "<style scoped>\n",
       "    .dataframe tbody tr th:only-of-type {\n",
       "        vertical-align: middle;\n",
       "    }\n",
       "\n",
       "    .dataframe tbody tr th {\n",
       "        vertical-align: top;\n",
       "    }\n",
       "\n",
       "    .dataframe thead th {\n",
       "        text-align: right;\n",
       "    }\n",
       "</style>\n",
       "<table border=\"1\" class=\"dataframe\">\n",
       "  <thead>\n",
       "    <tr style=\"text-align: right;\">\n",
       "      <th></th>\n",
       "      <th>NUM_FMLY_MEMBERS</th>\n",
       "      <th>PARTNERS_SHOPPED</th>\n",
       "      <th>NUM_CARS_HH</th>\n",
       "      <th>PARTNERS_SHOPPED</th>\n",
       "      <th>AVG_WKLY_SPND_ALL_PARTNERS</th>\n",
       "      <th>ENDING_PT_BALANCE</th>\n",
       "      <th>FUEL_TXNS_L12</th>\n",
       "      <th>AVG_FUEL_VOL_L12</th>\n",
       "      <th>SHOP_TXNS_L12</th>\n",
       "      <th>SHOP_AVG_SPEND_L12</th>\n",
       "    </tr>\n",
       "  </thead>\n",
       "  <tbody>\n",
       "    <tr>\n",
       "      <th>count</th>\n",
       "      <td>98714.000000</td>\n",
       "      <td>98714.000000</td>\n",
       "      <td>98714.000000</td>\n",
       "      <td>98714.000000</td>\n",
       "      <td>98714.000000</td>\n",
       "      <td>98714.000000</td>\n",
       "      <td>98714.000000</td>\n",
       "      <td>98714.000000</td>\n",
       "      <td>98714.000000</td>\n",
       "      <td>98714.000000</td>\n",
       "    </tr>\n",
       "    <tr>\n",
       "      <th>mean</th>\n",
       "      <td>2.865521</td>\n",
       "      <td>2.949751</td>\n",
       "      <td>1.717730</td>\n",
       "      <td>2.949751</td>\n",
       "      <td>44.337945</td>\n",
       "      <td>4356.155336</td>\n",
       "      <td>9.645121</td>\n",
       "      <td>296.061562</td>\n",
       "      <td>5.136858</td>\n",
       "      <td>4.398694</td>\n",
       "    </tr>\n",
       "    <tr>\n",
       "      <th>std</th>\n",
       "      <td>0.925747</td>\n",
       "      <td>1.188929</td>\n",
       "      <td>0.620866</td>\n",
       "      <td>1.188929</td>\n",
       "      <td>43.648339</td>\n",
       "      <td>6271.131856</td>\n",
       "      <td>11.702096</td>\n",
       "      <td>406.249807</td>\n",
       "      <td>3.933727</td>\n",
       "      <td>1.957578</td>\n",
       "    </tr>\n",
       "    <tr>\n",
       "      <th>min</th>\n",
       "      <td>1.000000</td>\n",
       "      <td>-0.020000</td>\n",
       "      <td>-0.020000</td>\n",
       "      <td>-0.020000</td>\n",
       "      <td>-0.020000</td>\n",
       "      <td>-6324.000000</td>\n",
       "      <td>1.000000</td>\n",
       "      <td>1.000000</td>\n",
       "      <td>1.000000</td>\n",
       "      <td>-0.020000</td>\n",
       "    </tr>\n",
       "    <tr>\n",
       "      <th>25%</th>\n",
       "      <td>2.000000</td>\n",
       "      <td>2.000000</td>\n",
       "      <td>1.728236</td>\n",
       "      <td>2.000000</td>\n",
       "      <td>12.122863</td>\n",
       "      <td>728.000000</td>\n",
       "      <td>2.000000</td>\n",
       "      <td>40.700000</td>\n",
       "      <td>2.000000</td>\n",
       "      <td>3.360000</td>\n",
       "    </tr>\n",
       "    <tr>\n",
       "      <th>50%</th>\n",
       "      <td>2.894737</td>\n",
       "      <td>3.000000</td>\n",
       "      <td>1.728236</td>\n",
       "      <td>3.000000</td>\n",
       "      <td>29.686880</td>\n",
       "      <td>2011.000000</td>\n",
       "      <td>6.000000</td>\n",
       "      <td>146.875000</td>\n",
       "      <td>5.660664</td>\n",
       "      <td>4.674817</td>\n",
       "    </tr>\n",
       "    <tr>\n",
       "      <th>75%</th>\n",
       "      <td>3.000000</td>\n",
       "      <td>4.000000</td>\n",
       "      <td>2.000000</td>\n",
       "      <td>4.000000</td>\n",
       "      <td>62.126805</td>\n",
       "      <td>5097.000000</td>\n",
       "      <td>10.249909</td>\n",
       "      <td>327.959795</td>\n",
       "      <td>5.660664</td>\n",
       "      <td>4.674817</td>\n",
       "    </tr>\n",
       "    <tr>\n",
       "      <th>max</th>\n",
       "      <td>5.000000</td>\n",
       "      <td>6.000000</td>\n",
       "      <td>4.000000</td>\n",
       "      <td>6.000000</td>\n",
       "      <td>185.022685</td>\n",
       "      <td>31639.480000</td>\n",
       "      <td>55.000000</td>\n",
       "      <td>2004.704800</td>\n",
       "      <td>23.000000</td>\n",
       "      <td>12.260000</td>\n",
       "    </tr>\n",
       "  </tbody>\n",
       "</table>\n",
       "</div>"
      ],
      "text/plain": [
       "       NUM_FMLY_MEMBERS  PARTNERS_SHOPPED   NUM_CARS_HH  PARTNERS_SHOPPED  \\\n",
       "count      98714.000000      98714.000000  98714.000000      98714.000000   \n",
       "mean           2.865521          2.949751      1.717730          2.949751   \n",
       "std            0.925747          1.188929      0.620866          1.188929   \n",
       "min            1.000000         -0.020000     -0.020000         -0.020000   \n",
       "25%            2.000000          2.000000      1.728236          2.000000   \n",
       "50%            2.894737          3.000000      1.728236          3.000000   \n",
       "75%            3.000000          4.000000      2.000000          4.000000   \n",
       "max            5.000000          6.000000      4.000000          6.000000   \n",
       "\n",
       "       AVG_WKLY_SPND_ALL_PARTNERS  ENDING_PT_BALANCE  FUEL_TXNS_L12  \\\n",
       "count                98714.000000       98714.000000   98714.000000   \n",
       "mean                    44.337945        4356.155336       9.645121   \n",
       "std                     43.648339        6271.131856      11.702096   \n",
       "min                     -0.020000       -6324.000000       1.000000   \n",
       "25%                     12.122863         728.000000       2.000000   \n",
       "50%                     29.686880        2011.000000       6.000000   \n",
       "75%                     62.126805        5097.000000      10.249909   \n",
       "max                    185.022685       31639.480000      55.000000   \n",
       "\n",
       "       AVG_FUEL_VOL_L12  SHOP_TXNS_L12  SHOP_AVG_SPEND_L12  \n",
       "count      98714.000000   98714.000000        98714.000000  \n",
       "mean         296.061562       5.136858            4.398694  \n",
       "std          406.249807       3.933727            1.957578  \n",
       "min            1.000000       1.000000           -0.020000  \n",
       "25%           40.700000       2.000000            3.360000  \n",
       "50%          146.875000       5.660664            4.674817  \n",
       "75%          327.959795       5.660664            4.674817  \n",
       "max         2004.704800      23.000000           12.260000  "
      ]
     },
     "execution_count": 79,
     "metadata": {},
     "output_type": "execute_result"
    }
   ],
   "source": [
    "#next replace 0 with small negative values otherwise log will fail\n",
    "log_cols_non_zero = log_cols.replace(0,-0.02)\n",
    "log_cols_non_zero.describe()"
   ]
  },
  {
   "cell_type": "code",
   "execution_count": 80,
   "metadata": {},
   "outputs": [],
   "source": [
    "log_cols_non_zero['Log_NUM_FMLY_MEMBERS'] = np.log(log_cols_non_zero['NUM_FMLY_MEMBERS'])"
   ]
  },
  {
   "cell_type": "code",
   "execution_count": 81,
   "metadata": {},
   "outputs": [
    {
     "data": {
      "text/plain": [
       "count    98714.000000\n",
       "mean         0.992132\n",
       "std          0.369602\n",
       "min          0.000000\n",
       "25%          0.693147\n",
       "50%          1.062894\n",
       "75%          1.098612\n",
       "max          1.609438\n",
       "Name: Log_NUM_FMLY_MEMBERS, dtype: float64"
      ]
     },
     "execution_count": 81,
     "metadata": {},
     "output_type": "execute_result"
    }
   ],
   "source": [
    "log_cols_non_zero['Log_NUM_FMLY_MEMBERS'].describe()"
   ]
  },
  {
   "cell_type": "markdown",
   "metadata": {},
   "source": [
    "\n",
    "in next section we see how to apply log transformation to many features at once"
   ]
  },
  {
   "cell_type": "code",
   "execution_count": null,
   "metadata": {},
   "outputs": [],
   "source": []
  },
  {
   "cell_type": "markdown",
   "metadata": {},
   "source": [
    "## PART 7: PUTTING IT ALL TOGETHER & FITTING A MODEL"
   ]
  },
  {
   "cell_type": "markdown",
   "metadata": {},
   "source": [
    "### HERE'S A SHORT STRATEGY WE'LL USE FOR DATA PREP\n",
    "> - Step 1: Apply lower limit =0 and upper-limit capping at 99th percentile to certain numeric features where appropriate\n",
    "> - Step 2: Apply log transformations to highly skewed numeric features\n",
    "> - Step 3: Apply median imputation for all logged features & create imputed_flag as a feature\n",
    "> - Step 4: Apply mean imputation for all other numeric features & create missing flag\n",
    "> - Step 5: Create a missing flag column for all categorial missing feature\n",
    "\n",
    "ONCE THAT'S COMPLETE WE'LL FIT SEVERAL SK-LEARN CLASSIFIERS\n",
    "> - Step 6: Join everythig together from step 1-5\n",
    "> - Step 7: Feed into SK LEARN"
   ]
  },
  {
   "cell_type": "markdown",
   "metadata": {},
   "source": [
    "#### STEP 1: Apply lower limit=0 and upper limit 99th percentile outlier capping to raw numeric features"
   ]
  },
  {
   "cell_type": "code",
   "execution_count": 25,
   "metadata": {},
   "outputs": [],
   "source": [
    "#reimport data so we start fresh\n",
    "data = pd.read_csv('PREMIUM_FUEL.csv')"
   ]
  },
  {
   "cell_type": "code",
   "execution_count": 26,
   "metadata": {},
   "outputs": [
    {
     "data": {
      "text/plain": [
       "Index(['NUM_FMLY_MEMBERS', 'NUM_CARS_HH', 'PARTNERS_SHOPPED',\n",
       "       'AVG_WKLY_SPND_ALL_PARTNERS', 'ENDING_PT_BALANCE',\n",
       "       'CNT_VISITS_GAS_STATION', 'PROP_WKDAY_EVE', 'PROP_WKDAY_DAY',\n",
       "       'PROP_WKND', 'FUEL_TXNS_L12', 'AVG_FUEL_VOL_L12', 'SHOP_TXNS_L12',\n",
       "       'SHOP_AVG_SPEND_L12', 'FUEL_CARD_FLAG', 'DISTANCE_KM'],\n",
       "      dtype='object')"
      ]
     },
     "execution_count": 26,
     "metadata": {},
     "output_type": "execute_result"
    }
   ],
   "source": [
    "import numpy as np\n",
    "numeric_cols = data.select_dtypes(['number']).drop(columns=['TARGET','ID'])\n",
    "numeric_cols.columns"
   ]
  },
  {
   "cell_type": "code",
   "execution_count": 27,
   "metadata": {},
   "outputs": [
    {
     "data": {
      "text/html": [
       "<div>\n",
       "<style scoped>\n",
       "    .dataframe tbody tr th:only-of-type {\n",
       "        vertical-align: middle;\n",
       "    }\n",
       "\n",
       "    .dataframe tbody tr th {\n",
       "        vertical-align: top;\n",
       "    }\n",
       "\n",
       "    .dataframe thead th {\n",
       "        text-align: right;\n",
       "    }\n",
       "</style>\n",
       "<table border=\"1\" class=\"dataframe\">\n",
       "  <thead>\n",
       "    <tr style=\"text-align: right;\">\n",
       "      <th></th>\n",
       "      <th>NUM_FMLY_MEMBERS</th>\n",
       "      <th>NUM_CARS_HH</th>\n",
       "      <th>PARTNERS_SHOPPED</th>\n",
       "      <th>AVG_WKLY_SPND_ALL_PARTNERS</th>\n",
       "      <th>ENDING_PT_BALANCE</th>\n",
       "      <th>CNT_VISITS_GAS_STATION</th>\n",
       "      <th>PROP_WKDAY_EVE</th>\n",
       "      <th>PROP_WKDAY_DAY</th>\n",
       "      <th>PROP_WKND</th>\n",
       "      <th>FUEL_TXNS_L12</th>\n",
       "      <th>AVG_FUEL_VOL_L12</th>\n",
       "      <th>SHOP_TXNS_L12</th>\n",
       "      <th>SHOP_AVG_SPEND_L12</th>\n",
       "      <th>FUEL_CARD_FLAG</th>\n",
       "      <th>DISTANCE_KM</th>\n",
       "    </tr>\n",
       "  </thead>\n",
       "  <tbody>\n",
       "    <tr>\n",
       "      <td>count</td>\n",
       "      <td>56924.000000</td>\n",
       "      <td>52575.000000</td>\n",
       "      <td>98466.000000</td>\n",
       "      <td>98465.000000</td>\n",
       "      <td>98714.000000</td>\n",
       "      <td>98713.000000</td>\n",
       "      <td>98714.000000</td>\n",
       "      <td>98714.000000</td>\n",
       "      <td>98714.000000</td>\n",
       "      <td>84831.000000</td>\n",
       "      <td>84908.000000</td>\n",
       "      <td>48259.000000</td>\n",
       "      <td>48259.000000</td>\n",
       "      <td>98714.000000</td>\n",
       "      <td>98714.000000</td>\n",
       "    </tr>\n",
       "    <tr>\n",
       "      <td>mean</td>\n",
       "      <td>2.894737</td>\n",
       "      <td>1.728236</td>\n",
       "      <td>2.963693</td>\n",
       "      <td>46.167885</td>\n",
       "      <td>4919.443433</td>\n",
       "      <td>11.118323</td>\n",
       "      <td>0.135107</td>\n",
       "      <td>0.580036</td>\n",
       "      <td>0.284857</td>\n",
       "      <td>10.249909</td>\n",
       "      <td>327.959795</td>\n",
       "      <td>5.660664</td>\n",
       "      <td>4.674817</td>\n",
       "      <td>0.037077</td>\n",
       "      <td>10.033388</td>\n",
       "    </tr>\n",
       "    <tr>\n",
       "      <td>std</td>\n",
       "      <td>1.344243</td>\n",
       "      <td>0.923183</td>\n",
       "      <td>1.236660</td>\n",
       "      <td>81.502148</td>\n",
       "      <td>11529.172773</td>\n",
       "      <td>16.817524</td>\n",
       "      <td>0.228338</td>\n",
       "      <td>0.343604</td>\n",
       "      <td>0.307625</td>\n",
       "      <td>16.846474</td>\n",
       "      <td>747.989781</td>\n",
       "      <td>13.335370</td>\n",
       "      <td>7.600509</td>\n",
       "      <td>0.188951</td>\n",
       "      <td>3.689799</td>\n",
       "    </tr>\n",
       "    <tr>\n",
       "      <td>min</td>\n",
       "      <td>1.000000</td>\n",
       "      <td>0.000000</td>\n",
       "      <td>0.000000</td>\n",
       "      <td>0.000000</td>\n",
       "      <td>-6324.000000</td>\n",
       "      <td>1.000000</td>\n",
       "      <td>0.000000</td>\n",
       "      <td>0.000000</td>\n",
       "      <td>0.000000</td>\n",
       "      <td>1.000000</td>\n",
       "      <td>1.000000</td>\n",
       "      <td>1.000000</td>\n",
       "      <td>0.000000</td>\n",
       "      <td>0.000000</td>\n",
       "      <td>0.000000</td>\n",
       "    </tr>\n",
       "    <tr>\n",
       "      <td>25%</td>\n",
       "      <td>2.000000</td>\n",
       "      <td>1.000000</td>\n",
       "      <td>2.000000</td>\n",
       "      <td>12.087390</td>\n",
       "      <td>728.000000</td>\n",
       "      <td>2.000000</td>\n",
       "      <td>0.000000</td>\n",
       "      <td>0.333333</td>\n",
       "      <td>0.000000</td>\n",
       "      <td>1.000000</td>\n",
       "      <td>35.010000</td>\n",
       "      <td>1.000000</td>\n",
       "      <td>2.150000</td>\n",
       "      <td>0.000000</td>\n",
       "      <td>9.812254</td>\n",
       "    </tr>\n",
       "    <tr>\n",
       "      <td>50%</td>\n",
       "      <td>3.000000</td>\n",
       "      <td>2.000000</td>\n",
       "      <td>3.000000</td>\n",
       "      <td>29.583220</td>\n",
       "      <td>2011.000000</td>\n",
       "      <td>5.000000</td>\n",
       "      <td>0.000000</td>\n",
       "      <td>0.617021</td>\n",
       "      <td>0.209302</td>\n",
       "      <td>4.000000</td>\n",
       "      <td>99.030000</td>\n",
       "      <td>2.000000</td>\n",
       "      <td>3.290000</td>\n",
       "      <td>0.000000</td>\n",
       "      <td>10.966584</td>\n",
       "    </tr>\n",
       "    <tr>\n",
       "      <td>75%</td>\n",
       "      <td>4.000000</td>\n",
       "      <td>2.000000</td>\n",
       "      <td>4.000000</td>\n",
       "      <td>62.245590</td>\n",
       "      <td>5097.000000</td>\n",
       "      <td>13.000000</td>\n",
       "      <td>0.200000</td>\n",
       "      <td>0.904762</td>\n",
       "      <td>0.433209</td>\n",
       "      <td>12.000000</td>\n",
       "      <td>344.015000</td>\n",
       "      <td>5.000000</td>\n",
       "      <td>5.092500</td>\n",
       "      <td>0.000000</td>\n",
       "      <td>11.713106</td>\n",
       "    </tr>\n",
       "    <tr>\n",
       "      <td>max</td>\n",
       "      <td>10.000000</td>\n",
       "      <td>9.000000</td>\n",
       "      <td>13.000000</td>\n",
       "      <td>15342.317340</td>\n",
       "      <td>693385.000000</td>\n",
       "      <td>1012.000000</td>\n",
       "      <td>1.000000</td>\n",
       "      <td>1.000000</td>\n",
       "      <td>1.000000</td>\n",
       "      <td>649.000000</td>\n",
       "      <td>37232.370000</td>\n",
       "      <td>526.000000</td>\n",
       "      <td>416.690000</td>\n",
       "      <td>1.000000</td>\n",
       "      <td>24.559018</td>\n",
       "    </tr>\n",
       "  </tbody>\n",
       "</table>\n",
       "</div>"
      ],
      "text/plain": [
       "       NUM_FMLY_MEMBERS   NUM_CARS_HH  PARTNERS_SHOPPED  \\\n",
       "count      56924.000000  52575.000000      98466.000000   \n",
       "mean           2.894737      1.728236          2.963693   \n",
       "std            1.344243      0.923183          1.236660   \n",
       "min            1.000000      0.000000          0.000000   \n",
       "25%            2.000000      1.000000          2.000000   \n",
       "50%            3.000000      2.000000          3.000000   \n",
       "75%            4.000000      2.000000          4.000000   \n",
       "max           10.000000      9.000000         13.000000   \n",
       "\n",
       "       AVG_WKLY_SPND_ALL_PARTNERS  ENDING_PT_BALANCE  CNT_VISITS_GAS_STATION  \\\n",
       "count                98465.000000       98714.000000            98713.000000   \n",
       "mean                    46.167885        4919.443433               11.118323   \n",
       "std                     81.502148       11529.172773               16.817524   \n",
       "min                      0.000000       -6324.000000                1.000000   \n",
       "25%                     12.087390         728.000000                2.000000   \n",
       "50%                     29.583220        2011.000000                5.000000   \n",
       "75%                     62.245590        5097.000000               13.000000   \n",
       "max                  15342.317340      693385.000000             1012.000000   \n",
       "\n",
       "       PROP_WKDAY_EVE  PROP_WKDAY_DAY     PROP_WKND  FUEL_TXNS_L12  \\\n",
       "count    98714.000000    98714.000000  98714.000000   84831.000000   \n",
       "mean         0.135107        0.580036      0.284857      10.249909   \n",
       "std          0.228338        0.343604      0.307625      16.846474   \n",
       "min          0.000000        0.000000      0.000000       1.000000   \n",
       "25%          0.000000        0.333333      0.000000       1.000000   \n",
       "50%          0.000000        0.617021      0.209302       4.000000   \n",
       "75%          0.200000        0.904762      0.433209      12.000000   \n",
       "max          1.000000        1.000000      1.000000     649.000000   \n",
       "\n",
       "       AVG_FUEL_VOL_L12  SHOP_TXNS_L12  SHOP_AVG_SPEND_L12  FUEL_CARD_FLAG  \\\n",
       "count      84908.000000   48259.000000        48259.000000    98714.000000   \n",
       "mean         327.959795       5.660664            4.674817        0.037077   \n",
       "std          747.989781      13.335370            7.600509        0.188951   \n",
       "min            1.000000       1.000000            0.000000        0.000000   \n",
       "25%           35.010000       1.000000            2.150000        0.000000   \n",
       "50%           99.030000       2.000000            3.290000        0.000000   \n",
       "75%          344.015000       5.000000            5.092500        0.000000   \n",
       "max        37232.370000     526.000000          416.690000        1.000000   \n",
       "\n",
       "        DISTANCE_KM  \n",
       "count  98714.000000  \n",
       "mean      10.033388  \n",
       "std        3.689799  \n",
       "min        0.000000  \n",
       "25%        9.812254  \n",
       "50%       10.966584  \n",
       "75%       11.713106  \n",
       "max       24.559018  "
      ]
     },
     "execution_count": 27,
     "metadata": {},
     "output_type": "execute_result"
    }
   ],
   "source": [
    "numeric_cols.describe()"
   ]
  },
  {
   "cell_type": "code",
   "execution_count": 30,
   "metadata": {},
   "outputs": [
    {
     "name": "stderr",
     "output_type": "stream",
     "text": [
      "/Users/siddiqkhan/opt/anaconda3/lib/python3.7/site-packages/ipykernel_launcher.py:4: FutureWarning: clip_upper(threshold) is deprecated, use clip(upper=threshold) instead\n",
      "  after removing the cwd from sys.path.\n",
      "/Users/siddiqkhan/opt/anaconda3/lib/python3.7/site-packages/ipykernel_launcher.py:5: FutureWarning: clip_lower(threshold) is deprecated, use clip(lower=threshold) instead\n",
      "  \"\"\"\n"
     ]
    }
   ],
   "source": [
    "cap_numeric_cols = numeric_cols[['NUM_FMLY_MEMBERS', 'NUM_CARS_HH','PARTNERS_SHOPPED','AVG_WKLY_SPND_ALL_PARTNERS'\\\n",
    "                      ,'ENDING_PT_BALANCE', 'CNT_VISITS_GAS_STATION','FUEL_TXNS_L12', 'AVG_FUEL_VOL_L12', 'SHOP_TXNS_L12','SHOP_AVG_SPEND_L12']]\n",
    "\n",
    "data_capped = cap_numeric_cols.apply(lambda x: x.clip_upper(np.percentile(x.dropna(), 98)))\\\n",
    "    .apply(lambda x: x.clip_lower(0))"
   ]
  },
  {
   "cell_type": "code",
   "execution_count": 86,
   "metadata": {},
   "outputs": [
    {
     "name": "stdout",
     "output_type": "stream",
     "text": [
      "15\n",
      "10\n"
     ]
    }
   ],
   "source": [
    "print(len(numeric_cols.columns))\n",
    "print(len(cap_numeric_cols.columns))"
   ]
  },
  {
   "cell_type": "code",
   "execution_count": 87,
   "metadata": {},
   "outputs": [
    {
     "data": {
      "text/html": [
       "<div>\n",
       "<style scoped>\n",
       "    .dataframe tbody tr th:only-of-type {\n",
       "        vertical-align: middle;\n",
       "    }\n",
       "\n",
       "    .dataframe tbody tr th {\n",
       "        vertical-align: top;\n",
       "    }\n",
       "\n",
       "    .dataframe thead th {\n",
       "        text-align: right;\n",
       "    }\n",
       "</style>\n",
       "<table border=\"1\" class=\"dataframe\">\n",
       "  <thead>\n",
       "    <tr style=\"text-align: right;\">\n",
       "      <th></th>\n",
       "      <th>NUM_FMLY_MEMBERS</th>\n",
       "      <th>NUM_CARS_HH</th>\n",
       "      <th>PARTNERS_SHOPPED</th>\n",
       "      <th>AVG_WKLY_SPND_ALL_PARTNERS</th>\n",
       "      <th>ENDING_PT_BALANCE</th>\n",
       "      <th>CNT_VISITS_GAS_STATION</th>\n",
       "      <th>FUEL_TXNS_L12</th>\n",
       "      <th>AVG_FUEL_VOL_L12</th>\n",
       "      <th>SHOP_TXNS_L12</th>\n",
       "      <th>SHOP_AVG_SPEND_L12</th>\n",
       "    </tr>\n",
       "  </thead>\n",
       "  <tbody>\n",
       "    <tr>\n",
       "      <th>count</th>\n",
       "      <td>56924.000000</td>\n",
       "      <td>52575.000000</td>\n",
       "      <td>98466.000000</td>\n",
       "      <td>98465.000000</td>\n",
       "      <td>98714.000000</td>\n",
       "      <td>98713.000000</td>\n",
       "      <td>84831.000000</td>\n",
       "      <td>84908.000000</td>\n",
       "      <td>48259.000000</td>\n",
       "      <td>48259.000000</td>\n",
       "    </tr>\n",
       "    <tr>\n",
       "      <th>mean</th>\n",
       "      <td>2.877134</td>\n",
       "      <td>1.709177</td>\n",
       "      <td>2.949719</td>\n",
       "      <td>44.334788</td>\n",
       "      <td>4356.962265</td>\n",
       "      <td>10.533314</td>\n",
       "      <td>9.632351</td>\n",
       "      <td>294.362763</td>\n",
       "      <td>4.936157</td>\n",
       "      <td>4.263892</td>\n",
       "    </tr>\n",
       "    <tr>\n",
       "      <th>std</th>\n",
       "      <td>1.288263</td>\n",
       "      <td>0.849290</td>\n",
       "      <td>1.190417</td>\n",
       "      <td>43.707867</td>\n",
       "      <td>6270.380024</td>\n",
       "      <td>12.971966</td>\n",
       "      <td>12.940057</td>\n",
       "      <td>451.857962</td>\n",
       "      <td>6.884891</td>\n",
       "      <td>3.299975</td>\n",
       "    </tr>\n",
       "    <tr>\n",
       "      <th>min</th>\n",
       "      <td>1.000000</td>\n",
       "      <td>0.000000</td>\n",
       "      <td>0.000000</td>\n",
       "      <td>0.000000</td>\n",
       "      <td>0.000000</td>\n",
       "      <td>1.000000</td>\n",
       "      <td>1.000000</td>\n",
       "      <td>1.000000</td>\n",
       "      <td>1.000000</td>\n",
       "      <td>0.000000</td>\n",
       "    </tr>\n",
       "    <tr>\n",
       "      <th>25%</th>\n",
       "      <td>2.000000</td>\n",
       "      <td>1.000000</td>\n",
       "      <td>2.000000</td>\n",
       "      <td>12.087390</td>\n",
       "      <td>728.000000</td>\n",
       "      <td>2.000000</td>\n",
       "      <td>1.000000</td>\n",
       "      <td>35.010000</td>\n",
       "      <td>1.000000</td>\n",
       "      <td>2.150000</td>\n",
       "    </tr>\n",
       "    <tr>\n",
       "      <th>50%</th>\n",
       "      <td>3.000000</td>\n",
       "      <td>2.000000</td>\n",
       "      <td>3.000000</td>\n",
       "      <td>29.583220</td>\n",
       "      <td>2011.000000</td>\n",
       "      <td>5.000000</td>\n",
       "      <td>4.000000</td>\n",
       "      <td>99.030000</td>\n",
       "      <td>2.000000</td>\n",
       "      <td>3.290000</td>\n",
       "    </tr>\n",
       "    <tr>\n",
       "      <th>75%</th>\n",
       "      <td>4.000000</td>\n",
       "      <td>2.000000</td>\n",
       "      <td>4.000000</td>\n",
       "      <td>62.245590</td>\n",
       "      <td>5097.000000</td>\n",
       "      <td>13.000000</td>\n",
       "      <td>12.000000</td>\n",
       "      <td>344.015000</td>\n",
       "      <td>5.000000</td>\n",
       "      <td>5.092500</td>\n",
       "    </tr>\n",
       "    <tr>\n",
       "      <th>max</th>\n",
       "      <td>6.000000</td>\n",
       "      <td>4.000000</td>\n",
       "      <td>6.000000</td>\n",
       "      <td>185.092985</td>\n",
       "      <td>31639.480000</td>\n",
       "      <td>61.000000</td>\n",
       "      <td>59.000000</td>\n",
       "      <td>2166.515200</td>\n",
       "      <td>35.000000</td>\n",
       "      <td>17.684004</td>\n",
       "    </tr>\n",
       "  </tbody>\n",
       "</table>\n",
       "</div>"
      ],
      "text/plain": [
       "       NUM_FMLY_MEMBERS   NUM_CARS_HH  PARTNERS_SHOPPED  \\\n",
       "count      56924.000000  52575.000000      98466.000000   \n",
       "mean           2.877134      1.709177          2.949719   \n",
       "std            1.288263      0.849290          1.190417   \n",
       "min            1.000000      0.000000          0.000000   \n",
       "25%            2.000000      1.000000          2.000000   \n",
       "50%            3.000000      2.000000          3.000000   \n",
       "75%            4.000000      2.000000          4.000000   \n",
       "max            6.000000      4.000000          6.000000   \n",
       "\n",
       "       AVG_WKLY_SPND_ALL_PARTNERS  ENDING_PT_BALANCE  CNT_VISITS_GAS_STATION  \\\n",
       "count                98465.000000       98714.000000            98713.000000   \n",
       "mean                    44.334788        4356.962265               10.533314   \n",
       "std                     43.707867        6270.380024               12.971966   \n",
       "min                      0.000000           0.000000                1.000000   \n",
       "25%                     12.087390         728.000000                2.000000   \n",
       "50%                     29.583220        2011.000000                5.000000   \n",
       "75%                     62.245590        5097.000000               13.000000   \n",
       "max                    185.092985       31639.480000               61.000000   \n",
       "\n",
       "       FUEL_TXNS_L12  AVG_FUEL_VOL_L12  SHOP_TXNS_L12  SHOP_AVG_SPEND_L12  \n",
       "count   84831.000000      84908.000000   48259.000000        48259.000000  \n",
       "mean        9.632351        294.362763       4.936157            4.263892  \n",
       "std        12.940057        451.857962       6.884891            3.299975  \n",
       "min         1.000000          1.000000       1.000000            0.000000  \n",
       "25%         1.000000         35.010000       1.000000            2.150000  \n",
       "50%         4.000000         99.030000       2.000000            3.290000  \n",
       "75%        12.000000        344.015000       5.000000            5.092500  \n",
       "max        59.000000       2166.515200      35.000000           17.684004  "
      ]
     },
     "execution_count": 87,
     "metadata": {},
     "output_type": "execute_result"
    }
   ],
   "source": [
    "data_capped.describe()"
   ]
  },
  {
   "cell_type": "markdown",
   "metadata": {},
   "source": [
    "#### STEP 2: Apply log transformations to highly skewed numeric features"
   ]
  },
  {
   "cell_type": "code",
   "execution_count": 88,
   "metadata": {},
   "outputs": [],
   "source": [
    "#we will apply this to the same set of highly skewed features we applied capping to\n",
    "data_cap_nozero=data_capped.apply(lambda x: x.replace(0, 0.02))"
   ]
  },
  {
   "cell_type": "code",
   "execution_count": 89,
   "metadata": {},
   "outputs": [
    {
     "data": {
      "text/html": [
       "<div>\n",
       "<style scoped>\n",
       "    .dataframe tbody tr th:only-of-type {\n",
       "        vertical-align: middle;\n",
       "    }\n",
       "\n",
       "    .dataframe tbody tr th {\n",
       "        vertical-align: top;\n",
       "    }\n",
       "\n",
       "    .dataframe thead th {\n",
       "        text-align: right;\n",
       "    }\n",
       "</style>\n",
       "<table border=\"1\" class=\"dataframe\">\n",
       "  <thead>\n",
       "    <tr style=\"text-align: right;\">\n",
       "      <th></th>\n",
       "      <th>NUM_FMLY_MEMBERS</th>\n",
       "      <th>NUM_CARS_HH</th>\n",
       "      <th>PARTNERS_SHOPPED</th>\n",
       "      <th>AVG_WKLY_SPND_ALL_PARTNERS</th>\n",
       "      <th>ENDING_PT_BALANCE</th>\n",
       "      <th>CNT_VISITS_GAS_STATION</th>\n",
       "      <th>FUEL_TXNS_L12</th>\n",
       "      <th>AVG_FUEL_VOL_L12</th>\n",
       "      <th>SHOP_TXNS_L12</th>\n",
       "      <th>SHOP_AVG_SPEND_L12</th>\n",
       "    </tr>\n",
       "  </thead>\n",
       "  <tbody>\n",
       "    <tr>\n",
       "      <th>count</th>\n",
       "      <td>56924.000000</td>\n",
       "      <td>52575.000000</td>\n",
       "      <td>98466.000000</td>\n",
       "      <td>98465.000000</td>\n",
       "      <td>98714.000000</td>\n",
       "      <td>98713.000000</td>\n",
       "      <td>84831.000000</td>\n",
       "      <td>84908.000000</td>\n",
       "      <td>48259.000000</td>\n",
       "      <td>48259.000000</td>\n",
       "    </tr>\n",
       "    <tr>\n",
       "      <th>mean</th>\n",
       "      <td>2.877134</td>\n",
       "      <td>1.709844</td>\n",
       "      <td>2.949722</td>\n",
       "      <td>44.334850</td>\n",
       "      <td>4356.962278</td>\n",
       "      <td>10.533314</td>\n",
       "      <td>9.632351</td>\n",
       "      <td>294.362763</td>\n",
       "      <td>4.936157</td>\n",
       "      <td>4.264010</td>\n",
       "    </tr>\n",
       "    <tr>\n",
       "      <th>std</th>\n",
       "      <td>1.288263</td>\n",
       "      <td>0.847955</td>\n",
       "      <td>1.190410</td>\n",
       "      <td>43.707804</td>\n",
       "      <td>6270.380015</td>\n",
       "      <td>12.971966</td>\n",
       "      <td>12.940057</td>\n",
       "      <td>451.857962</td>\n",
       "      <td>6.884891</td>\n",
       "      <td>3.299822</td>\n",
       "    </tr>\n",
       "    <tr>\n",
       "      <th>min</th>\n",
       "      <td>1.000000</td>\n",
       "      <td>0.020000</td>\n",
       "      <td>0.020000</td>\n",
       "      <td>0.020000</td>\n",
       "      <td>0.020000</td>\n",
       "      <td>1.000000</td>\n",
       "      <td>1.000000</td>\n",
       "      <td>1.000000</td>\n",
       "      <td>1.000000</td>\n",
       "      <td>0.020000</td>\n",
       "    </tr>\n",
       "    <tr>\n",
       "      <th>25%</th>\n",
       "      <td>2.000000</td>\n",
       "      <td>1.000000</td>\n",
       "      <td>2.000000</td>\n",
       "      <td>12.087390</td>\n",
       "      <td>728.000000</td>\n",
       "      <td>2.000000</td>\n",
       "      <td>1.000000</td>\n",
       "      <td>35.010000</td>\n",
       "      <td>1.000000</td>\n",
       "      <td>2.150000</td>\n",
       "    </tr>\n",
       "    <tr>\n",
       "      <th>50%</th>\n",
       "      <td>3.000000</td>\n",
       "      <td>2.000000</td>\n",
       "      <td>3.000000</td>\n",
       "      <td>29.583220</td>\n",
       "      <td>2011.000000</td>\n",
       "      <td>5.000000</td>\n",
       "      <td>4.000000</td>\n",
       "      <td>99.030000</td>\n",
       "      <td>2.000000</td>\n",
       "      <td>3.290000</td>\n",
       "    </tr>\n",
       "    <tr>\n",
       "      <th>75%</th>\n",
       "      <td>4.000000</td>\n",
       "      <td>2.000000</td>\n",
       "      <td>4.000000</td>\n",
       "      <td>62.245590</td>\n",
       "      <td>5097.000000</td>\n",
       "      <td>13.000000</td>\n",
       "      <td>12.000000</td>\n",
       "      <td>344.015000</td>\n",
       "      <td>5.000000</td>\n",
       "      <td>5.092500</td>\n",
       "    </tr>\n",
       "    <tr>\n",
       "      <th>max</th>\n",
       "      <td>6.000000</td>\n",
       "      <td>4.000000</td>\n",
       "      <td>6.000000</td>\n",
       "      <td>185.092985</td>\n",
       "      <td>31639.480000</td>\n",
       "      <td>61.000000</td>\n",
       "      <td>59.000000</td>\n",
       "      <td>2166.515200</td>\n",
       "      <td>35.000000</td>\n",
       "      <td>17.684004</td>\n",
       "    </tr>\n",
       "  </tbody>\n",
       "</table>\n",
       "</div>"
      ],
      "text/plain": [
       "       NUM_FMLY_MEMBERS   NUM_CARS_HH  PARTNERS_SHOPPED  \\\n",
       "count      56924.000000  52575.000000      98466.000000   \n",
       "mean           2.877134      1.709844          2.949722   \n",
       "std            1.288263      0.847955          1.190410   \n",
       "min            1.000000      0.020000          0.020000   \n",
       "25%            2.000000      1.000000          2.000000   \n",
       "50%            3.000000      2.000000          3.000000   \n",
       "75%            4.000000      2.000000          4.000000   \n",
       "max            6.000000      4.000000          6.000000   \n",
       "\n",
       "       AVG_WKLY_SPND_ALL_PARTNERS  ENDING_PT_BALANCE  CNT_VISITS_GAS_STATION  \\\n",
       "count                98465.000000       98714.000000            98713.000000   \n",
       "mean                    44.334850        4356.962278               10.533314   \n",
       "std                     43.707804        6270.380015               12.971966   \n",
       "min                      0.020000           0.020000                1.000000   \n",
       "25%                     12.087390         728.000000                2.000000   \n",
       "50%                     29.583220        2011.000000                5.000000   \n",
       "75%                     62.245590        5097.000000               13.000000   \n",
       "max                    185.092985       31639.480000               61.000000   \n",
       "\n",
       "       FUEL_TXNS_L12  AVG_FUEL_VOL_L12  SHOP_TXNS_L12  SHOP_AVG_SPEND_L12  \n",
       "count   84831.000000      84908.000000   48259.000000        48259.000000  \n",
       "mean        9.632351        294.362763       4.936157            4.264010  \n",
       "std        12.940057        451.857962       6.884891            3.299822  \n",
       "min         1.000000          1.000000       1.000000            0.020000  \n",
       "25%         1.000000         35.010000       1.000000            2.150000  \n",
       "50%         4.000000         99.030000       2.000000            3.290000  \n",
       "75%        12.000000        344.015000       5.000000            5.092500  \n",
       "max        59.000000       2166.515200      35.000000           17.684004  "
      ]
     },
     "execution_count": 89,
     "metadata": {},
     "output_type": "execute_result"
    }
   ],
   "source": [
    "data_cap_nozero.describe()"
   ]
  },
  {
   "cell_type": "code",
   "execution_count": 90,
   "metadata": {},
   "outputs": [
    {
     "data": {
      "text/plain": [
       "NUM_FMLY_MEMBERS              0\n",
       "NUM_CARS_HH                   0\n",
       "PARTNERS_SHOPPED              0\n",
       "AVG_WKLY_SPND_ALL_PARTNERS    0\n",
       "ENDING_PT_BALANCE             0\n",
       "CNT_VISITS_GAS_STATION        0\n",
       "FUEL_TXNS_L12                 0\n",
       "AVG_FUEL_VOL_L12              0\n",
       "SHOP_TXNS_L12                 0\n",
       "SHOP_AVG_SPEND_L12            0\n",
       "dtype: int64"
      ]
     },
     "execution_count": 90,
     "metadata": {},
     "output_type": "execute_result"
    }
   ],
   "source": [
    "#double check no zeros\n",
    "(data_cap_nozero == 0).astype(int).sum(axis=0)"
   ]
  },
  {
   "cell_type": "code",
   "execution_count": 91,
   "metadata": {},
   "outputs": [],
   "source": [
    "#now apply log to each column using a quick lambda function\n",
    "data_logged=data_cap_nozero.apply(lambda x: np.log(x))"
   ]
  },
  {
   "cell_type": "code",
   "execution_count": 92,
   "metadata": {},
   "outputs": [
    {
     "data": {
      "text/html": [
       "<div>\n",
       "<style scoped>\n",
       "    .dataframe tbody tr th:only-of-type {\n",
       "        vertical-align: middle;\n",
       "    }\n",
       "\n",
       "    .dataframe tbody tr th {\n",
       "        vertical-align: top;\n",
       "    }\n",
       "\n",
       "    .dataframe thead th {\n",
       "        text-align: right;\n",
       "    }\n",
       "</style>\n",
       "<table border=\"1\" class=\"dataframe\">\n",
       "  <thead>\n",
       "    <tr style=\"text-align: right;\">\n",
       "      <th></th>\n",
       "      <th>NUM_FMLY_MEMBERS</th>\n",
       "      <th>NUM_CARS_HH</th>\n",
       "      <th>PARTNERS_SHOPPED</th>\n",
       "      <th>AVG_WKLY_SPND_ALL_PARTNERS</th>\n",
       "      <th>ENDING_PT_BALANCE</th>\n",
       "      <th>CNT_VISITS_GAS_STATION</th>\n",
       "      <th>FUEL_TXNS_L12</th>\n",
       "      <th>AVG_FUEL_VOL_L12</th>\n",
       "      <th>SHOP_TXNS_L12</th>\n",
       "      <th>SHOP_AVG_SPEND_L12</th>\n",
       "    </tr>\n",
       "  </thead>\n",
       "  <tbody>\n",
       "    <tr>\n",
       "      <th>count</th>\n",
       "      <td>56924.000000</td>\n",
       "      <td>52575.000000</td>\n",
       "      <td>98466.000000</td>\n",
       "      <td>98465.000000</td>\n",
       "      <td>98714.000000</td>\n",
       "      <td>98713.000000</td>\n",
       "      <td>84831.000000</td>\n",
       "      <td>84908.000000</td>\n",
       "      <td>48259.000000</td>\n",
       "      <td>48259.000000</td>\n",
       "    </tr>\n",
       "    <tr>\n",
       "      <th>mean</th>\n",
       "      <td>0.946210</td>\n",
       "      <td>0.326701</td>\n",
       "      <td>0.988306</td>\n",
       "      <td>3.178924</td>\n",
       "      <td>7.452191</td>\n",
       "      <td>1.695525</td>\n",
       "      <td>1.480498</td>\n",
       "      <td>4.685536</td>\n",
       "      <td>0.997553</td>\n",
       "      <td>1.206481</td>\n",
       "    </tr>\n",
       "    <tr>\n",
       "      <th>std</th>\n",
       "      <td>0.489541</td>\n",
       "      <td>0.897170</td>\n",
       "      <td>0.458064</td>\n",
       "      <td>1.339366</td>\n",
       "      <td>1.610561</td>\n",
       "      <td>1.180413</td>\n",
       "      <td>1.263391</td>\n",
       "      <td>1.477099</td>\n",
       "      <td>1.011558</td>\n",
       "      <td>0.750910</td>\n",
       "    </tr>\n",
       "    <tr>\n",
       "      <th>min</th>\n",
       "      <td>0.000000</td>\n",
       "      <td>-3.912023</td>\n",
       "      <td>-3.912023</td>\n",
       "      <td>-3.912023</td>\n",
       "      <td>-3.912023</td>\n",
       "      <td>0.000000</td>\n",
       "      <td>0.000000</td>\n",
       "      <td>0.000000</td>\n",
       "      <td>0.000000</td>\n",
       "      <td>-3.912023</td>\n",
       "    </tr>\n",
       "    <tr>\n",
       "      <th>25%</th>\n",
       "      <td>0.693147</td>\n",
       "      <td>0.000000</td>\n",
       "      <td>0.693147</td>\n",
       "      <td>2.492163</td>\n",
       "      <td>6.590301</td>\n",
       "      <td>0.693147</td>\n",
       "      <td>0.000000</td>\n",
       "      <td>3.555634</td>\n",
       "      <td>0.000000</td>\n",
       "      <td>0.765468</td>\n",
       "    </tr>\n",
       "    <tr>\n",
       "      <th>50%</th>\n",
       "      <td>1.098612</td>\n",
       "      <td>0.693147</td>\n",
       "      <td>1.098612</td>\n",
       "      <td>3.387207</td>\n",
       "      <td>7.606387</td>\n",
       "      <td>1.609438</td>\n",
       "      <td>1.386294</td>\n",
       "      <td>4.595423</td>\n",
       "      <td>0.693147</td>\n",
       "      <td>1.190888</td>\n",
       "    </tr>\n",
       "    <tr>\n",
       "      <th>75%</th>\n",
       "      <td>1.386294</td>\n",
       "      <td>0.693147</td>\n",
       "      <td>1.386294</td>\n",
       "      <td>4.131088</td>\n",
       "      <td>8.536407</td>\n",
       "      <td>2.564949</td>\n",
       "      <td>2.484907</td>\n",
       "      <td>5.840685</td>\n",
       "      <td>1.609438</td>\n",
       "      <td>1.627769</td>\n",
       "    </tr>\n",
       "    <tr>\n",
       "      <th>max</th>\n",
       "      <td>1.791759</td>\n",
       "      <td>1.386294</td>\n",
       "      <td>1.791759</td>\n",
       "      <td>5.220858</td>\n",
       "      <td>10.362161</td>\n",
       "      <td>4.110874</td>\n",
       "      <td>4.077537</td>\n",
       "      <td>7.680875</td>\n",
       "      <td>3.555348</td>\n",
       "      <td>2.872661</td>\n",
       "    </tr>\n",
       "  </tbody>\n",
       "</table>\n",
       "</div>"
      ],
      "text/plain": [
       "       NUM_FMLY_MEMBERS   NUM_CARS_HH  PARTNERS_SHOPPED  \\\n",
       "count      56924.000000  52575.000000      98466.000000   \n",
       "mean           0.946210      0.326701          0.988306   \n",
       "std            0.489541      0.897170          0.458064   \n",
       "min            0.000000     -3.912023         -3.912023   \n",
       "25%            0.693147      0.000000          0.693147   \n",
       "50%            1.098612      0.693147          1.098612   \n",
       "75%            1.386294      0.693147          1.386294   \n",
       "max            1.791759      1.386294          1.791759   \n",
       "\n",
       "       AVG_WKLY_SPND_ALL_PARTNERS  ENDING_PT_BALANCE  CNT_VISITS_GAS_STATION  \\\n",
       "count                98465.000000       98714.000000            98713.000000   \n",
       "mean                     3.178924           7.452191                1.695525   \n",
       "std                      1.339366           1.610561                1.180413   \n",
       "min                     -3.912023          -3.912023                0.000000   \n",
       "25%                      2.492163           6.590301                0.693147   \n",
       "50%                      3.387207           7.606387                1.609438   \n",
       "75%                      4.131088           8.536407                2.564949   \n",
       "max                      5.220858          10.362161                4.110874   \n",
       "\n",
       "       FUEL_TXNS_L12  AVG_FUEL_VOL_L12  SHOP_TXNS_L12  SHOP_AVG_SPEND_L12  \n",
       "count   84831.000000      84908.000000   48259.000000        48259.000000  \n",
       "mean        1.480498          4.685536       0.997553            1.206481  \n",
       "std         1.263391          1.477099       1.011558            0.750910  \n",
       "min         0.000000          0.000000       0.000000           -3.912023  \n",
       "25%         0.000000          3.555634       0.000000            0.765468  \n",
       "50%         1.386294          4.595423       0.693147            1.190888  \n",
       "75%         2.484907          5.840685       1.609438            1.627769  \n",
       "max         4.077537          7.680875       3.555348            2.872661  "
      ]
     },
     "execution_count": 92,
     "metadata": {},
     "output_type": "execute_result"
    }
   ],
   "source": [
    "#note check the original vs log version of dataset\n",
    "data_logged.describe()"
   ]
  },
  {
   "cell_type": "code",
   "execution_count": 93,
   "metadata": {},
   "outputs": [],
   "source": [
    "#rename columns to differntiate log vs original\n",
    "data_logged = data_logged.add_suffix('_LOG')"
   ]
  },
  {
   "cell_type": "code",
   "execution_count": 94,
   "metadata": {},
   "outputs": [
    {
     "data": {
      "text/plain": [
       "Index(['NUM_FMLY_MEMBERS_LOG', 'NUM_CARS_HH_LOG', 'PARTNERS_SHOPPED_LOG',\n",
       "       'AVG_WKLY_SPND_ALL_PARTNERS_LOG', 'ENDING_PT_BALANCE_LOG',\n",
       "       'CNT_VISITS_GAS_STATION_LOG', 'FUEL_TXNS_L12_LOG',\n",
       "       'AVG_FUEL_VOL_L12_LOG', 'SHOP_TXNS_L12_LOG', 'SHOP_AVG_SPEND_L12_LOG'],\n",
       "      dtype='object')"
      ]
     },
     "execution_count": 94,
     "metadata": {},
     "output_type": "execute_result"
    }
   ],
   "source": [
    "data_logged.columns"
   ]
  },
  {
   "cell_type": "markdown",
   "metadata": {},
   "source": [
    "#### STEP 3: Apply median imputation for all logged features"
   ]
  },
  {
   "cell_type": "code",
   "execution_count": 95,
   "metadata": {},
   "outputs": [
    {
     "data": {
      "text/plain": [
       "NUM_FMLY_MEMBERS_LOG              41790\n",
       "NUM_CARS_HH_LOG                   46139\n",
       "PARTNERS_SHOPPED_LOG                248\n",
       "AVG_WKLY_SPND_ALL_PARTNERS_LOG      249\n",
       "ENDING_PT_BALANCE_LOG                 0\n",
       "CNT_VISITS_GAS_STATION_LOG            1\n",
       "FUEL_TXNS_L12_LOG                 13883\n",
       "AVG_FUEL_VOL_L12_LOG              13806\n",
       "SHOP_TXNS_L12_LOG                 50455\n",
       "SHOP_AVG_SPEND_L12_LOG            50455\n",
       "dtype: int64"
      ]
     },
     "execution_count": 95,
     "metadata": {},
     "output_type": "execute_result"
    }
   ],
   "source": [
    "#see how many missing values\n",
    "data_logged.isnull().sum()"
   ]
  },
  {
   "cell_type": "code",
   "execution_count": 96,
   "metadata": {},
   "outputs": [],
   "source": [
    "data_to_impute = data_logged"
   ]
  },
  {
   "cell_type": "code",
   "execution_count": 97,
   "metadata": {},
   "outputs": [],
   "source": [
    "date_imputed = data_to_impute.apply(lambda x: x.fillna(x.median()))"
   ]
  },
  {
   "cell_type": "code",
   "execution_count": 98,
   "metadata": {},
   "outputs": [
    {
     "data": {
      "text/plain": [
       "NUM_FMLY_MEMBERS_LOG              0\n",
       "NUM_CARS_HH_LOG                   0\n",
       "PARTNERS_SHOPPED_LOG              0\n",
       "AVG_WKLY_SPND_ALL_PARTNERS_LOG    0\n",
       "ENDING_PT_BALANCE_LOG             0\n",
       "CNT_VISITS_GAS_STATION_LOG        0\n",
       "FUEL_TXNS_L12_LOG                 0\n",
       "AVG_FUEL_VOL_L12_LOG              0\n",
       "SHOP_TXNS_L12_LOG                 0\n",
       "SHOP_AVG_SPEND_L12_LOG            0\n",
       "dtype: int64"
      ]
     },
     "execution_count": 98,
     "metadata": {},
     "output_type": "execute_result"
    }
   ],
   "source": [
    "date_imputed.isnull().sum()"
   ]
  },
  {
   "cell_type": "code",
   "execution_count": 99,
   "metadata": {},
   "outputs": [
    {
     "data": {
      "text/html": [
       "<div>\n",
       "<style scoped>\n",
       "    .dataframe tbody tr th:only-of-type {\n",
       "        vertical-align: middle;\n",
       "    }\n",
       "\n",
       "    .dataframe tbody tr th {\n",
       "        vertical-align: top;\n",
       "    }\n",
       "\n",
       "    .dataframe thead th {\n",
       "        text-align: right;\n",
       "    }\n",
       "</style>\n",
       "<table border=\"1\" class=\"dataframe\">\n",
       "  <thead>\n",
       "    <tr style=\"text-align: right;\">\n",
       "      <th></th>\n",
       "      <th>NUM_FMLY_MEMBERS_LOG</th>\n",
       "      <th>NUM_CARS_HH_LOG</th>\n",
       "      <th>PARTNERS_SHOPPED_LOG</th>\n",
       "      <th>AVG_WKLY_SPND_ALL_PARTNERS_LOG</th>\n",
       "      <th>ENDING_PT_BALANCE_LOG</th>\n",
       "      <th>CNT_VISITS_GAS_STATION_LOG</th>\n",
       "      <th>FUEL_TXNS_L12_LOG</th>\n",
       "      <th>AVG_FUEL_VOL_L12_LOG</th>\n",
       "      <th>SHOP_TXNS_L12_LOG</th>\n",
       "      <th>SHOP_AVG_SPEND_L12_LOG</th>\n",
       "    </tr>\n",
       "  </thead>\n",
       "  <tbody>\n",
       "    <tr>\n",
       "      <th>count</th>\n",
       "      <td>98714.000000</td>\n",
       "      <td>98714.000000</td>\n",
       "      <td>98714.000000</td>\n",
       "      <td>98714.000000</td>\n",
       "      <td>98714.000000</td>\n",
       "      <td>98714.000000</td>\n",
       "      <td>98714.000000</td>\n",
       "      <td>98714.000000</td>\n",
       "      <td>98714.000000</td>\n",
       "      <td>98714.000000</td>\n",
       "    </tr>\n",
       "    <tr>\n",
       "      <th>mean</th>\n",
       "      <td>1.010729</td>\n",
       "      <td>0.497978</td>\n",
       "      <td>0.988584</td>\n",
       "      <td>3.179450</td>\n",
       "      <td>7.452191</td>\n",
       "      <td>1.695524</td>\n",
       "      <td>1.467249</td>\n",
       "      <td>4.672933</td>\n",
       "      <td>0.841964</td>\n",
       "      <td>1.198511</td>\n",
       "    </tr>\n",
       "    <tr>\n",
       "      <th>std</th>\n",
       "      <td>0.379296</td>\n",
       "      <td>0.679795</td>\n",
       "      <td>0.457522</td>\n",
       "      <td>1.337716</td>\n",
       "      <td>1.610561</td>\n",
       "      <td>1.180407</td>\n",
       "      <td>1.171642</td>\n",
       "      <td>1.370273</td>\n",
       "      <td>0.723459</td>\n",
       "      <td>0.525089</td>\n",
       "    </tr>\n",
       "    <tr>\n",
       "      <th>min</th>\n",
       "      <td>0.000000</td>\n",
       "      <td>-3.912023</td>\n",
       "      <td>-3.912023</td>\n",
       "      <td>-3.912023</td>\n",
       "      <td>-3.912023</td>\n",
       "      <td>0.000000</td>\n",
       "      <td>0.000000</td>\n",
       "      <td>0.000000</td>\n",
       "      <td>0.000000</td>\n",
       "      <td>-3.912023</td>\n",
       "    </tr>\n",
       "    <tr>\n",
       "      <th>25%</th>\n",
       "      <td>0.693147</td>\n",
       "      <td>0.693147</td>\n",
       "      <td>0.693147</td>\n",
       "      <td>2.495093</td>\n",
       "      <td>6.590301</td>\n",
       "      <td>0.693147</td>\n",
       "      <td>0.693147</td>\n",
       "      <td>3.706228</td>\n",
       "      <td>0.693147</td>\n",
       "      <td>1.190888</td>\n",
       "    </tr>\n",
       "    <tr>\n",
       "      <th>50%</th>\n",
       "      <td>1.098612</td>\n",
       "      <td>0.693147</td>\n",
       "      <td>1.098612</td>\n",
       "      <td>3.387207</td>\n",
       "      <td>7.606387</td>\n",
       "      <td>1.609438</td>\n",
       "      <td>1.386294</td>\n",
       "      <td>4.595423</td>\n",
       "      <td>0.693147</td>\n",
       "      <td>1.190888</td>\n",
       "    </tr>\n",
       "    <tr>\n",
       "      <th>75%</th>\n",
       "      <td>1.098612</td>\n",
       "      <td>0.693147</td>\n",
       "      <td>1.386294</td>\n",
       "      <td>4.129178</td>\n",
       "      <td>8.536407</td>\n",
       "      <td>2.564949</td>\n",
       "      <td>2.302585</td>\n",
       "      <td>5.627432</td>\n",
       "      <td>0.693147</td>\n",
       "      <td>1.190888</td>\n",
       "    </tr>\n",
       "    <tr>\n",
       "      <th>max</th>\n",
       "      <td>1.791759</td>\n",
       "      <td>1.386294</td>\n",
       "      <td>1.791759</td>\n",
       "      <td>5.220858</td>\n",
       "      <td>10.362161</td>\n",
       "      <td>4.110874</td>\n",
       "      <td>4.077537</td>\n",
       "      <td>7.680875</td>\n",
       "      <td>3.555348</td>\n",
       "      <td>2.872661</td>\n",
       "    </tr>\n",
       "  </tbody>\n",
       "</table>\n",
       "</div>"
      ],
      "text/plain": [
       "       NUM_FMLY_MEMBERS_LOG  NUM_CARS_HH_LOG  PARTNERS_SHOPPED_LOG  \\\n",
       "count          98714.000000     98714.000000          98714.000000   \n",
       "mean               1.010729         0.497978              0.988584   \n",
       "std                0.379296         0.679795              0.457522   \n",
       "min                0.000000        -3.912023             -3.912023   \n",
       "25%                0.693147         0.693147              0.693147   \n",
       "50%                1.098612         0.693147              1.098612   \n",
       "75%                1.098612         0.693147              1.386294   \n",
       "max                1.791759         1.386294              1.791759   \n",
       "\n",
       "       AVG_WKLY_SPND_ALL_PARTNERS_LOG  ENDING_PT_BALANCE_LOG  \\\n",
       "count                    98714.000000           98714.000000   \n",
       "mean                         3.179450               7.452191   \n",
       "std                          1.337716               1.610561   \n",
       "min                         -3.912023              -3.912023   \n",
       "25%                          2.495093               6.590301   \n",
       "50%                          3.387207               7.606387   \n",
       "75%                          4.129178               8.536407   \n",
       "max                          5.220858              10.362161   \n",
       "\n",
       "       CNT_VISITS_GAS_STATION_LOG  FUEL_TXNS_L12_LOG  AVG_FUEL_VOL_L12_LOG  \\\n",
       "count                98714.000000       98714.000000          98714.000000   \n",
       "mean                     1.695524           1.467249              4.672933   \n",
       "std                      1.180407           1.171642              1.370273   \n",
       "min                      0.000000           0.000000              0.000000   \n",
       "25%                      0.693147           0.693147              3.706228   \n",
       "50%                      1.609438           1.386294              4.595423   \n",
       "75%                      2.564949           2.302585              5.627432   \n",
       "max                      4.110874           4.077537              7.680875   \n",
       "\n",
       "       SHOP_TXNS_L12_LOG  SHOP_AVG_SPEND_L12_LOG  \n",
       "count       98714.000000            98714.000000  \n",
       "mean            0.841964                1.198511  \n",
       "std             0.723459                0.525089  \n",
       "min             0.000000               -3.912023  \n",
       "25%             0.693147                1.190888  \n",
       "50%             0.693147                1.190888  \n",
       "75%             0.693147                1.190888  \n",
       "max             3.555348                2.872661  "
      ]
     },
     "execution_count": 99,
     "metadata": {},
     "output_type": "execute_result"
    }
   ],
   "source": [
    "date_imputed.describe()"
   ]
  },
  {
   "cell_type": "code",
   "execution_count": 100,
   "metadata": {},
   "outputs": [],
   "source": [
    "#Create flag columns to identify all imputed data"
   ]
  },
  {
   "cell_type": "code",
   "execution_count": 101,
   "metadata": {},
   "outputs": [],
   "source": [
    "impute_flag = data_capped.apply(lambda x: x.isnull())\n",
    "impute_flag_columns = impute_flag.add_suffix('_IMP')"
   ]
  },
  {
   "cell_type": "code",
   "execution_count": 102,
   "metadata": {},
   "outputs": [
    {
     "data": {
      "text/html": [
       "<div>\n",
       "<style scoped>\n",
       "    .dataframe tbody tr th:only-of-type {\n",
       "        vertical-align: middle;\n",
       "    }\n",
       "\n",
       "    .dataframe tbody tr th {\n",
       "        vertical-align: top;\n",
       "    }\n",
       "\n",
       "    .dataframe thead th {\n",
       "        text-align: right;\n",
       "    }\n",
       "</style>\n",
       "<table border=\"1\" class=\"dataframe\">\n",
       "  <thead>\n",
       "    <tr style=\"text-align: right;\">\n",
       "      <th></th>\n",
       "      <th>NUM_FMLY_MEMBERS_IMP</th>\n",
       "      <th>NUM_CARS_HH_IMP</th>\n",
       "      <th>PARTNERS_SHOPPED_IMP</th>\n",
       "      <th>AVG_WKLY_SPND_ALL_PARTNERS_IMP</th>\n",
       "      <th>ENDING_PT_BALANCE_IMP</th>\n",
       "      <th>CNT_VISITS_GAS_STATION_IMP</th>\n",
       "      <th>FUEL_TXNS_L12_IMP</th>\n",
       "      <th>AVG_FUEL_VOL_L12_IMP</th>\n",
       "      <th>SHOP_TXNS_L12_IMP</th>\n",
       "      <th>SHOP_AVG_SPEND_L12_IMP</th>\n",
       "    </tr>\n",
       "  </thead>\n",
       "  <tbody>\n",
       "    <tr>\n",
       "      <th>count</th>\n",
       "      <td>98714</td>\n",
       "      <td>98714</td>\n",
       "      <td>98714</td>\n",
       "      <td>98714</td>\n",
       "      <td>98714</td>\n",
       "      <td>98714</td>\n",
       "      <td>98714</td>\n",
       "      <td>98714</td>\n",
       "      <td>98714</td>\n",
       "      <td>98714</td>\n",
       "    </tr>\n",
       "    <tr>\n",
       "      <th>unique</th>\n",
       "      <td>2</td>\n",
       "      <td>2</td>\n",
       "      <td>2</td>\n",
       "      <td>2</td>\n",
       "      <td>1</td>\n",
       "      <td>2</td>\n",
       "      <td>2</td>\n",
       "      <td>2</td>\n",
       "      <td>2</td>\n",
       "      <td>2</td>\n",
       "    </tr>\n",
       "    <tr>\n",
       "      <th>top</th>\n",
       "      <td>False</td>\n",
       "      <td>False</td>\n",
       "      <td>False</td>\n",
       "      <td>False</td>\n",
       "      <td>False</td>\n",
       "      <td>False</td>\n",
       "      <td>False</td>\n",
       "      <td>False</td>\n",
       "      <td>True</td>\n",
       "      <td>True</td>\n",
       "    </tr>\n",
       "    <tr>\n",
       "      <th>freq</th>\n",
       "      <td>56924</td>\n",
       "      <td>52575</td>\n",
       "      <td>98466</td>\n",
       "      <td>98465</td>\n",
       "      <td>98714</td>\n",
       "      <td>98713</td>\n",
       "      <td>84831</td>\n",
       "      <td>84908</td>\n",
       "      <td>50455</td>\n",
       "      <td>50455</td>\n",
       "    </tr>\n",
       "  </tbody>\n",
       "</table>\n",
       "</div>"
      ],
      "text/plain": [
       "       NUM_FMLY_MEMBERS_IMP NUM_CARS_HH_IMP PARTNERS_SHOPPED_IMP  \\\n",
       "count                 98714           98714                98714   \n",
       "unique                    2               2                    2   \n",
       "top                   False           False                False   \n",
       "freq                  56924           52575                98466   \n",
       "\n",
       "       AVG_WKLY_SPND_ALL_PARTNERS_IMP ENDING_PT_BALANCE_IMP  \\\n",
       "count                           98714                 98714   \n",
       "unique                              2                     1   \n",
       "top                             False                 False   \n",
       "freq                            98465                 98714   \n",
       "\n",
       "       CNT_VISITS_GAS_STATION_IMP FUEL_TXNS_L12_IMP AVG_FUEL_VOL_L12_IMP  \\\n",
       "count                       98714             98714                98714   \n",
       "unique                          2                 2                    2   \n",
       "top                         False             False                False   \n",
       "freq                        98713             84831                84908   \n",
       "\n",
       "       SHOP_TXNS_L12_IMP SHOP_AVG_SPEND_L12_IMP  \n",
       "count              98714                  98714  \n",
       "unique                 2                      2  \n",
       "top                 True                   True  \n",
       "freq               50455                  50455  "
      ]
     },
     "execution_count": 102,
     "metadata": {},
     "output_type": "execute_result"
    }
   ],
   "source": [
    "impute_flag_columns.describe()"
   ]
  },
  {
   "cell_type": "code",
   "execution_count": 103,
   "metadata": {},
   "outputs": [
    {
     "data": {
      "text/plain": [
       "NUM_FMLY_MEMBERS_IMP              0\n",
       "NUM_CARS_HH_IMP                   0\n",
       "PARTNERS_SHOPPED_IMP              0\n",
       "AVG_WKLY_SPND_ALL_PARTNERS_IMP    0\n",
       "ENDING_PT_BALANCE_IMP             0\n",
       "CNT_VISITS_GAS_STATION_IMP        0\n",
       "FUEL_TXNS_L12_IMP                 0\n",
       "AVG_FUEL_VOL_L12_IMP              0\n",
       "SHOP_TXNS_L12_IMP                 0\n",
       "SHOP_AVG_SPEND_L12_IMP            0\n",
       "dtype: int64"
      ]
     },
     "execution_count": 103,
     "metadata": {},
     "output_type": "execute_result"
    }
   ],
   "source": [
    "#check for missing values - all good\n",
    "impute_flag_columns.isnull().sum()"
   ]
  },
  {
   "cell_type": "markdown",
   "metadata": {},
   "source": [
    "### STEP 4: Apply mean imputation for all other numeric features"
   ]
  },
  {
   "cell_type": "code",
   "execution_count": 104,
   "metadata": {},
   "outputs": [
    {
     "data": {
      "text/plain": [
       "Index(['NUM_FMLY_MEMBERS', 'NUM_CARS_HH', 'PARTNERS_SHOPPED',\n",
       "       'AVG_WKLY_SPND_ALL_PARTNERS', 'ENDING_PT_BALANCE',\n",
       "       'CNT_VISITS_GAS_STATION', 'PROP_WKDAY_EVE', 'PROP_WKDAY_DAY',\n",
       "       'PROP_WKND', 'FUEL_TXNS_L12', 'AVG_FUEL_VOL_L12', 'SHOP_TXNS_L12',\n",
       "       'SHOP_AVG_SPEND_L12', 'FUEL_CARD_FLAG', 'DISTANCE_KM'],\n",
       "      dtype='object')"
      ]
     },
     "execution_count": 104,
     "metadata": {},
     "output_type": "execute_result"
    }
   ],
   "source": [
    "numeric_cols = data.select_dtypes(['number']).drop(columns=['TARGET','ID'])\n",
    "numeric_cols.columns"
   ]
  },
  {
   "cell_type": "code",
   "execution_count": 105,
   "metadata": {},
   "outputs": [
    {
     "data": {
      "text/plain": [
       "Index(['NUM_FMLY_MEMBERS_LOG', 'NUM_CARS_HH_LOG', 'PARTNERS_SHOPPED_LOG',\n",
       "       'AVG_WKLY_SPND_ALL_PARTNERS_LOG', 'ENDING_PT_BALANCE_LOG',\n",
       "       'CNT_VISITS_GAS_STATION_LOG', 'FUEL_TXNS_L12_LOG',\n",
       "       'AVG_FUEL_VOL_L12_LOG', 'SHOP_TXNS_L12_LOG', 'SHOP_AVG_SPEND_L12_LOG'],\n",
       "      dtype='object')"
      ]
     },
     "execution_count": 105,
     "metadata": {},
     "output_type": "execute_result"
    }
   ],
   "source": [
    "#capped, logged, and imputed dataset so far\n",
    "date_imputed.columns"
   ]
  },
  {
   "cell_type": "code",
   "execution_count": 106,
   "metadata": {},
   "outputs": [
    {
     "data": {
      "text/plain": [
       "Index(['NUM_FMLY_MEMBERS_IMP', 'NUM_CARS_HH_IMP', 'PARTNERS_SHOPPED_IMP',\n",
       "       'AVG_WKLY_SPND_ALL_PARTNERS_IMP', 'ENDING_PT_BALANCE_IMP',\n",
       "       'CNT_VISITS_GAS_STATION_IMP', 'FUEL_TXNS_L12_IMP',\n",
       "       'AVG_FUEL_VOL_L12_IMP', 'SHOP_TXNS_L12_IMP', 'SHOP_AVG_SPEND_L12_IMP'],\n",
       "      dtype='object')"
      ]
     },
     "execution_count": 106,
     "metadata": {},
     "output_type": "execute_result"
    }
   ],
   "source": [
    "#dataset that holds impute flags\n",
    "impute_flag_columns.columns"
   ]
  },
  {
   "cell_type": "code",
   "execution_count": 107,
   "metadata": {},
   "outputs": [],
   "source": [
    "#these columns are leftover:\n",
    "data_num_remain = data[['FUEL_CARD_FLAG', 'DISTANCE_KM','PROP_WKDAY_EVE', 'PROP_WKDAY_DAY', 'PROP_WKND']]"
   ]
  },
  {
   "cell_type": "code",
   "execution_count": 108,
   "metadata": {},
   "outputs": [],
   "source": [
    "#for these guys we apply a mean impute & create a flag for missing...\n",
    "data_to_impute = data_num_remain"
   ]
  },
  {
   "cell_type": "code",
   "execution_count": 109,
   "metadata": {},
   "outputs": [],
   "source": [
    "data_num_remain_imputed = data_to_impute.apply(lambda x: x.fillna(x.mean()))"
   ]
  },
  {
   "cell_type": "code",
   "execution_count": 110,
   "metadata": {},
   "outputs": [
    {
     "data": {
      "text/html": [
       "<div>\n",
       "<style scoped>\n",
       "    .dataframe tbody tr th:only-of-type {\n",
       "        vertical-align: middle;\n",
       "    }\n",
       "\n",
       "    .dataframe tbody tr th {\n",
       "        vertical-align: top;\n",
       "    }\n",
       "\n",
       "    .dataframe thead th {\n",
       "        text-align: right;\n",
       "    }\n",
       "</style>\n",
       "<table border=\"1\" class=\"dataframe\">\n",
       "  <thead>\n",
       "    <tr style=\"text-align: right;\">\n",
       "      <th></th>\n",
       "      <th>FUEL_CARD_FLAG</th>\n",
       "      <th>DISTANCE_KM</th>\n",
       "      <th>PROP_WKDAY_EVE</th>\n",
       "      <th>PROP_WKDAY_DAY</th>\n",
       "      <th>PROP_WKND</th>\n",
       "    </tr>\n",
       "  </thead>\n",
       "  <tbody>\n",
       "    <tr>\n",
       "      <th>count</th>\n",
       "      <td>98714.000000</td>\n",
       "      <td>98714.000000</td>\n",
       "      <td>98714.000000</td>\n",
       "      <td>98714.000000</td>\n",
       "      <td>98714.000000</td>\n",
       "    </tr>\n",
       "    <tr>\n",
       "      <th>mean</th>\n",
       "      <td>0.037077</td>\n",
       "      <td>10.033388</td>\n",
       "      <td>0.135107</td>\n",
       "      <td>0.580036</td>\n",
       "      <td>0.284857</td>\n",
       "    </tr>\n",
       "    <tr>\n",
       "      <th>std</th>\n",
       "      <td>0.188951</td>\n",
       "      <td>3.689799</td>\n",
       "      <td>0.228338</td>\n",
       "      <td>0.343604</td>\n",
       "      <td>0.307625</td>\n",
       "    </tr>\n",
       "    <tr>\n",
       "      <th>min</th>\n",
       "      <td>0.000000</td>\n",
       "      <td>0.000000</td>\n",
       "      <td>0.000000</td>\n",
       "      <td>0.000000</td>\n",
       "      <td>0.000000</td>\n",
       "    </tr>\n",
       "    <tr>\n",
       "      <th>25%</th>\n",
       "      <td>0.000000</td>\n",
       "      <td>9.812254</td>\n",
       "      <td>0.000000</td>\n",
       "      <td>0.333333</td>\n",
       "      <td>0.000000</td>\n",
       "    </tr>\n",
       "    <tr>\n",
       "      <th>50%</th>\n",
       "      <td>0.000000</td>\n",
       "      <td>10.966584</td>\n",
       "      <td>0.000000</td>\n",
       "      <td>0.617021</td>\n",
       "      <td>0.209302</td>\n",
       "    </tr>\n",
       "    <tr>\n",
       "      <th>75%</th>\n",
       "      <td>0.000000</td>\n",
       "      <td>11.713106</td>\n",
       "      <td>0.200000</td>\n",
       "      <td>0.904762</td>\n",
       "      <td>0.433209</td>\n",
       "    </tr>\n",
       "    <tr>\n",
       "      <th>max</th>\n",
       "      <td>1.000000</td>\n",
       "      <td>24.559018</td>\n",
       "      <td>1.000000</td>\n",
       "      <td>1.000000</td>\n",
       "      <td>1.000000</td>\n",
       "    </tr>\n",
       "  </tbody>\n",
       "</table>\n",
       "</div>"
      ],
      "text/plain": [
       "       FUEL_CARD_FLAG   DISTANCE_KM  PROP_WKDAY_EVE  PROP_WKDAY_DAY  \\\n",
       "count    98714.000000  98714.000000    98714.000000    98714.000000   \n",
       "mean         0.037077     10.033388        0.135107        0.580036   \n",
       "std          0.188951      3.689799        0.228338        0.343604   \n",
       "min          0.000000      0.000000        0.000000        0.000000   \n",
       "25%          0.000000      9.812254        0.000000        0.333333   \n",
       "50%          0.000000     10.966584        0.000000        0.617021   \n",
       "75%          0.000000     11.713106        0.200000        0.904762   \n",
       "max          1.000000     24.559018        1.000000        1.000000   \n",
       "\n",
       "          PROP_WKND  \n",
       "count  98714.000000  \n",
       "mean       0.284857  \n",
       "std        0.307625  \n",
       "min        0.000000  \n",
       "25%        0.000000  \n",
       "50%        0.209302  \n",
       "75%        0.433209  \n",
       "max        1.000000  "
      ]
     },
     "execution_count": 110,
     "metadata": {},
     "output_type": "execute_result"
    }
   ],
   "source": [
    "data_num_remain_imputed.describe()"
   ]
  },
  {
   "cell_type": "code",
   "execution_count": 111,
   "metadata": {},
   "outputs": [
    {
     "data": {
      "text/plain": [
       "FUEL_CARD_FLAG    0\n",
       "DISTANCE_KM       0\n",
       "PROP_WKDAY_EVE    0\n",
       "PROP_WKDAY_DAY    0\n",
       "PROP_WKND         0\n",
       "dtype: int64"
      ]
     },
     "execution_count": 111,
     "metadata": {},
     "output_type": "execute_result"
    }
   ],
   "source": [
    "#check if all missing vlaues are gone\n",
    "data_num_remain_imputed.isnull().sum()"
   ]
  },
  {
   "cell_type": "markdown",
   "metadata": {},
   "source": [
    "#### Next we just need to create missing flags for these guys..."
   ]
  },
  {
   "cell_type": "code",
   "execution_count": 112,
   "metadata": {},
   "outputs": [],
   "source": [
    "data_num_remain_imp = data_num_remain.apply(lambda x: x.isnull())\n",
    "data_num_remain_imp_flag = data_num_remain_imp.add_suffix('_IMP')"
   ]
  },
  {
   "cell_type": "code",
   "execution_count": 113,
   "metadata": {},
   "outputs": [
    {
     "name": "stdout",
     "output_type": "stream",
     "text": [
      "       FUEL_CARD_FLAG_IMP DISTANCE_KM_IMP PROP_WKDAY_EVE_IMP  \\\n",
      "count               98714           98714              98714   \n",
      "unique                  1               1                  1   \n",
      "top                 False           False              False   \n",
      "freq                98714           98714              98714   \n",
      "\n",
      "       PROP_WKDAY_DAY_IMP PROP_WKND_IMP  \n",
      "count               98714         98714  \n",
      "unique                  1             1  \n",
      "top                 False         False  \n",
      "freq                98714         98714  \n"
     ]
    },
    {
     "data": {
      "text/plain": [
       "FUEL_CARD_FLAG_IMP    0\n",
       "DISTANCE_KM_IMP       0\n",
       "PROP_WKDAY_EVE_IMP    0\n",
       "PROP_WKDAY_DAY_IMP    0\n",
       "PROP_WKND_IMP         0\n",
       "dtype: int64"
      ]
     },
     "execution_count": 113,
     "metadata": {},
     "output_type": "execute_result"
    }
   ],
   "source": [
    "print(data_num_remain_imp_flag.describe())\n",
    "data_num_remain_imp_flag.isnull().sum()"
   ]
  },
  {
   "cell_type": "markdown",
   "metadata": {},
   "source": [
    "## STEP 5: Create a missing flag column for all categorial missing feature"
   ]
  },
  {
   "cell_type": "code",
   "execution_count": 114,
   "metadata": {},
   "outputs": [
    {
     "data": {
      "text/plain": [
       "Index(['CLIENT_GENDER', 'CLIENT_AGE_BAND', 'CLIENT_REGION',\n",
       "       'REWARD_HIST_SEGMENT'],\n",
       "      dtype='object')"
      ]
     },
     "execution_count": 114,
     "metadata": {},
     "output_type": "execute_result"
    }
   ],
   "source": [
    "cat_cols = data.select_dtypes(['object'])\n",
    "cat_cols.columns\n"
   ]
  },
  {
   "cell_type": "code",
   "execution_count": 115,
   "metadata": {},
   "outputs": [],
   "source": [
    "cat_cols_miss = cat_cols.apply(lambda x: x.isnull())\n",
    "cat_cols_miss_flag = cat_cols_miss.add_suffix('_MISS')\n"
   ]
  },
  {
   "cell_type": "code",
   "execution_count": 116,
   "metadata": {},
   "outputs": [
    {
     "data": {
      "text/html": [
       "<div>\n",
       "<style scoped>\n",
       "    .dataframe tbody tr th:only-of-type {\n",
       "        vertical-align: middle;\n",
       "    }\n",
       "\n",
       "    .dataframe tbody tr th {\n",
       "        vertical-align: top;\n",
       "    }\n",
       "\n",
       "    .dataframe thead th {\n",
       "        text-align: right;\n",
       "    }\n",
       "</style>\n",
       "<table border=\"1\" class=\"dataframe\">\n",
       "  <thead>\n",
       "    <tr style=\"text-align: right;\">\n",
       "      <th></th>\n",
       "      <th>CLIENT_GENDER_MISS</th>\n",
       "      <th>CLIENT_AGE_BAND_MISS</th>\n",
       "      <th>CLIENT_REGION_MISS</th>\n",
       "      <th>REWARD_HIST_SEGMENT_MISS</th>\n",
       "    </tr>\n",
       "  </thead>\n",
       "  <tbody>\n",
       "    <tr>\n",
       "      <th>count</th>\n",
       "      <td>98714</td>\n",
       "      <td>98714</td>\n",
       "      <td>98714</td>\n",
       "      <td>98714</td>\n",
       "    </tr>\n",
       "    <tr>\n",
       "      <th>unique</th>\n",
       "      <td>2</td>\n",
       "      <td>2</td>\n",
       "      <td>2</td>\n",
       "      <td>2</td>\n",
       "    </tr>\n",
       "    <tr>\n",
       "      <th>top</th>\n",
       "      <td>False</td>\n",
       "      <td>False</td>\n",
       "      <td>False</td>\n",
       "      <td>False</td>\n",
       "    </tr>\n",
       "    <tr>\n",
       "      <th>freq</th>\n",
       "      <td>89002</td>\n",
       "      <td>88604</td>\n",
       "      <td>89547</td>\n",
       "      <td>98164</td>\n",
       "    </tr>\n",
       "  </tbody>\n",
       "</table>\n",
       "</div>"
      ],
      "text/plain": [
       "       CLIENT_GENDER_MISS CLIENT_AGE_BAND_MISS CLIENT_REGION_MISS  \\\n",
       "count               98714                98714              98714   \n",
       "unique                  2                    2                  2   \n",
       "top                 False                False              False   \n",
       "freq                89002                88604              89547   \n",
       "\n",
       "       REWARD_HIST_SEGMENT_MISS  \n",
       "count                     98714  \n",
       "unique                        2  \n",
       "top                       False  \n",
       "freq                      98164  "
      ]
     },
     "execution_count": 116,
     "metadata": {},
     "output_type": "execute_result"
    }
   ],
   "source": [
    "cat_cols_miss_flag.describe()"
   ]
  },
  {
   "cell_type": "code",
   "execution_count": 117,
   "metadata": {},
   "outputs": [
    {
     "data": {
      "text/html": [
       "<div>\n",
       "<style scoped>\n",
       "    .dataframe tbody tr th:only-of-type {\n",
       "        vertical-align: middle;\n",
       "    }\n",
       "\n",
       "    .dataframe tbody tr th {\n",
       "        vertical-align: top;\n",
       "    }\n",
       "\n",
       "    .dataframe thead th {\n",
       "        text-align: right;\n",
       "    }\n",
       "</style>\n",
       "<table border=\"1\" class=\"dataframe\">\n",
       "  <thead>\n",
       "    <tr style=\"text-align: right;\">\n",
       "      <th></th>\n",
       "      <th>CLIENT_GENDER_MISS</th>\n",
       "      <th>CLIENT_AGE_BAND_MISS</th>\n",
       "      <th>CLIENT_REGION_MISS</th>\n",
       "      <th>REWARD_HIST_SEGMENT_MISS</th>\n",
       "    </tr>\n",
       "  </thead>\n",
       "  <tbody>\n",
       "    <tr>\n",
       "      <th>0</th>\n",
       "      <td>False</td>\n",
       "      <td>False</td>\n",
       "      <td>False</td>\n",
       "      <td>False</td>\n",
       "    </tr>\n",
       "    <tr>\n",
       "      <th>1</th>\n",
       "      <td>False</td>\n",
       "      <td>False</td>\n",
       "      <td>False</td>\n",
       "      <td>False</td>\n",
       "    </tr>\n",
       "    <tr>\n",
       "      <th>2</th>\n",
       "      <td>False</td>\n",
       "      <td>False</td>\n",
       "      <td>False</td>\n",
       "      <td>False</td>\n",
       "    </tr>\n",
       "    <tr>\n",
       "      <th>3</th>\n",
       "      <td>False</td>\n",
       "      <td>False</td>\n",
       "      <td>False</td>\n",
       "      <td>False</td>\n",
       "    </tr>\n",
       "    <tr>\n",
       "      <th>4</th>\n",
       "      <td>False</td>\n",
       "      <td>False</td>\n",
       "      <td>False</td>\n",
       "      <td>False</td>\n",
       "    </tr>\n",
       "    <tr>\n",
       "      <th>5</th>\n",
       "      <td>False</td>\n",
       "      <td>False</td>\n",
       "      <td>False</td>\n",
       "      <td>False</td>\n",
       "    </tr>\n",
       "    <tr>\n",
       "      <th>6</th>\n",
       "      <td>False</td>\n",
       "      <td>False</td>\n",
       "      <td>False</td>\n",
       "      <td>False</td>\n",
       "    </tr>\n",
       "    <tr>\n",
       "      <th>7</th>\n",
       "      <td>True</td>\n",
       "      <td>True</td>\n",
       "      <td>True</td>\n",
       "      <td>False</td>\n",
       "    </tr>\n",
       "    <tr>\n",
       "      <th>8</th>\n",
       "      <td>False</td>\n",
       "      <td>False</td>\n",
       "      <td>False</td>\n",
       "      <td>False</td>\n",
       "    </tr>\n",
       "    <tr>\n",
       "      <th>9</th>\n",
       "      <td>False</td>\n",
       "      <td>False</td>\n",
       "      <td>False</td>\n",
       "      <td>False</td>\n",
       "    </tr>\n",
       "  </tbody>\n",
       "</table>\n",
       "</div>"
      ],
      "text/plain": [
       "   CLIENT_GENDER_MISS  CLIENT_AGE_BAND_MISS  CLIENT_REGION_MISS  \\\n",
       "0               False                 False               False   \n",
       "1               False                 False               False   \n",
       "2               False                 False               False   \n",
       "3               False                 False               False   \n",
       "4               False                 False               False   \n",
       "5               False                 False               False   \n",
       "6               False                 False               False   \n",
       "7                True                  True                True   \n",
       "8               False                 False               False   \n",
       "9               False                 False               False   \n",
       "\n",
       "   REWARD_HIST_SEGMENT_MISS  \n",
       "0                     False  \n",
       "1                     False  \n",
       "2                     False  \n",
       "3                     False  \n",
       "4                     False  \n",
       "5                     False  \n",
       "6                     False  \n",
       "7                     False  \n",
       "8                     False  \n",
       "9                     False  "
      ]
     },
     "execution_count": 117,
     "metadata": {},
     "output_type": "execute_result"
    }
   ],
   "source": [
    "cat_cols_miss_flag.head(10)"
   ]
  },
  {
   "cell_type": "markdown",
   "metadata": {},
   "source": [
    "### STEP 6: JOIN EVERYTHING TOGETHER"
   ]
  },
  {
   "cell_type": "markdown",
   "metadata": {},
   "source": [
    "#### RECAP\n",
    "> - The outputs of step 1/2/3 were TWO sepeate outputs: date_imputed & impute_flag_columns\n",
    "> - Step 4 also resulted in TWO outputs: data_num_remain_imputed & data_num_remain_imp_flag\n",
    "> - Lastly, step 5 resulted in ONE output: cat_cols_miss_flag\n",
    "\n",
    "#### Our Strategy\n",
    "> - Join all of these processed features together into 1 wide table and grab the TARGET and ID from origina dataframe\n",
    "> - Feed this into a classifier"
   ]
  },
  {
   "cell_type": "code",
   "execution_count": 118,
   "metadata": {},
   "outputs": [],
   "source": [
    "#### We want to join these along the index\n",
    "combine_1=pd.concat([date_imputed, impute_flag_columns, data_num_remain_imputed, data_num_remain_imp_flag, cat_cols_miss_flag], axis=1)"
   ]
  },
  {
   "cell_type": "code",
   "execution_count": 119,
   "metadata": {},
   "outputs": [
    {
     "data": {
      "text/plain": [
       "Index(['NUM_FMLY_MEMBERS_LOG', 'NUM_CARS_HH_LOG', 'PARTNERS_SHOPPED_LOG',\n",
       "       'AVG_WKLY_SPND_ALL_PARTNERS_LOG', 'ENDING_PT_BALANCE_LOG',\n",
       "       'CNT_VISITS_GAS_STATION_LOG', 'FUEL_TXNS_L12_LOG',\n",
       "       'AVG_FUEL_VOL_L12_LOG', 'SHOP_TXNS_L12_LOG', 'SHOP_AVG_SPEND_L12_LOG',\n",
       "       'NUM_FMLY_MEMBERS_IMP', 'NUM_CARS_HH_IMP', 'PARTNERS_SHOPPED_IMP',\n",
       "       'AVG_WKLY_SPND_ALL_PARTNERS_IMP', 'ENDING_PT_BALANCE_IMP',\n",
       "       'CNT_VISITS_GAS_STATION_IMP', 'FUEL_TXNS_L12_IMP',\n",
       "       'AVG_FUEL_VOL_L12_IMP', 'SHOP_TXNS_L12_IMP', 'SHOP_AVG_SPEND_L12_IMP',\n",
       "       'FUEL_CARD_FLAG', 'DISTANCE_KM', 'PROP_WKDAY_EVE', 'PROP_WKDAY_DAY',\n",
       "       'PROP_WKND', 'FUEL_CARD_FLAG_IMP', 'DISTANCE_KM_IMP',\n",
       "       'PROP_WKDAY_EVE_IMP', 'PROP_WKDAY_DAY_IMP', 'PROP_WKND_IMP',\n",
       "       'CLIENT_GENDER_MISS', 'CLIENT_AGE_BAND_MISS', 'CLIENT_REGION_MISS',\n",
       "       'REWARD_HIST_SEGMENT_MISS'],\n",
       "      dtype='object')"
      ]
     },
     "execution_count": 119,
     "metadata": {},
     "output_type": "execute_result"
    }
   ],
   "source": [
    "combine_1.columns"
   ]
  },
  {
   "cell_type": "code",
   "execution_count": 120,
   "metadata": {},
   "outputs": [
    {
     "data": {
      "text/plain": [
       "NUM_FMLY_MEMBERS_LOG              0\n",
       "NUM_CARS_HH_LOG                   0\n",
       "PARTNERS_SHOPPED_LOG              0\n",
       "AVG_WKLY_SPND_ALL_PARTNERS_LOG    0\n",
       "ENDING_PT_BALANCE_LOG             0\n",
       "CNT_VISITS_GAS_STATION_LOG        0\n",
       "FUEL_TXNS_L12_LOG                 0\n",
       "AVG_FUEL_VOL_L12_LOG              0\n",
       "SHOP_TXNS_L12_LOG                 0\n",
       "SHOP_AVG_SPEND_L12_LOG            0\n",
       "NUM_FMLY_MEMBERS_IMP              0\n",
       "NUM_CARS_HH_IMP                   0\n",
       "PARTNERS_SHOPPED_IMP              0\n",
       "AVG_WKLY_SPND_ALL_PARTNERS_IMP    0\n",
       "ENDING_PT_BALANCE_IMP             0\n",
       "CNT_VISITS_GAS_STATION_IMP        0\n",
       "FUEL_TXNS_L12_IMP                 0\n",
       "AVG_FUEL_VOL_L12_IMP              0\n",
       "SHOP_TXNS_L12_IMP                 0\n",
       "SHOP_AVG_SPEND_L12_IMP            0\n",
       "FUEL_CARD_FLAG                    0\n",
       "DISTANCE_KM                       0\n",
       "PROP_WKDAY_EVE                    0\n",
       "PROP_WKDAY_DAY                    0\n",
       "PROP_WKND                         0\n",
       "FUEL_CARD_FLAG_IMP                0\n",
       "DISTANCE_KM_IMP                   0\n",
       "PROP_WKDAY_EVE_IMP                0\n",
       "PROP_WKDAY_DAY_IMP                0\n",
       "PROP_WKND_IMP                     0\n",
       "CLIENT_GENDER_MISS                0\n",
       "CLIENT_AGE_BAND_MISS              0\n",
       "CLIENT_REGION_MISS                0\n",
       "REWARD_HIST_SEGMENT_MISS          0\n",
       "dtype: int64"
      ]
     },
     "execution_count": 120,
     "metadata": {},
     "output_type": "execute_result"
    }
   ],
   "source": [
    "#check for nulls\n",
    "combine_1.isnull().sum()"
   ]
  },
  {
   "cell_type": "code",
   "execution_count": 121,
   "metadata": {},
   "outputs": [],
   "source": [
    "#combine with labels\n",
    "labels = data['TARGET']\n",
    "combined=pd.concat([combine_1, labels], axis=1)"
   ]
  },
  {
   "cell_type": "code",
   "execution_count": 122,
   "metadata": {},
   "outputs": [
    {
     "data": {
      "text/plain": [
       "Index(['NUM_FMLY_MEMBERS_LOG', 'NUM_CARS_HH_LOG', 'PARTNERS_SHOPPED_LOG',\n",
       "       'AVG_WKLY_SPND_ALL_PARTNERS_LOG', 'ENDING_PT_BALANCE_LOG',\n",
       "       'CNT_VISITS_GAS_STATION_LOG', 'FUEL_TXNS_L12_LOG',\n",
       "       'AVG_FUEL_VOL_L12_LOG', 'SHOP_TXNS_L12_LOG', 'SHOP_AVG_SPEND_L12_LOG',\n",
       "       'NUM_FMLY_MEMBERS_IMP', 'NUM_CARS_HH_IMP', 'PARTNERS_SHOPPED_IMP',\n",
       "       'AVG_WKLY_SPND_ALL_PARTNERS_IMP', 'ENDING_PT_BALANCE_IMP',\n",
       "       'CNT_VISITS_GAS_STATION_IMP', 'FUEL_TXNS_L12_IMP',\n",
       "       'AVG_FUEL_VOL_L12_IMP', 'SHOP_TXNS_L12_IMP', 'SHOP_AVG_SPEND_L12_IMP',\n",
       "       'FUEL_CARD_FLAG', 'DISTANCE_KM', 'PROP_WKDAY_EVE', 'PROP_WKDAY_DAY',\n",
       "       'PROP_WKND', 'FUEL_CARD_FLAG_IMP', 'DISTANCE_KM_IMP',\n",
       "       'PROP_WKDAY_EVE_IMP', 'PROP_WKDAY_DAY_IMP', 'PROP_WKND_IMP',\n",
       "       'CLIENT_GENDER_MISS', 'CLIENT_AGE_BAND_MISS', 'CLIENT_REGION_MISS',\n",
       "       'REWARD_HIST_SEGMENT_MISS', 'TARGET'],\n",
       "      dtype='object')"
      ]
     },
     "execution_count": 122,
     "metadata": {},
     "output_type": "execute_result"
    }
   ],
   "source": [
    "combined.columns"
   ]
  },
  {
   "cell_type": "markdown",
   "metadata": {},
   "source": [
    "### STEP 7: FIT A CLASSIFIER\n"
   ]
  },
  {
   "cell_type": "code",
   "execution_count": 123,
   "metadata": {},
   "outputs": [],
   "source": [
    "# skelearn expects data to come in as Y and a feature vector of Xs\n",
    "\n",
    "#we have all our features in a dataframe DF (without the target colum)\n",
    "df=combine_1\n",
    "\n",
    "#we put our label in a df Y\n",
    "y=data['TARGET']\n"
   ]
  },
  {
   "cell_type": "code",
   "execution_count": 124,
   "metadata": {},
   "outputs": [],
   "source": [
    "#we create simple train and test set (we'll cover cross-validation etc. later)\n",
    "import pandas as pd\n",
    "import sklearn\n",
    "from sklearn.model_selection import train_test_split\n",
    "from matplotlib import pyplot as plt\n",
    "\n",
    "X_train, X_test, y_train, y_test = train_test_split(df, y, test_size=0.3)\n"
   ]
  },
  {
   "cell_type": "code",
   "execution_count": 125,
   "metadata": {},
   "outputs": [],
   "source": [
    "# fit a logistic regression\n",
    "from sklearn import linear_model\n",
    "logistic = linear_model.LogisticRegression(C=1e5)\n",
    "model = logistic.fit(X_train, y_train)\n"
   ]
  },
  {
   "cell_type": "code",
   "execution_count": 126,
   "metadata": {},
   "outputs": [],
   "source": [
    "# use it to predict what woudl happen on unseen data aka...the test dataset aka hold out set\n",
    "y_pred = logistic.predict(X_test)"
   ]
  },
  {
   "cell_type": "code",
   "execution_count": 127,
   "metadata": {},
   "outputs": [
    {
     "data": {
      "text/plain": [
       "array([[21588,  1768],\n",
       "       [ 3082,  3177]], dtype=int64)"
      ]
     },
     "execution_count": 127,
     "metadata": {},
     "output_type": "execute_result"
    }
   ],
   "source": [
    "#get the confusion matrix\n",
    "sklearn.metrics.confusion_matrix(y_test, y_pred, labels=None, sample_weight=None)"
   ]
  },
  {
   "cell_type": "code",
   "execution_count": null,
   "metadata": {},
   "outputs": [],
   "source": []
  },
  {
   "cell_type": "code",
   "execution_count": null,
   "metadata": {},
   "outputs": [],
   "source": []
  },
  {
   "cell_type": "code",
   "execution_count": null,
   "metadata": {},
   "outputs": [],
   "source": []
  },
  {
   "cell_type": "code",
   "execution_count": null,
   "metadata": {},
   "outputs": [],
   "source": []
  },
  {
   "cell_type": "code",
   "execution_count": null,
   "metadata": {},
   "outputs": [],
   "source": []
  }
 ],
 "metadata": {
  "kernelspec": {
   "display_name": "Python 3",
   "language": "python",
   "name": "python3"
  },
  "language_info": {
   "codemirror_mode": {
    "name": "ipython",
    "version": 3
   },
   "file_extension": ".py",
   "mimetype": "text/x-python",
   "name": "python",
   "nbconvert_exporter": "python",
   "pygments_lexer": "ipython3",
   "version": "3.7.4"
  }
 },
 "nbformat": 4,
 "nbformat_minor": 2
}
